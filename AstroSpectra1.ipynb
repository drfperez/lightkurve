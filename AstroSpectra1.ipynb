{
  "cells": [
    {
      "cell_type": "markdown",
      "metadata": {
        "id": "view-in-github",
        "colab_type": "text"
      },
      "source": [
        "<a href=\"https://colab.research.google.com/github/drfperez/lightkurve/blob/main/AstroSpectra1.ipynb\" target=\"_parent\"><img src=\"https://colab.research.google.com/assets/colab-badge.svg\" alt=\"Open In Colab\"/></a>"
      ]
    },
    {
      "cell_type": "code",
      "execution_count": null,
      "metadata": {
        "colab": {
          "base_uri": "https://localhost:8080/",
          "height": 1000
        },
        "id": "uPqVhlqUt8V4",
        "outputId": "ee687e48-5740-4063-be61-87be651b6121"
      },
      "outputs": [
        {
          "output_type": "stream",
          "name": "stdout",
          "text": [
            "Collecting astroquery\n",
            "  Downloading astroquery-0.4.7-py3-none-any.whl (5.3 MB)\n",
            "\u001b[2K     \u001b[90m━━━━━━━━━━━━━━━━━━━━━━━━━━━━━━━━━━━━━━━━\u001b[0m \u001b[32m5.3/5.3 MB\u001b[0m \u001b[31m15.1 MB/s\u001b[0m eta \u001b[36m0:00:00\u001b[0m\n",
            "\u001b[?25hRequirement already satisfied: astropy in /usr/local/lib/python3.10/dist-packages (5.3.4)\n",
            "Requirement already satisfied: pandas in /usr/local/lib/python3.10/dist-packages (2.0.3)\n",
            "Requirement already satisfied: matplotlib in /usr/local/lib/python3.10/dist-packages (3.7.1)\n",
            "Requirement already satisfied: numpy>=1.18 in /usr/local/lib/python3.10/dist-packages (from astroquery) (1.25.2)\n",
            "Requirement already satisfied: requests>=2.19 in /usr/local/lib/python3.10/dist-packages (from astroquery) (2.31.0)\n",
            "Requirement already satisfied: beautifulsoup4>=4.8 in /usr/local/lib/python3.10/dist-packages (from astroquery) (4.12.3)\n",
            "Requirement already satisfied: html5lib>=0.999 in /usr/local/lib/python3.10/dist-packages (from astroquery) (1.1)\n",
            "Requirement already satisfied: keyring>=15.0 in /usr/lib/python3/dist-packages (from astroquery) (23.5.0)\n",
            "Collecting pyvo>=1.1 (from astroquery)\n",
            "  Downloading pyvo-1.5.2-py3-none-any.whl (910 kB)\n",
            "\u001b[2K     \u001b[90m━━━━━━━━━━━━━━━━━━━━━━━━━━━━━━━━━━━━━━━━\u001b[0m \u001b[32m910.8/910.8 kB\u001b[0m \u001b[31m25.4 MB/s\u001b[0m eta \u001b[36m0:00:00\u001b[0m\n",
            "\u001b[?25hRequirement already satisfied: pyerfa>=2.0 in /usr/local/lib/python3.10/dist-packages (from astropy) (2.0.1.4)\n",
            "Requirement already satisfied: PyYAML>=3.13 in /usr/local/lib/python3.10/dist-packages (from astropy) (6.0.1)\n",
            "Requirement already satisfied: packaging>=19.0 in /usr/local/lib/python3.10/dist-packages (from astropy) (24.0)\n",
            "Requirement already satisfied: python-dateutil>=2.8.2 in /usr/local/lib/python3.10/dist-packages (from pandas) (2.8.2)\n",
            "Requirement already satisfied: pytz>=2020.1 in /usr/local/lib/python3.10/dist-packages (from pandas) (2023.4)\n",
            "Requirement already satisfied: tzdata>=2022.1 in /usr/local/lib/python3.10/dist-packages (from pandas) (2024.1)\n",
            "Requirement already satisfied: contourpy>=1.0.1 in /usr/local/lib/python3.10/dist-packages (from matplotlib) (1.2.1)\n",
            "Requirement already satisfied: cycler>=0.10 in /usr/local/lib/python3.10/dist-packages (from matplotlib) (0.12.1)\n",
            "Requirement already satisfied: fonttools>=4.22.0 in /usr/local/lib/python3.10/dist-packages (from matplotlib) (4.53.0)\n",
            "Requirement already satisfied: kiwisolver>=1.0.1 in /usr/local/lib/python3.10/dist-packages (from matplotlib) (1.4.5)\n",
            "Requirement already satisfied: pillow>=6.2.0 in /usr/local/lib/python3.10/dist-packages (from matplotlib) (9.4.0)\n",
            "Requirement already satisfied: pyparsing>=2.3.1 in /usr/local/lib/python3.10/dist-packages (from matplotlib) (3.1.2)\n",
            "Requirement already satisfied: soupsieve>1.2 in /usr/local/lib/python3.10/dist-packages (from beautifulsoup4>=4.8->astroquery) (2.5)\n",
            "Requirement already satisfied: six>=1.9 in /usr/local/lib/python3.10/dist-packages (from html5lib>=0.999->astroquery) (1.16.0)\n",
            "Requirement already satisfied: webencodings in /usr/local/lib/python3.10/dist-packages (from html5lib>=0.999->astroquery) (0.5.1)\n",
            "Requirement already satisfied: charset-normalizer<4,>=2 in /usr/local/lib/python3.10/dist-packages (from requests>=2.19->astroquery) (3.3.2)\n",
            "Requirement already satisfied: idna<4,>=2.5 in /usr/local/lib/python3.10/dist-packages (from requests>=2.19->astroquery) (3.7)\n",
            "Requirement already satisfied: urllib3<3,>=1.21.1 in /usr/local/lib/python3.10/dist-packages (from requests>=2.19->astroquery) (2.0.7)\n",
            "Requirement already satisfied: certifi>=2017.4.17 in /usr/local/lib/python3.10/dist-packages (from requests>=2.19->astroquery) (2024.6.2)\n",
            "\u001b[31mERROR: Operation cancelled by user\u001b[0m\u001b[31m\n",
            "\u001b[0m"
          ]
        },
        {
          "output_type": "error",
          "ename": "ModuleNotFoundError",
          "evalue": "No module named 'astroquery'",
          "traceback": [
            "\u001b[0;31m---------------------------------------------------------------------------\u001b[0m",
            "\u001b[0;31mModuleNotFoundError\u001b[0m                       Traceback (most recent call last)",
            "\u001b[0;32m<ipython-input-1-d351642735bb>\u001b[0m in \u001b[0;36m<cell line: 5>\u001b[0;34m()\u001b[0m\n\u001b[1;32m      3\u001b[0m \u001b[0;34m\u001b[0m\u001b[0m\n\u001b[1;32m      4\u001b[0m \u001b[0;31m# Importa les llibreries\u001b[0m\u001b[0;34m\u001b[0m\u001b[0;34m\u001b[0m\u001b[0m\n\u001b[0;32m----> 5\u001b[0;31m \u001b[0;32mfrom\u001b[0m \u001b[0mastroquery\u001b[0m\u001b[0;34m.\u001b[0m\u001b[0mmast\u001b[0m \u001b[0;32mimport\u001b[0m \u001b[0mObservations\u001b[0m\u001b[0;34m\u001b[0m\u001b[0;34m\u001b[0m\u001b[0m\n\u001b[0m\u001b[1;32m      6\u001b[0m \u001b[0;32mfrom\u001b[0m \u001b[0mastropy\u001b[0m\u001b[0;34m.\u001b[0m\u001b[0mtable\u001b[0m \u001b[0;32mimport\u001b[0m \u001b[0mTable\u001b[0m\u001b[0;34m\u001b[0m\u001b[0;34m\u001b[0m\u001b[0m\n\u001b[1;32m      7\u001b[0m \u001b[0;32mimport\u001b[0m \u001b[0mpandas\u001b[0m \u001b[0;32mas\u001b[0m \u001b[0mpd\u001b[0m\u001b[0;34m\u001b[0m\u001b[0;34m\u001b[0m\u001b[0m\n",
            "\u001b[0;31mModuleNotFoundError\u001b[0m: No module named 'astroquery'",
            "",
            "\u001b[0;31m---------------------------------------------------------------------------\u001b[0;32m\nNOTE: If your import is failing due to a missing package, you can\nmanually install dependencies using either !pip or !apt.\n\nTo view examples of installing some common dependencies, click the\n\"Open Examples\" button below.\n\u001b[0;31m---------------------------------------------------------------------------\u001b[0m\n"
          ],
          "errorDetails": {
            "actions": [
              {
                "action": "open_url",
                "actionText": "Open Examples",
                "url": "/notebooks/snippets/importing_libraries.ipynb"
              }
            ]
          }
        }
      ],
      "source": [
        "# Not memory enough in device?\n",
        "# Instal·la les llibreries necessàries\n",
        "!pip install astroquery astropy pandas matplotlib\n",
        "\n",
        "# Importa les llibreries\n",
        "from astroquery.mast import Observations\n",
        "from astropy.table import Table\n",
        "import pandas as pd\n",
        "import matplotlib.pyplot as plt\n",
        "from astropy.io import fits\n",
        "\n",
        "# Configura les opcions de visualització\n",
        "%matplotlib inline\n",
        "\n",
        "# Cerca les observacions del JWST per estrelles O o exoplanetes\n",
        "target_name = \"HD 209458\"  # Canvia \"HD 209458\" pel nom de l'objectiu\n",
        "\n",
        "# Cerca observacions espectroscòpiques\n",
        "observations = Observations.query_object(target_name, radius=\"0.02 deg\")\n",
        "\n",
        "# Filtra per col·lecció de dades JWST i tipus de producte espectroscòpic\n",
        "jwst_observations = observations[observations['obs_collection'] == 'JWST']\n",
        "spectra_observations = jwst_observations[jwst_observations['dataproduct_type'] == 'spectrum']\n",
        "\n",
        "# Mostra les primeres observacions trobades\n",
        "observations_df = spectra_observations.to_pandas()\n",
        "print(observations_df.head())\n",
        "\n",
        "# Selecciona una observació específica\n",
        "obs_id = observations_df['obsid'].iloc[0]\n",
        "\n",
        "# Descarrega les dades\n",
        "data_products = Observations.get_product_list(obs_id)\n",
        "manifest = Observations.download_products(data_products)\n",
        "\n",
        "# Filtra per productes de tipus FITS\n",
        "fits_products = data_products[data_products['productFilename'].str.endswith('.fits')]\n",
        "\n",
        "# Selecciona un fitxer espectroscòpic específic\n",
        "spectrum_file = f'mastDownload/JWST/{obs_id}/{fits_products[\"productFilename\"].iloc[0]}'\n",
        "\n",
        "# Llegeix el fitxer FITS\n",
        "with fits.open(spectrum_file) as hdul:\n",
        "    spectrum_data = Table(hdul[1].data)\n",
        "\n",
        "# Converteix a DataFrame\n",
        "spectrum_df = spectrum_data.to_pandas()\n",
        "\n",
        "# Mostra les primeres files de les dades espectroscòpiques\n",
        "print(spectrum_df.head())\n",
        "\n",
        "# Plota l'espectre\n",
        "plt.figure(figsize=(10, 6))\n",
        "plt.plot(spectrum_df['WAVELENGTH'], spectrum_df['FLUX'], marker='.', linestyle='none')\n",
        "plt.xlabel('Wavelength (Å)')\n",
        "plt.ylabel('Flux')\n",
        "plt.title(f'Spectrum of {target_name}')\n",
        "plt.show()"
      ]
    },
    {
      "cell_type": "code",
      "source": [
        "!pip install astroquery\n",
        "import pandas as pd\n",
        "from astroquery.mast import Observations\n",
        "\n",
        "# Query MAST for observations\n",
        "observations = Observations.query_criteria(\n",
        "    project='JWST',\n",
        "    intentType='science',\n",
        "    target_name='HD209458'\n",
        ")\n",
        "\n",
        "# Get data products for the observations\n",
        "data_products = Observations.get_product_list(observations)\n",
        "\n",
        "# Convert to a Pandas DataFrame\n",
        "data_products_df = data_products.to_pandas()\n",
        "\n",
        "# Filter for FITS files only\n",
        "fits_products = data_products_df[data_products_df['productFilename'].str.endswith('.fits')]\n",
        "\n",
        "# Select the first FITS file for analysis\n",
        "if not fits_products.empty:\n",
        "    first_fits_file = fits_products.iloc[0]\n",
        "    print(first_fits_file)\n",
        "else:\n",
        "    print(\"No FITS files found.\")"
      ],
      "metadata": {
        "colab": {
          "base_uri": "https://localhost:8080/"
        },
        "id": "SOI_7RD-kVpN",
        "outputId": "f51e2db2-3261-4165-8fbb-fd067a9037e0"
      },
      "execution_count": null,
      "outputs": [
        {
          "output_type": "stream",
          "name": "stdout",
          "text": [
            "Collecting astroquery\n",
            "  Using cached astroquery-0.4.7-py3-none-any.whl (5.3 MB)\n",
            "Requirement already satisfied: numpy>=1.18 in /usr/local/lib/python3.10/dist-packages (from astroquery) (1.25.2)\n",
            "Requirement already satisfied: astropy>=4.2.1 in /usr/local/lib/python3.10/dist-packages (from astroquery) (5.3.4)\n",
            "Requirement already satisfied: requests>=2.19 in /usr/local/lib/python3.10/dist-packages (from astroquery) (2.31.0)\n",
            "Requirement already satisfied: beautifulsoup4>=4.8 in /usr/local/lib/python3.10/dist-packages (from astroquery) (4.12.3)\n",
            "Requirement already satisfied: html5lib>=0.999 in /usr/local/lib/python3.10/dist-packages (from astroquery) (1.1)\n",
            "Requirement already satisfied: keyring>=15.0 in /usr/lib/python3/dist-packages (from astroquery) (23.5.0)\n",
            "Collecting pyvo>=1.1 (from astroquery)\n",
            "  Using cached pyvo-1.5.2-py3-none-any.whl (910 kB)\n",
            "Requirement already satisfied: pyerfa>=2.0 in /usr/local/lib/python3.10/dist-packages (from astropy>=4.2.1->astroquery) (2.0.1.4)\n",
            "Requirement already satisfied: PyYAML>=3.13 in /usr/local/lib/python3.10/dist-packages (from astropy>=4.2.1->astroquery) (6.0.1)\n",
            "Requirement already satisfied: packaging>=19.0 in /usr/local/lib/python3.10/dist-packages (from astropy>=4.2.1->astroquery) (24.0)\n",
            "Requirement already satisfied: soupsieve>1.2 in /usr/local/lib/python3.10/dist-packages (from beautifulsoup4>=4.8->astroquery) (2.5)\n",
            "Requirement already satisfied: six>=1.9 in /usr/local/lib/python3.10/dist-packages (from html5lib>=0.999->astroquery) (1.16.0)\n",
            "Requirement already satisfied: webencodings in /usr/local/lib/python3.10/dist-packages (from html5lib>=0.999->astroquery) (0.5.1)\n",
            "Requirement already satisfied: charset-normalizer<4,>=2 in /usr/local/lib/python3.10/dist-packages (from requests>=2.19->astroquery) (3.3.2)\n",
            "Requirement already satisfied: idna<4,>=2.5 in /usr/local/lib/python3.10/dist-packages (from requests>=2.19->astroquery) (3.7)\n",
            "Requirement already satisfied: urllib3<3,>=1.21.1 in /usr/local/lib/python3.10/dist-packages (from requests>=2.19->astroquery) (2.0.7)\n",
            "Requirement already satisfied: certifi>=2017.4.17 in /usr/local/lib/python3.10/dist-packages (from requests>=2.19->astroquery) (2024.6.2)\n",
            "Installing collected packages: pyvo, astroquery\n",
            "Successfully installed astroquery-0.4.7 pyvo-1.5.2\n",
            "obsID                                                                 100311161\n",
            "obs_collection                                                             JWST\n",
            "dataproduct_type                                                          image\n",
            "obs_id                                jw01274003001_02102_00001-seg001_nrcalong\n",
            "description                                         FGS1 guide star acquisition\n",
            "type                                                                          S\n",
            "dataURI                       mast:JWST/product/jw01274003001_gs-acq1_202231...\n",
            "productType                                                           AUXILIARY\n",
            "productGroupDescription                                                     NaN\n",
            "productSubGroupDescription                                              GS-ACQ1\n",
            "productDocumentationURL                                                     NaN\n",
            "project                                                                 CALJWST\n",
            "prvversion                                                                  NaN\n",
            "proposal_id                                                                1274\n",
            "productFilename                 jw01274003001_gs-acq1_2022310120752_stream.fits\n",
            "size                                                                     406080\n",
            "parent_obsid                                                          100379736\n",
            "dataRights                                                               PUBLIC\n",
            "calib_level                                                                   1\n",
            "filters                                                                   F335M\n",
            "Name: 0, dtype: object\n"
          ]
        }
      ]
    },
    {
      "cell_type": "code",
      "source": [
        "\n",
        "# Install necessary libraries\n",
        "!pip install astroquery astropy pandas matplotlib\n",
        "\n",
        "# Import the necessary libraries\n",
        "from astroquery.mast import Observations\n",
        "from astropy.table import Table\n",
        "import pandas as pd\n",
        "import matplotlib.pyplot as plt\n",
        "from astropy.io import fits\n",
        "\n",
        "# Configure the visualization options\n",
        "%matplotlib inline\n",
        "\n",
        "# Define the target name\n",
        "target_name = \"HD 209458\"\n",
        "\n",
        "# Search for observations from JWST\n",
        "observations = Observations.query_object(target_name, radius=\"0.02 deg\")\n",
        "\n",
        "# Filter for JWST data and spectroscopic products\n",
        "jwst_observations = observations[observations['obs_collection'] == 'JWST']\n",
        "spectra_observations = jwst_observations[jwst_observations['dataproduct_type'] == 'spectrum']\n",
        "\n",
        "# Convert to a Pandas DataFrame and display the first few observations\n",
        "observations_df = spectra_observations.to_pandas()\n",
        "print(observations_df.head())\n",
        "\n",
        "# Ensure there are spectroscopic observations\n",
        "if not spectra_observations:\n",
        "    print(\"No spectroscopic observations found for the target.\")\n",
        "else:\n",
        "    # Select a specific observation ID\n",
        "    obs_id = observations_df['obsid'].iloc[0]\n",
        "\n",
        "    # Get the data products for the selected observation\n",
        "    data_products = Observations.get_product_list(obs_id)\n",
        "    manifest = Observations.download_products(data_products)\n",
        "\n",
        "    # Filter for FITS files\n",
        "    data_products_df = data_products.to_pandas()\n",
        "    fits_files = data_products_df[data_products_df['productFilename'].str.endswith('.fits')]\n",
        "\n",
        "    # Ensure there are FITS files\n",
        "    if fits_files.empty:\n",
        "        print(\"No FITS files found in the data products.\")\n",
        "    else:\n",
        "        # Select a specific FITS file\n",
        "        spectrum_file = fits_files.iloc[0]['productFilename']\n",
        "        local_path = f'mastDownload/JWST/{obs_id}/{spectrum_file}'\n",
        "\n",
        "        # Open the FITS file and read the data\n",
        "        with fits.open(local_path) as hdul:\n",
        "            spectrum_data = Table(hdul[1].data)\n",
        "\n",
        "        # Convert the spectrum data to a Pandas DataFrame\n",
        "        spectrum_df = spectrum_data.to_pandas()\n",
        "\n",
        "        # Display the first few rows of the spectroscopic data\n",
        "        print(spectrum_df.head())\n",
        "\n",
        "        # Plot the spectrum\n",
        "        plt.figure(figsize=(10, 6))\n",
        "        plt.plot(spectrum_df['WAVELENGTH'], spectrum_df['FLUX'], marker='.', linestyle='none')\n",
        "        plt.xlabel('Wavelength (Å)')\n",
        "        plt.ylabel('Flux')\n",
        "        plt.title(f'Spectrum of {target_name}')\n",
        "        plt.show()"
      ],
      "metadata": {
        "colab": {
          "base_uri": "https://localhost:8080/",
          "height": 1000
        },
        "id": "SEXI0R87lnff",
        "outputId": "fd7dadd1-4414-40a7-95b3-993e124ef457"
      },
      "execution_count": null,
      "outputs": [
        {
          "output_type": "stream",
          "name": "stdout",
          "text": [
            "Requirement already satisfied: astroquery in /usr/local/lib/python3.10/dist-packages (0.4.7)\n",
            "Requirement already satisfied: astropy in /usr/local/lib/python3.10/dist-packages (5.3.4)\n",
            "Requirement already satisfied: pandas in /usr/local/lib/python3.10/dist-packages (2.0.3)\n",
            "Requirement already satisfied: matplotlib in /usr/local/lib/python3.10/dist-packages (3.7.1)\n",
            "Requirement already satisfied: numpy>=1.18 in /usr/local/lib/python3.10/dist-packages (from astroquery) (1.25.2)\n",
            "Requirement already satisfied: requests>=2.19 in /usr/local/lib/python3.10/dist-packages (from astroquery) (2.31.0)\n",
            "Requirement already satisfied: beautifulsoup4>=4.8 in /usr/local/lib/python3.10/dist-packages (from astroquery) (4.12.3)\n",
            "Requirement already satisfied: html5lib>=0.999 in /usr/local/lib/python3.10/dist-packages (from astroquery) (1.1)\n",
            "Requirement already satisfied: keyring>=15.0 in /usr/lib/python3/dist-packages (from astroquery) (23.5.0)\n",
            "Requirement already satisfied: pyvo>=1.1 in /usr/local/lib/python3.10/dist-packages (from astroquery) (1.5.2)\n",
            "Requirement already satisfied: pyerfa>=2.0 in /usr/local/lib/python3.10/dist-packages (from astropy) (2.0.1.4)\n",
            "Requirement already satisfied: PyYAML>=3.13 in /usr/local/lib/python3.10/dist-packages (from astropy) (6.0.1)\n",
            "Requirement already satisfied: packaging>=19.0 in /usr/local/lib/python3.10/dist-packages (from astropy) (24.0)\n",
            "Requirement already satisfied: python-dateutil>=2.8.2 in /usr/local/lib/python3.10/dist-packages (from pandas) (2.8.2)\n",
            "Requirement already satisfied: pytz>=2020.1 in /usr/local/lib/python3.10/dist-packages (from pandas) (2023.4)\n",
            "Requirement already satisfied: tzdata>=2022.1 in /usr/local/lib/python3.10/dist-packages (from pandas) (2024.1)\n",
            "Requirement already satisfied: contourpy>=1.0.1 in /usr/local/lib/python3.10/dist-packages (from matplotlib) (1.2.1)\n",
            "Requirement already satisfied: cycler>=0.10 in /usr/local/lib/python3.10/dist-packages (from matplotlib) (0.12.1)\n",
            "Requirement already satisfied: fonttools>=4.22.0 in /usr/local/lib/python3.10/dist-packages (from matplotlib) (4.53.0)\n",
            "Requirement already satisfied: kiwisolver>=1.0.1 in /usr/local/lib/python3.10/dist-packages (from matplotlib) (1.4.5)\n",
            "Requirement already satisfied: pillow>=6.2.0 in /usr/local/lib/python3.10/dist-packages (from matplotlib) (9.4.0)\n",
            "Requirement already satisfied: pyparsing>=2.3.1 in /usr/local/lib/python3.10/dist-packages (from matplotlib) (3.1.2)\n",
            "Requirement already satisfied: soupsieve>1.2 in /usr/local/lib/python3.10/dist-packages (from beautifulsoup4>=4.8->astroquery) (2.5)\n",
            "Requirement already satisfied: six>=1.9 in /usr/local/lib/python3.10/dist-packages (from html5lib>=0.999->astroquery) (1.16.0)\n",
            "Requirement already satisfied: webencodings in /usr/local/lib/python3.10/dist-packages (from html5lib>=0.999->astroquery) (0.5.1)\n",
            "Requirement already satisfied: charset-normalizer<4,>=2 in /usr/local/lib/python3.10/dist-packages (from requests>=2.19->astroquery) (3.3.2)\n",
            "Requirement already satisfied: idna<4,>=2.5 in /usr/local/lib/python3.10/dist-packages (from requests>=2.19->astroquery) (3.7)\n",
            "Requirement already satisfied: urllib3<3,>=1.21.1 in /usr/local/lib/python3.10/dist-packages (from requests>=2.19->astroquery) (2.0.7)\n",
            "Requirement already satisfied: certifi>=2017.4.17 in /usr/local/lib/python3.10/dist-packages (from requests>=2.19->astroquery) (2024.6.2)\n",
            "  intentType obs_collection provenance_name instrument_name project  \\\n",
            "0    science           JWST         CALJWST    NIRCAM/GRISM    JWST   \n",
            "1    science           JWST         CALJWST    NIRCAM/GRISM    JWST   \n",
            "2    science           JWST         CALJWST   MIRI/SLITLESS    JWST   \n",
            "\n",
            "         filters wavelength_region target_name  \\\n",
            "0  F322W2;GRISMR          Infrared    HD209458   \n",
            "1   F444W;GRISMR          Infrared    HD209458   \n",
            "2          P750L          Infrared   HD-209458   \n",
            "\n",
            "               target_classification  \\\n",
            "0  Star; Exoplanet Systems; G dwarfs   \n",
            "1  Star; Exoplanet Systems; G dwarfs   \n",
            "2                   Star; Exoplanets   \n",
            "\n",
            "                                              obs_id  ...  proposal_type  \\\n",
            "0  jw01274-o002_t002_nircam_f322w2-grismr-subgrism64  ...            GTO   \n",
            "1   jw01274-o003_t002_nircam_f444w-grismr-subgrism64  ...            GTO   \n",
            "2         jw02667-o051_t001_miri_p750l-slitlessprism  ...             GO   \n",
            "\n",
            "   sequence_number                                           s_region jpegURL  \\\n",
            "0             <NA>  POLYGON 330.82464956 18.88380543 330.78628759 ...     NaN   \n",
            "1             <NA>  POLYGON 330.81165566 18.88374319 330.7733084 1...     NaN   \n",
            "2             <NA>  POLYGON 330.79555274 18.87486285 330.79326294 ...     NaN   \n",
            "\n",
            "                                             dataURL        dataRights  \\\n",
            "0  mast:JWST/product/jw01274-o002_t002_nircam_f32...            PUBLIC   \n",
            "1  mast:JWST/product/jw01274-o003_t002_nircam_f44...            PUBLIC   \n",
            "2  mast:JWST/product/jw02667-o051_t001_miri_p750l...  EXCLUSIVE_ACCESS   \n",
            "\n",
            "   mtFlag  srcDen      obsid  distance  \n",
            "0   False     NaN  100714281       0.0  \n",
            "1   False     NaN  100379736       0.0  \n",
            "2   False     NaN  158352467       0.0  \n",
            "\n",
            "[3 rows x 33 columns]\n"
          ]
        },
        {
          "output_type": "stream",
          "name": "stderr",
          "text": [
            "INFO:astroquery:26 of 224 products were duplicates. Only downloading 198 unique product(s).\n",
            "INFO:astroquery:Found cached file ./mastDownload/JWST/jw01274002001_02102_00001-seg001_nrcalong/jw01274-o002_20240522t020405_image2_00001_asn.json with expected size 1438.\n"
          ]
        },
        {
          "output_type": "stream",
          "name": "stdout",
          "text": [
            "INFO: 26 of 224 products were duplicates. Only downloading 198 unique product(s). [astroquery.mast.observations]\n",
            "INFO: Found cached file ./mastDownload/JWST/jw01274002001_02102_00001-seg001_nrcalong/jw01274-o002_20240522t020405_image2_00001_asn.json with expected size 1438. [astroquery.query]\n"
          ]
        },
        {
          "output_type": "stream",
          "name": "stderr",
          "text": [
            "INFO:astroquery:Found cached file ./mastDownload/JWST/jw01274002001_04103_00001-seg013_nrcalong/jw01274-o002_20240522t020405_tso-spec2_00001_asn.json with expected size 1917.\n"
          ]
        },
        {
          "output_type": "stream",
          "name": "stdout",
          "text": [
            "INFO: Found cached file ./mastDownload/JWST/jw01274002001_04103_00001-seg013_nrcalong/jw01274-o002_20240522t020405_tso-spec2_00001_asn.json with expected size 1917. [astroquery.query]\n"
          ]
        },
        {
          "output_type": "stream",
          "name": "stderr",
          "text": [
            "INFO:astroquery:Found cached file ./mastDownload/JWST/jw01274002001_04103_00001-seg012_nrcalong/jw01274-o002_20240522t020405_tso-spec2_00002_asn.json with expected size 1917.\n"
          ]
        },
        {
          "output_type": "stream",
          "name": "stdout",
          "text": [
            "INFO: Found cached file ./mastDownload/JWST/jw01274002001_04103_00001-seg012_nrcalong/jw01274-o002_20240522t020405_tso-spec2_00002_asn.json with expected size 1917. [astroquery.query]\n"
          ]
        },
        {
          "output_type": "stream",
          "name": "stderr",
          "text": [
            "INFO:astroquery:Found cached file ./mastDownload/JWST/jw01274002001_04103_00001-seg011_nrcalong/jw01274-o002_20240522t020405_tso-spec2_00003_asn.json with expected size 1917.\n"
          ]
        },
        {
          "output_type": "stream",
          "name": "stdout",
          "text": [
            "INFO: Found cached file ./mastDownload/JWST/jw01274002001_04103_00001-seg011_nrcalong/jw01274-o002_20240522t020405_tso-spec2_00003_asn.json with expected size 1917. [astroquery.query]\n"
          ]
        },
        {
          "output_type": "stream",
          "name": "stderr",
          "text": [
            "INFO:astroquery:Found cached file ./mastDownload/JWST/jw01274002001_04103_00001-seg010_nrcalong/jw01274-o002_20240522t020405_tso-spec2_00004_asn.json with expected size 1917.\n"
          ]
        },
        {
          "output_type": "stream",
          "name": "stdout",
          "text": [
            "INFO: Found cached file ./mastDownload/JWST/jw01274002001_04103_00001-seg010_nrcalong/jw01274-o002_20240522t020405_tso-spec2_00004_asn.json with expected size 1917. [astroquery.query]\n"
          ]
        },
        {
          "output_type": "stream",
          "name": "stderr",
          "text": [
            "INFO:astroquery:Found cached file ./mastDownload/JWST/jw01274002001_04103_00001-seg009_nrcalong/jw01274-o002_20240522t020405_tso-spec2_00005_asn.json with expected size 1917.\n"
          ]
        },
        {
          "output_type": "stream",
          "name": "stdout",
          "text": [
            "INFO: Found cached file ./mastDownload/JWST/jw01274002001_04103_00001-seg009_nrcalong/jw01274-o002_20240522t020405_tso-spec2_00005_asn.json with expected size 1917. [astroquery.query]\n"
          ]
        },
        {
          "output_type": "stream",
          "name": "stderr",
          "text": [
            "INFO:astroquery:Found cached file ./mastDownload/JWST/jw01274002001_04103_00001-seg008_nrcalong/jw01274-o002_20240522t020405_tso-spec2_00006_asn.json with expected size 1917.\n"
          ]
        },
        {
          "output_type": "stream",
          "name": "stdout",
          "text": [
            "INFO: Found cached file ./mastDownload/JWST/jw01274002001_04103_00001-seg008_nrcalong/jw01274-o002_20240522t020405_tso-spec2_00006_asn.json with expected size 1917. [astroquery.query]\n"
          ]
        },
        {
          "output_type": "stream",
          "name": "stderr",
          "text": [
            "INFO:astroquery:Found cached file ./mastDownload/JWST/jw01274002001_04103_00001-seg007_nrcalong/jw01274-o002_20240522t020405_tso-spec2_00007_asn.json with expected size 1917.\n"
          ]
        },
        {
          "output_type": "stream",
          "name": "stdout",
          "text": [
            "INFO: Found cached file ./mastDownload/JWST/jw01274002001_04103_00001-seg007_nrcalong/jw01274-o002_20240522t020405_tso-spec2_00007_asn.json with expected size 1917. [astroquery.query]\n"
          ]
        },
        {
          "output_type": "stream",
          "name": "stderr",
          "text": [
            "INFO:astroquery:Found cached file ./mastDownload/JWST/jw01274002001_04103_00001-seg006_nrcalong/jw01274-o002_20240522t020405_tso-spec2_00008_asn.json with expected size 1917.\n"
          ]
        },
        {
          "output_type": "stream",
          "name": "stdout",
          "text": [
            "INFO: Found cached file ./mastDownload/JWST/jw01274002001_04103_00001-seg006_nrcalong/jw01274-o002_20240522t020405_tso-spec2_00008_asn.json with expected size 1917. [astroquery.query]\n"
          ]
        },
        {
          "output_type": "stream",
          "name": "stderr",
          "text": [
            "INFO:astroquery:Found cached file ./mastDownload/JWST/jw01274002001_04103_00001-seg005_nrcalong/jw01274-o002_20240522t020405_tso-spec2_00009_asn.json with expected size 1917.\n"
          ]
        },
        {
          "output_type": "stream",
          "name": "stdout",
          "text": [
            "INFO: Found cached file ./mastDownload/JWST/jw01274002001_04103_00001-seg005_nrcalong/jw01274-o002_20240522t020405_tso-spec2_00009_asn.json with expected size 1917. [astroquery.query]\n"
          ]
        },
        {
          "output_type": "stream",
          "name": "stderr",
          "text": [
            "INFO:astroquery:Found cached file ./mastDownload/JWST/jw01274002001_04103_00001-seg004_nrcalong/jw01274-o002_20240522t020405_tso-spec2_00010_asn.json with expected size 1917.\n"
          ]
        },
        {
          "output_type": "stream",
          "name": "stdout",
          "text": [
            "INFO: Found cached file ./mastDownload/JWST/jw01274002001_04103_00001-seg004_nrcalong/jw01274-o002_20240522t020405_tso-spec2_00010_asn.json with expected size 1917. [astroquery.query]\n"
          ]
        },
        {
          "output_type": "stream",
          "name": "stderr",
          "text": [
            "INFO:astroquery:Found cached file ./mastDownload/JWST/jw01274002001_04103_00001-seg003_nrcalong/jw01274-o002_20240522t020405_tso-spec2_00011_asn.json with expected size 1917.\n"
          ]
        },
        {
          "output_type": "stream",
          "name": "stdout",
          "text": [
            "INFO: Found cached file ./mastDownload/JWST/jw01274002001_04103_00001-seg003_nrcalong/jw01274-o002_20240522t020405_tso-spec2_00011_asn.json with expected size 1917. [astroquery.query]\n"
          ]
        },
        {
          "output_type": "stream",
          "name": "stderr",
          "text": [
            "INFO:astroquery:Found cached file ./mastDownload/JWST/jw01274002001_04103_00001-seg002_nrcalong/jw01274-o002_20240522t020405_tso-spec2_00012_asn.json with expected size 1917.\n"
          ]
        },
        {
          "output_type": "stream",
          "name": "stdout",
          "text": [
            "INFO: Found cached file ./mastDownload/JWST/jw01274002001_04103_00001-seg002_nrcalong/jw01274-o002_20240522t020405_tso-spec2_00012_asn.json with expected size 1917. [astroquery.query]\n"
          ]
        },
        {
          "output_type": "stream",
          "name": "stderr",
          "text": [
            "INFO:astroquery:Found cached file ./mastDownload/JWST/jw01274002001_04103_00001-seg001_nrcalong/jw01274-o002_20240522t020405_tso-spec2_00013_asn.json with expected size 1917.\n"
          ]
        },
        {
          "output_type": "stream",
          "name": "stdout",
          "text": [
            "INFO: Found cached file ./mastDownload/JWST/jw01274002001_04103_00001-seg001_nrcalong/jw01274-o002_20240522t020405_tso-spec2_00013_asn.json with expected size 1917. [astroquery.query]\n"
          ]
        },
        {
          "output_type": "stream",
          "name": "stderr",
          "text": [
            "INFO:astroquery:Found cached file ./mastDownload/JWST/jw01274-o002_t002_nircam_f322w2-grismr-subgrism64/jw01274-o002_20240522t020405_tso3_00001_asn.json with expected size 6006.\n"
          ]
        },
        {
          "output_type": "stream",
          "name": "stdout",
          "text": [
            "INFO: Found cached file ./mastDownload/JWST/jw01274-o002_t002_nircam_f322w2-grismr-subgrism64/jw01274-o002_20240522t020405_tso3_00001_asn.json with expected size 6006. [astroquery.query]\n"
          ]
        },
        {
          "output_type": "stream",
          "name": "stderr",
          "text": [
            "INFO:astroquery:Found cached file ./mastDownload/JWST/jw01274002001_04103_00001-seg002_nrcalong/jw01274-o002_t002_nircam_clear-wlp4-subgrism64_phot.ecsv with expected size 4537665.\n"
          ]
        },
        {
          "output_type": "stream",
          "name": "stdout",
          "text": [
            "INFO: Found cached file ./mastDownload/JWST/jw01274002001_04103_00001-seg002_nrcalong/jw01274-o002_t002_nircam_clear-wlp4-subgrism64_phot.ecsv with expected size 4537665. [astroquery.query]\n"
          ]
        },
        {
          "output_type": "stream",
          "name": "stderr",
          "text": [
            "INFO:astroquery:Found cached file ./mastDownload/JWST/jw01274-o002_t002_nircam_f322w2-grismr-subgrism64/jw01274-o002_t002_nircam_f322w2-grismr-subgrism64_whtlt.ecsv with expected size 348176.\n"
          ]
        },
        {
          "output_type": "stream",
          "name": "stdout",
          "text": [
            "INFO: Found cached file ./mastDownload/JWST/jw01274-o002_t002_nircam_f322w2-grismr-subgrism64/jw01274-o002_t002_nircam_f322w2-grismr-subgrism64_whtlt.ecsv with expected size 348176. [astroquery.query]\n"
          ]
        },
        {
          "output_type": "stream",
          "name": "stderr",
          "text": [
            "INFO:astroquery:Found cached file ./mastDownload/JWST/jw01274-o002_t002_nircam_f322w2-grismr-subgrism64/jw01274-o002_t002_nircam_f322w2-grismr-subgrism64_x1dints.fits with expected size 3091351680.\n"
          ]
        },
        {
          "output_type": "stream",
          "name": "stdout",
          "text": [
            "INFO: Found cached file ./mastDownload/JWST/jw01274-o002_t002_nircam_f322w2-grismr-subgrism64/jw01274-o002_t002_nircam_f322w2-grismr-subgrism64_x1dints.fits with expected size 3091351680. [astroquery.query]\n"
          ]
        },
        {
          "output_type": "stream",
          "name": "stderr",
          "text": [
            "INFO:astroquery:Found cached file ./mastDownload/JWST/jw01274002001_02102_00001-seg001_nrcalong/jw01274002001_02102_00001-seg001_nrcalong_cal.fits with expected size 123840.\n"
          ]
        },
        {
          "output_type": "stream",
          "name": "stdout",
          "text": [
            "INFO: Found cached file ./mastDownload/JWST/jw01274002001_02102_00001-seg001_nrcalong/jw01274002001_02102_00001-seg001_nrcalong_cal.fits with expected size 123840. [astroquery.query]\n"
          ]
        },
        {
          "output_type": "stream",
          "name": "stderr",
          "text": [
            "INFO:astroquery:Found cached file ./mastDownload/JWST/jw01274002001_02102_00001-seg001_nrcalong/jw01274002001_02102_00001-seg001_nrcalong_cal.jpg with expected size 846.\n"
          ]
        },
        {
          "output_type": "stream",
          "name": "stdout",
          "text": [
            "INFO: Found cached file ./mastDownload/JWST/jw01274002001_02102_00001-seg001_nrcalong/jw01274002001_02102_00001-seg001_nrcalong_cal.jpg with expected size 846. [astroquery.query]\n"
          ]
        },
        {
          "output_type": "stream",
          "name": "stderr",
          "text": [
            "INFO:astroquery:Found cached file ./mastDownload/JWST/jw01274002001_02102_00001-seg001_nrcalong/jw01274002001_02102_00001-seg001_nrcalong_ramp.fits with expected size 118080.\n"
          ]
        },
        {
          "output_type": "stream",
          "name": "stdout",
          "text": [
            "INFO: Found cached file ./mastDownload/JWST/jw01274002001_02102_00001-seg001_nrcalong/jw01274002001_02102_00001-seg001_nrcalong_ramp.fits with expected size 118080. [astroquery.query]\n"
          ]
        },
        {
          "output_type": "stream",
          "name": "stderr",
          "text": [
            "INFO:astroquery:Found cached file ./mastDownload/JWST/jw01274002001_02102_00001-seg001_nrcalong/jw01274002001_02102_00001-seg001_nrcalong_ramp.jpg with expected size 819.\n"
          ]
        },
        {
          "output_type": "stream",
          "name": "stdout",
          "text": [
            "INFO: Found cached file ./mastDownload/JWST/jw01274002001_02102_00001-seg001_nrcalong/jw01274002001_02102_00001-seg001_nrcalong_ramp.jpg with expected size 819. [astroquery.query]\n"
          ]
        },
        {
          "output_type": "stream",
          "name": "stderr",
          "text": [
            "INFO:astroquery:Found cached file ./mastDownload/JWST/jw01274002001_02102_00001-seg001_nrcalong/jw01274002001_02102_00001-seg001_nrcalong_rate.fits with expected size 80640.\n"
          ]
        },
        {
          "output_type": "stream",
          "name": "stdout",
          "text": [
            "INFO: Found cached file ./mastDownload/JWST/jw01274002001_02102_00001-seg001_nrcalong/jw01274002001_02102_00001-seg001_nrcalong_rate.fits with expected size 80640. [astroquery.query]\n"
          ]
        },
        {
          "output_type": "stream",
          "name": "stderr",
          "text": [
            "INFO:astroquery:Found cached file ./mastDownload/JWST/jw01274002001_02102_00001-seg001_nrcalong/jw01274002001_02102_00001-seg001_nrcalong_rate.jpg with expected size 805.\n"
          ]
        },
        {
          "output_type": "stream",
          "name": "stdout",
          "text": [
            "INFO: Found cached file ./mastDownload/JWST/jw01274002001_02102_00001-seg001_nrcalong/jw01274002001_02102_00001-seg001_nrcalong_rate.jpg with expected size 805. [astroquery.query]\n"
          ]
        },
        {
          "output_type": "stream",
          "name": "stderr",
          "text": [
            "INFO:astroquery:Found cached file ./mastDownload/JWST/jw01274002001_02102_00001-seg001_nrcalong/jw01274002001_02102_00001-seg001_nrcalong_rateints.fits with expected size 86400.\n"
          ]
        },
        {
          "output_type": "stream",
          "name": "stdout",
          "text": [
            "INFO: Found cached file ./mastDownload/JWST/jw01274002001_02102_00001-seg001_nrcalong/jw01274002001_02102_00001-seg001_nrcalong_rateints.fits with expected size 86400. [astroquery.query]\n"
          ]
        },
        {
          "output_type": "stream",
          "name": "stderr",
          "text": [
            "INFO:astroquery:Found cached file ./mastDownload/JWST/jw01274002001_02102_00001-seg001_nrcalong/jw01274002001_02102_00001-seg001_nrcalong_rateints.jpg with expected size 805.\n"
          ]
        },
        {
          "output_type": "stream",
          "name": "stdout",
          "text": [
            "INFO: Found cached file ./mastDownload/JWST/jw01274002001_02102_00001-seg001_nrcalong/jw01274002001_02102_00001-seg001_nrcalong_rateints.jpg with expected size 805. [astroquery.query]\n"
          ]
        },
        {
          "output_type": "stream",
          "name": "stderr",
          "text": [
            "INFO:astroquery:Found cached file ./mastDownload/JWST/jw01274002001_02102_00001-seg001_nrcalong/jw01274002001_02102_00001-seg001_nrcalong_uncal.fits with expected size 72000.\n"
          ]
        },
        {
          "output_type": "stream",
          "name": "stdout",
          "text": [
            "INFO: Found cached file ./mastDownload/JWST/jw01274002001_02102_00001-seg001_nrcalong/jw01274002001_02102_00001-seg001_nrcalong_uncal.fits with expected size 72000. [astroquery.query]\n"
          ]
        },
        {
          "output_type": "stream",
          "name": "stderr",
          "text": [
            "INFO:astroquery:Found cached file ./mastDownload/JWST/jw01274002001_02102_00001-seg001_nrcalong/jw01274002001_02102_00001-seg001_nrcalong_uncal.jpg with expected size 918.\n"
          ]
        },
        {
          "output_type": "stream",
          "name": "stdout",
          "text": [
            "INFO: Found cached file ./mastDownload/JWST/jw01274002001_02102_00001-seg001_nrcalong/jw01274002001_02102_00001-seg001_nrcalong_uncal.jpg with expected size 918. [astroquery.query]\n"
          ]
        },
        {
          "output_type": "stream",
          "name": "stderr",
          "text": [
            "INFO:astroquery:Found cached file ./mastDownload/JWST/jw01274002001_04103_00001-seg001_nrcalong/jw01274002001_04103_00001-seg001_nrcalong_calints.fits with expected size 2797231680.\n"
          ]
        },
        {
          "output_type": "stream",
          "name": "stdout",
          "text": [
            "INFO: Found cached file ./mastDownload/JWST/jw01274002001_04103_00001-seg001_nrcalong/jw01274002001_04103_00001-seg001_nrcalong_calints.fits with expected size 2797231680. [astroquery.query]\n"
          ]
        },
        {
          "output_type": "stream",
          "name": "stderr",
          "text": [
            "INFO:astroquery:Found cached file ./mastDownload/JWST/jw01274002001_04103_00001-seg001_nrcalong/jw01274002001_04103_00001-seg001_nrcalong_calints.jpg with expected size 16697.\n"
          ]
        },
        {
          "output_type": "stream",
          "name": "stdout",
          "text": [
            "INFO: Found cached file ./mastDownload/JWST/jw01274002001_04103_00001-seg001_nrcalong/jw01274002001_04103_00001-seg001_nrcalong_calints.jpg with expected size 16697. [astroquery.query]\n"
          ]
        },
        {
          "output_type": "stream",
          "name": "stderr",
          "text": [
            "INFO:astroquery:Found cached file ./mastDownload/JWST/jw01274002001_04103_00001-seg001_nrcalong/jw01274002001_04103_00001-seg001_nrcalong_o002_crfints.fits with expected size 2797231680.\n"
          ]
        },
        {
          "output_type": "stream",
          "name": "stdout",
          "text": [
            "INFO: Found cached file ./mastDownload/JWST/jw01274002001_04103_00001-seg001_nrcalong/jw01274002001_04103_00001-seg001_nrcalong_o002_crfints.fits with expected size 2797231680. [astroquery.query]\n"
          ]
        },
        {
          "output_type": "stream",
          "name": "stderr",
          "text": [
            "INFO:astroquery:Found cached file ./mastDownload/JWST/jw01274002001_04103_00001-seg001_nrcalong/jw01274002001_04103_00001-seg001_nrcalong_o002_crfints.jpg with expected size 16697.\n"
          ]
        },
        {
          "output_type": "stream",
          "name": "stdout",
          "text": [
            "INFO: Found cached file ./mastDownload/JWST/jw01274002001_04103_00001-seg001_nrcalong/jw01274002001_04103_00001-seg001_nrcalong_o002_crfints.jpg with expected size 16697. [astroquery.query]\n"
          ]
        },
        {
          "output_type": "stream",
          "name": "stderr",
          "text": [
            "WARNING: Found cached file ./mastDownload/JWST/jw01274002001_04103_00001-seg001_nrcalong/jw01274002001_04103_00001-seg001_nrcalong_ramp.fits with size 805896192 that is different from expected size 3995858880 [astroquery.query]\n",
            "WARNING:astroquery:Found cached file ./mastDownload/JWST/jw01274002001_04103_00001-seg001_nrcalong/jw01274002001_04103_00001-seg001_nrcalong_ramp.fits with size 805896192 that is different from expected size 3995858880\n"
          ]
        },
        {
          "output_type": "stream",
          "name": "stdout",
          "text": [
            " [Done]\n",
            "Downloading URL https://mast.stsci.edu/api/v0.1/Download/file?uri=mast:JWST/product/jw01274002001_04103_00001-seg001_nrcalong_ramp.jpg to ./mastDownload/JWST/jw01274002001_04103_00001-seg001_nrcalong/jw01274002001_04103_00001-seg001_nrcalong_ramp.jpg ... [Done]\n",
            "Downloading URL https://mast.stsci.edu/api/v0.1/Download/file?uri=mast:JWST/product/jw01274002001_04103_00001-seg001_nrcalong_rate.fits to ./mastDownload/JWST/jw01274002001_04103_00001-seg001_nrcalong/jw01274002001_04103_00001-seg001_nrcalong_rate.fits ... [Done]\n",
            "Downloading URL https://mast.stsci.edu/api/v0.1/Download/file?uri=mast:JWST/product/jw01274002001_04103_00001-seg001_nrcalong_rate.jpg to ./mastDownload/JWST/jw01274002001_04103_00001-seg001_nrcalong/jw01274002001_04103_00001-seg001_nrcalong_rate.jpg ... [Done]\n",
            "Downloading URL https://mast.stsci.edu/api/v0.1/Download/file?uri=mast:JWST/product/jw01274002001_04103_00001-seg001_nrcalong_rateints.fits to ./mastDownload/JWST/jw01274002001_04103_00001-seg001_nrcalong/jw01274002001_04103_00001-seg001_nrcalong_rateints.fits ... [Done]\n",
            "Downloading URL https://mast.stsci.edu/api/v0.1/Download/file?uri=mast:JWST/product/jw01274002001_04103_00001-seg001_nrcalong_rateints.jpg to ./mastDownload/JWST/jw01274002001_04103_00001-seg001_nrcalong/jw01274002001_04103_00001-seg001_nrcalong_rateints.jpg ... [Done]\n",
            "Downloading URL https://mast.stsci.edu/api/v0.1/Download/file?uri=mast:JWST/product/jw01274002001_04103_00001-seg001_nrcalong_uncal.fits to ./mastDownload/JWST/jw01274002001_04103_00001-seg001_nrcalong/jw01274002001_04103_00001-seg001_nrcalong_uncal.fits ... [Done]\n",
            "Downloading URL https://mast.stsci.edu/api/v0.1/Download/file?uri=mast:JWST/product/jw01274002001_04103_00001-seg001_nrcalong_uncal.jpg to ./mastDownload/JWST/jw01274002001_04103_00001-seg001_nrcalong/jw01274002001_04103_00001-seg001_nrcalong_uncal.jpg ... [Done]\n",
            "Downloading URL https://mast.stsci.edu/api/v0.1/Download/file?uri=mast:JWST/product/jw01274002001_04103_00001-seg001_nrcalong_x1dints.fits to ./mastDownload/JWST/jw01274002001_04103_00001-seg001_nrcalong/jw01274002001_04103_00001-seg001_nrcalong_x1dints.fits ... [Done]\n",
            "Downloading URL https://mast.stsci.edu/api/v0.1/Download/file?uri=mast:JWST/product/jw01274002001_04103_00001-seg002_nrcalong_calints.fits to ./mastDownload/JWST/jw01274002001_04103_00001-seg002_nrcalong/jw01274002001_04103_00001-seg002_nrcalong_calints.fits ... [Done]\n",
            "Downloading URL https://mast.stsci.edu/api/v0.1/Download/file?uri=mast:JWST/product/jw01274002001_04103_00001-seg002_nrcalong_calints.jpg to ./mastDownload/JWST/jw01274002001_04103_00001-seg002_nrcalong/jw01274002001_04103_00001-seg002_nrcalong_calints.jpg ... [Done]\n",
            "Downloading URL https://mast.stsci.edu/api/v0.1/Download/file?uri=mast:JWST/product/jw01274002001_04103_00001-seg002_nrcalong_o002_crfints.fits to ./mastDownload/JWST/jw01274002001_04103_00001-seg002_nrcalong/jw01274002001_04103_00001-seg002_nrcalong_o002_crfints.fits ... [Done]\n",
            "Downloading URL https://mast.stsci.edu/api/v0.1/Download/file?uri=mast:JWST/product/jw01274002001_04103_00001-seg002_nrcalong_o002_crfints.jpg to ./mastDownload/JWST/jw01274002001_04103_00001-seg002_nrcalong/jw01274002001_04103_00001-seg002_nrcalong_o002_crfints.jpg ... [Done]\n",
            "Downloading URL https://mast.stsci.edu/api/v0.1/Download/file?uri=mast:JWST/product/jw01274002001_04103_00001-seg002_nrcalong_ramp.fits to ./mastDownload/JWST/jw01274002001_04103_00001-seg002_nrcalong/jw01274002001_04103_00001-seg002_nrcalong_ramp.fits ... [Done]\n",
            "Downloading URL https://mast.stsci.edu/api/v0.1/Download/file?uri=mast:JWST/product/jw01274002001_04103_00001-seg002_nrcalong_ramp.jpg to ./mastDownload/JWST/jw01274002001_04103_00001-seg002_nrcalong/jw01274002001_04103_00001-seg002_nrcalong_ramp.jpg ... [Done]\n",
            "Downloading URL https://mast.stsci.edu/api/v0.1/Download/file?uri=mast:JWST/product/jw01274002001_04103_00001-seg002_nrcalong_rate.fits to ./mastDownload/JWST/jw01274002001_04103_00001-seg002_nrcalong/jw01274002001_04103_00001-seg002_nrcalong_rate.fits ... [Done]\n",
            "Downloading URL https://mast.stsci.edu/api/v0.1/Download/file?uri=mast:JWST/product/jw01274002001_04103_00001-seg002_nrcalong_rate.jpg to ./mastDownload/JWST/jw01274002001_04103_00001-seg002_nrcalong/jw01274002001_04103_00001-seg002_nrcalong_rate.jpg ... [Done]\n",
            "Downloading URL https://mast.stsci.edu/api/v0.1/Download/file?uri=mast:JWST/product/jw01274002001_04103_00001-seg002_nrcalong_rateints.fits to ./mastDownload/JWST/jw01274002001_04103_00001-seg002_nrcalong/jw01274002001_04103_00001-seg002_nrcalong_rateints.fits ... [Done]\n",
            "Downloading URL https://mast.stsci.edu/api/v0.1/Download/file?uri=mast:JWST/product/jw01274002001_04103_00001-seg002_nrcalong_rateints.jpg to ./mastDownload/JWST/jw01274002001_04103_00001-seg002_nrcalong/jw01274002001_04103_00001-seg002_nrcalong_rateints.jpg ... [Done]\n",
            "Downloading URL https://mast.stsci.edu/api/v0.1/Download/file?uri=mast:JWST/product/jw01274002001_04103_00001-seg002_nrcalong_uncal.fits to ./mastDownload/JWST/jw01274002001_04103_00001-seg002_nrcalong/jw01274002001_04103_00001-seg002_nrcalong_uncal.fits ... [Done]\n",
            "Downloading URL https://mast.stsci.edu/api/v0.1/Download/file?uri=mast:JWST/product/jw01274002001_04103_00001-seg002_nrcalong_uncal.jpg to ./mastDownload/JWST/jw01274002001_04103_00001-seg002_nrcalong/jw01274002001_04103_00001-seg002_nrcalong_uncal.jpg ... [Done]\n",
            "Downloading URL https://mast.stsci.edu/api/v0.1/Download/file?uri=mast:JWST/product/jw01274002001_04103_00001-seg002_nrcalong_x1dints.fits to ./mastDownload/JWST/jw01274002001_04103_00001-seg002_nrcalong/jw01274002001_04103_00001-seg002_nrcalong_x1dints.fits ... [Done]\n",
            "Downloading URL https://mast.stsci.edu/api/v0.1/Download/file?uri=mast:JWST/product/jw01274002001_04103_00001-seg003_nrcalong_calints.fits to ./mastDownload/JWST/jw01274002001_04103_00001-seg003_nrcalong/jw01274002001_04103_00001-seg003_nrcalong_calints.fits ... [Done]\n",
            "Downloading URL https://mast.stsci.edu/api/v0.1/Download/file?uri=mast:JWST/product/jw01274002001_04103_00001-seg003_nrcalong_calints.jpg to ./mastDownload/JWST/jw01274002001_04103_00001-seg003_nrcalong/jw01274002001_04103_00001-seg003_nrcalong_calints.jpg ... [Done]\n",
            "Downloading URL https://mast.stsci.edu/api/v0.1/Download/file?uri=mast:JWST/product/jw01274002001_04103_00001-seg003_nrcalong_o002_crfints.fits to ./mastDownload/JWST/jw01274002001_04103_00001-seg003_nrcalong/jw01274002001_04103_00001-seg003_nrcalong_o002_crfints.fits ... [Done]\n",
            "Downloading URL https://mast.stsci.edu/api/v0.1/Download/file?uri=mast:JWST/product/jw01274002001_04103_00001-seg003_nrcalong_o002_crfints.jpg to ./mastDownload/JWST/jw01274002001_04103_00001-seg003_nrcalong/jw01274002001_04103_00001-seg003_nrcalong_o002_crfints.jpg ... [Done]\n",
            "Downloading URL https://mast.stsci.edu/api/v0.1/Download/file?uri=mast:JWST/product/jw01274002001_04103_00001-seg003_nrcalong_ramp.fits to ./mastDownload/JWST/jw01274002001_04103_00001-seg003_nrcalong/jw01274002001_04103_00001-seg003_nrcalong_ramp.fits ... [Done]\n",
            "Downloading URL https://mast.stsci.edu/api/v0.1/Download/file?uri=mast:JWST/product/jw01274002001_04103_00001-seg003_nrcalong_ramp.jpg to ./mastDownload/JWST/jw01274002001_04103_00001-seg003_nrcalong/jw01274002001_04103_00001-seg003_nrcalong_ramp.jpg ... [Done]\n",
            "Downloading URL https://mast.stsci.edu/api/v0.1/Download/file?uri=mast:JWST/product/jw01274002001_04103_00001-seg003_nrcalong_rate.fits to ./mastDownload/JWST/jw01274002001_04103_00001-seg003_nrcalong/jw01274002001_04103_00001-seg003_nrcalong_rate.fits ... [Done]\n",
            "Downloading URL https://mast.stsci.edu/api/v0.1/Download/file?uri=mast:JWST/product/jw01274002001_04103_00001-seg003_nrcalong_rate.jpg to ./mastDownload/JWST/jw01274002001_04103_00001-seg003_nrcalong/jw01274002001_04103_00001-seg003_nrcalong_rate.jpg ... [Done]\n",
            "Downloading URL https://mast.stsci.edu/api/v0.1/Download/file?uri=mast:JWST/product/jw01274002001_04103_00001-seg003_nrcalong_rateints.fits to ./mastDownload/JWST/jw01274002001_04103_00001-seg003_nrcalong/jw01274002001_04103_00001-seg003_nrcalong_rateints.fits ... [Failed]\n"
          ]
        },
        {
          "output_type": "error",
          "ename": "KeyboardInterrupt",
          "evalue": "",
          "traceback": [
            "\u001b[0;31m---------------------------------------------------------------------------\u001b[0m",
            "\u001b[0;31mKeyboardInterrupt\u001b[0m                         Traceback (most recent call last)",
            "\u001b[0;32m<ipython-input-6-18834cd5a1b2>\u001b[0m in \u001b[0;36m<cell line: 29>\u001b[0;34m()\u001b[0m\n\u001b[1;32m     35\u001b[0m     \u001b[0;31m# Get the data products for the selected observation\u001b[0m\u001b[0;34m\u001b[0m\u001b[0;34m\u001b[0m\u001b[0m\n\u001b[1;32m     36\u001b[0m     \u001b[0mdata_products\u001b[0m \u001b[0;34m=\u001b[0m \u001b[0mObservations\u001b[0m\u001b[0;34m.\u001b[0m\u001b[0mget_product_list\u001b[0m\u001b[0;34m(\u001b[0m\u001b[0mobs_id\u001b[0m\u001b[0;34m)\u001b[0m\u001b[0;34m\u001b[0m\u001b[0;34m\u001b[0m\u001b[0m\n\u001b[0;32m---> 37\u001b[0;31m     \u001b[0mmanifest\u001b[0m \u001b[0;34m=\u001b[0m \u001b[0mObservations\u001b[0m\u001b[0;34m.\u001b[0m\u001b[0mdownload_products\u001b[0m\u001b[0;34m(\u001b[0m\u001b[0mdata_products\u001b[0m\u001b[0;34m)\u001b[0m\u001b[0;34m\u001b[0m\u001b[0;34m\u001b[0m\u001b[0m\n\u001b[0m\u001b[1;32m     38\u001b[0m \u001b[0;34m\u001b[0m\u001b[0m\n\u001b[1;32m     39\u001b[0m     \u001b[0;31m# Filter for FITS files\u001b[0m\u001b[0;34m\u001b[0m\u001b[0;34m\u001b[0m\u001b[0m\n",
            "\u001b[0;32m/usr/local/lib/python3.10/dist-packages/astroquery/mast/observations.py\u001b[0m in \u001b[0;36mdownload_products\u001b[0;34m(self, products, download_dir, flat, cache, curl_flag, mrp_only, cloud_only, **filters)\u001b[0m\n\u001b[1;32m    749\u001b[0m             \u001b[0;32melse\u001b[0m\u001b[0;34m:\u001b[0m\u001b[0;34m\u001b[0m\u001b[0;34m\u001b[0m\u001b[0m\n\u001b[1;32m    750\u001b[0m                 \u001b[0mbase_dir\u001b[0m \u001b[0;34m=\u001b[0m \u001b[0mos\u001b[0m\u001b[0;34m.\u001b[0m\u001b[0mpath\u001b[0m\u001b[0;34m.\u001b[0m\u001b[0mjoin\u001b[0m\u001b[0;34m(\u001b[0m\u001b[0mdownload_dir\u001b[0m\u001b[0;34m,\u001b[0m \u001b[0;34m\"mastDownload\"\u001b[0m\u001b[0;34m)\u001b[0m\u001b[0;34m\u001b[0m\u001b[0;34m\u001b[0m\u001b[0m\n\u001b[0;32m--> 751\u001b[0;31m             manifest = self._download_files(products,\n\u001b[0m\u001b[1;32m    752\u001b[0m                                             \u001b[0mbase_dir\u001b[0m\u001b[0;34m=\u001b[0m\u001b[0mbase_dir\u001b[0m\u001b[0;34m,\u001b[0m \u001b[0mflat\u001b[0m\u001b[0;34m=\u001b[0m\u001b[0mflat\u001b[0m\u001b[0;34m,\u001b[0m\u001b[0;34m\u001b[0m\u001b[0;34m\u001b[0m\u001b[0m\n\u001b[1;32m    753\u001b[0m                                             \u001b[0mcache\u001b[0m\u001b[0;34m=\u001b[0m\u001b[0mcache\u001b[0m\u001b[0;34m,\u001b[0m\u001b[0;34m\u001b[0m\u001b[0;34m\u001b[0m\u001b[0m\n",
            "\u001b[0;32m/usr/local/lib/python3.10/dist-packages/astroquery/mast/observations.py\u001b[0m in \u001b[0;36m_download_files\u001b[0;34m(self, products, base_dir, flat, cache, cloud_only)\u001b[0m\n\u001b[1;32m    615\u001b[0m \u001b[0;34m\u001b[0m\u001b[0m\n\u001b[1;32m    616\u001b[0m             \u001b[0;31m# download the files\u001b[0m\u001b[0;34m\u001b[0m\u001b[0;34m\u001b[0m\u001b[0m\n\u001b[0;32m--> 617\u001b[0;31m             status, msg, url = self.download_file(data_product[\"dataURI\"], local_path=local_path,\n\u001b[0m\u001b[1;32m    618\u001b[0m                                                   cache=cache, cloud_only=cloud_only)\n\u001b[1;32m    619\u001b[0m \u001b[0;34m\u001b[0m\u001b[0m\n",
            "\u001b[0;32m/usr/local/lib/python3.10/dist-packages/astroquery/mast/observations.py\u001b[0m in \u001b[0;36mdownload_file\u001b[0;34m(self, uri, local_path, base_url, cache, cloud_only)\u001b[0m\n\u001b[1;32m    560\u001b[0m                                             cache=cache, head_safe=True, continuation=False)\n\u001b[1;32m    561\u001b[0m             \u001b[0;32melse\u001b[0m\u001b[0;34m:\u001b[0m\u001b[0;34m\u001b[0m\u001b[0;34m\u001b[0m\u001b[0m\n\u001b[0;32m--> 562\u001b[0;31m                 self._download_file(data_url, local_path,\n\u001b[0m\u001b[1;32m    563\u001b[0m                                     cache=cache, head_safe=True, continuation=False)\n\u001b[1;32m    564\u001b[0m \u001b[0;34m\u001b[0m\u001b[0m\n",
            "\u001b[0;32m/usr/local/lib/python3.10/dist-packages/astroquery/query.py\u001b[0m in \u001b[0;36m_download_file\u001b[0;34m(self, url, local_filepath, timeout, auth, continuation, cache, method, head_safe, **kwargs)\u001b[0m\n\u001b[1;32m    496\u001b[0m                                   file=progress_stream) as pb:\n\u001b[1;32m    497\u001b[0m             \u001b[0;32mwith\u001b[0m \u001b[0mopen\u001b[0m\u001b[0;34m(\u001b[0m\u001b[0mlocal_filepath\u001b[0m\u001b[0;34m,\u001b[0m \u001b[0mopen_mode\u001b[0m\u001b[0;34m)\u001b[0m \u001b[0;32mas\u001b[0m \u001b[0mf\u001b[0m\u001b[0;34m:\u001b[0m\u001b[0;34m\u001b[0m\u001b[0;34m\u001b[0m\u001b[0m\n\u001b[0;32m--> 498\u001b[0;31m                 \u001b[0;32mfor\u001b[0m \u001b[0mblock\u001b[0m \u001b[0;32min\u001b[0m \u001b[0mresponse\u001b[0m\u001b[0;34m.\u001b[0m\u001b[0miter_content\u001b[0m\u001b[0;34m(\u001b[0m\u001b[0mblocksize\u001b[0m\u001b[0;34m)\u001b[0m\u001b[0;34m:\u001b[0m\u001b[0;34m\u001b[0m\u001b[0;34m\u001b[0m\u001b[0m\n\u001b[0m\u001b[1;32m    499\u001b[0m                     \u001b[0mf\u001b[0m\u001b[0;34m.\u001b[0m\u001b[0mwrite\u001b[0m\u001b[0;34m(\u001b[0m\u001b[0mblock\u001b[0m\u001b[0;34m)\u001b[0m\u001b[0;34m\u001b[0m\u001b[0;34m\u001b[0m\u001b[0m\n\u001b[1;32m    500\u001b[0m                     \u001b[0mbytes_read\u001b[0m \u001b[0;34m+=\u001b[0m \u001b[0mlen\u001b[0m\u001b[0;34m(\u001b[0m\u001b[0mblock\u001b[0m\u001b[0;34m)\u001b[0m\u001b[0;34m\u001b[0m\u001b[0;34m\u001b[0m\u001b[0m\n",
            "\u001b[0;32m/usr/local/lib/python3.10/dist-packages/requests/models.py\u001b[0m in \u001b[0;36mgenerate\u001b[0;34m()\u001b[0m\n\u001b[1;32m    814\u001b[0m             \u001b[0;32mif\u001b[0m \u001b[0mhasattr\u001b[0m\u001b[0;34m(\u001b[0m\u001b[0mself\u001b[0m\u001b[0;34m.\u001b[0m\u001b[0mraw\u001b[0m\u001b[0;34m,\u001b[0m \u001b[0;34m\"stream\"\u001b[0m\u001b[0;34m)\u001b[0m\u001b[0;34m:\u001b[0m\u001b[0;34m\u001b[0m\u001b[0;34m\u001b[0m\u001b[0m\n\u001b[1;32m    815\u001b[0m                 \u001b[0;32mtry\u001b[0m\u001b[0;34m:\u001b[0m\u001b[0;34m\u001b[0m\u001b[0;34m\u001b[0m\u001b[0m\n\u001b[0;32m--> 816\u001b[0;31m                     \u001b[0;32myield\u001b[0m \u001b[0;32mfrom\u001b[0m \u001b[0mself\u001b[0m\u001b[0;34m.\u001b[0m\u001b[0mraw\u001b[0m\u001b[0;34m.\u001b[0m\u001b[0mstream\u001b[0m\u001b[0;34m(\u001b[0m\u001b[0mchunk_size\u001b[0m\u001b[0;34m,\u001b[0m \u001b[0mdecode_content\u001b[0m\u001b[0;34m=\u001b[0m\u001b[0;32mTrue\u001b[0m\u001b[0;34m)\u001b[0m\u001b[0;34m\u001b[0m\u001b[0;34m\u001b[0m\u001b[0m\n\u001b[0m\u001b[1;32m    817\u001b[0m                 \u001b[0;32mexcept\u001b[0m \u001b[0mProtocolError\u001b[0m \u001b[0;32mas\u001b[0m \u001b[0me\u001b[0m\u001b[0;34m:\u001b[0m\u001b[0;34m\u001b[0m\u001b[0;34m\u001b[0m\u001b[0m\n\u001b[1;32m    818\u001b[0m                     \u001b[0;32mraise\u001b[0m \u001b[0mChunkedEncodingError\u001b[0m\u001b[0;34m(\u001b[0m\u001b[0me\u001b[0m\u001b[0;34m)\u001b[0m\u001b[0;34m\u001b[0m\u001b[0;34m\u001b[0m\u001b[0m\n",
            "\u001b[0;32m/usr/local/lib/python3.10/dist-packages/urllib3/response.py\u001b[0m in \u001b[0;36mstream\u001b[0;34m(self, amt, decode_content)\u001b[0m\n\u001b[1;32m    934\u001b[0m         \u001b[0;32melse\u001b[0m\u001b[0;34m:\u001b[0m\u001b[0;34m\u001b[0m\u001b[0;34m\u001b[0m\u001b[0m\n\u001b[1;32m    935\u001b[0m             \u001b[0;32mwhile\u001b[0m \u001b[0;32mnot\u001b[0m \u001b[0mis_fp_closed\u001b[0m\u001b[0;34m(\u001b[0m\u001b[0mself\u001b[0m\u001b[0;34m.\u001b[0m\u001b[0m_fp\u001b[0m\u001b[0;34m)\u001b[0m \u001b[0;32mor\u001b[0m \u001b[0mlen\u001b[0m\u001b[0;34m(\u001b[0m\u001b[0mself\u001b[0m\u001b[0;34m.\u001b[0m\u001b[0m_decoded_buffer\u001b[0m\u001b[0;34m)\u001b[0m \u001b[0;34m>\u001b[0m \u001b[0;36m0\u001b[0m\u001b[0;34m:\u001b[0m\u001b[0;34m\u001b[0m\u001b[0;34m\u001b[0m\u001b[0m\n\u001b[0;32m--> 936\u001b[0;31m                 \u001b[0mdata\u001b[0m \u001b[0;34m=\u001b[0m \u001b[0mself\u001b[0m\u001b[0;34m.\u001b[0m\u001b[0mread\u001b[0m\u001b[0;34m(\u001b[0m\u001b[0mamt\u001b[0m\u001b[0;34m=\u001b[0m\u001b[0mamt\u001b[0m\u001b[0;34m,\u001b[0m \u001b[0mdecode_content\u001b[0m\u001b[0;34m=\u001b[0m\u001b[0mdecode_content\u001b[0m\u001b[0;34m)\u001b[0m\u001b[0;34m\u001b[0m\u001b[0;34m\u001b[0m\u001b[0m\n\u001b[0m\u001b[1;32m    937\u001b[0m \u001b[0;34m\u001b[0m\u001b[0m\n\u001b[1;32m    938\u001b[0m                 \u001b[0;32mif\u001b[0m \u001b[0mdata\u001b[0m\u001b[0;34m:\u001b[0m\u001b[0;34m\u001b[0m\u001b[0;34m\u001b[0m\u001b[0m\n",
            "\u001b[0;32m/usr/local/lib/python3.10/dist-packages/urllib3/response.py\u001b[0m in \u001b[0;36mread\u001b[0;34m(self, amt, decode_content, cache_content)\u001b[0m\n\u001b[1;32m    877\u001b[0m                 \u001b[0;32mreturn\u001b[0m \u001b[0mself\u001b[0m\u001b[0;34m.\u001b[0m\u001b[0m_decoded_buffer\u001b[0m\u001b[0;34m.\u001b[0m\u001b[0mget\u001b[0m\u001b[0;34m(\u001b[0m\u001b[0mamt\u001b[0m\u001b[0;34m)\u001b[0m\u001b[0;34m\u001b[0m\u001b[0;34m\u001b[0m\u001b[0m\n\u001b[1;32m    878\u001b[0m \u001b[0;34m\u001b[0m\u001b[0m\n\u001b[0;32m--> 879\u001b[0;31m         \u001b[0mdata\u001b[0m \u001b[0;34m=\u001b[0m \u001b[0mself\u001b[0m\u001b[0;34m.\u001b[0m\u001b[0m_raw_read\u001b[0m\u001b[0;34m(\u001b[0m\u001b[0mamt\u001b[0m\u001b[0;34m)\u001b[0m\u001b[0;34m\u001b[0m\u001b[0;34m\u001b[0m\u001b[0m\n\u001b[0m\u001b[1;32m    880\u001b[0m \u001b[0;34m\u001b[0m\u001b[0m\n\u001b[1;32m    881\u001b[0m         \u001b[0mflush_decoder\u001b[0m \u001b[0;34m=\u001b[0m \u001b[0mamt\u001b[0m \u001b[0;32mis\u001b[0m \u001b[0;32mNone\u001b[0m \u001b[0;32mor\u001b[0m \u001b[0;34m(\u001b[0m\u001b[0mamt\u001b[0m \u001b[0;34m!=\u001b[0m \u001b[0;36m0\u001b[0m \u001b[0;32mand\u001b[0m \u001b[0;32mnot\u001b[0m \u001b[0mdata\u001b[0m\u001b[0;34m)\u001b[0m\u001b[0;34m\u001b[0m\u001b[0;34m\u001b[0m\u001b[0m\n",
            "\u001b[0;32m/usr/local/lib/python3.10/dist-packages/urllib3/response.py\u001b[0m in \u001b[0;36m_raw_read\u001b[0;34m(self, amt)\u001b[0m\n\u001b[1;32m    812\u001b[0m \u001b[0;34m\u001b[0m\u001b[0m\n\u001b[1;32m    813\u001b[0m         \u001b[0;32mwith\u001b[0m \u001b[0mself\u001b[0m\u001b[0;34m.\u001b[0m\u001b[0m_error_catcher\u001b[0m\u001b[0;34m(\u001b[0m\u001b[0;34m)\u001b[0m\u001b[0;34m:\u001b[0m\u001b[0;34m\u001b[0m\u001b[0;34m\u001b[0m\u001b[0m\n\u001b[0;32m--> 814\u001b[0;31m             \u001b[0mdata\u001b[0m \u001b[0;34m=\u001b[0m \u001b[0mself\u001b[0m\u001b[0;34m.\u001b[0m\u001b[0m_fp_read\u001b[0m\u001b[0;34m(\u001b[0m\u001b[0mamt\u001b[0m\u001b[0;34m)\u001b[0m \u001b[0;32mif\u001b[0m \u001b[0;32mnot\u001b[0m \u001b[0mfp_closed\u001b[0m \u001b[0;32melse\u001b[0m \u001b[0;34mb\"\"\u001b[0m\u001b[0;34m\u001b[0m\u001b[0;34m\u001b[0m\u001b[0m\n\u001b[0m\u001b[1;32m    815\u001b[0m             \u001b[0;32mif\u001b[0m \u001b[0mamt\u001b[0m \u001b[0;32mis\u001b[0m \u001b[0;32mnot\u001b[0m \u001b[0;32mNone\u001b[0m \u001b[0;32mand\u001b[0m \u001b[0mamt\u001b[0m \u001b[0;34m!=\u001b[0m \u001b[0;36m0\u001b[0m \u001b[0;32mand\u001b[0m \u001b[0;32mnot\u001b[0m \u001b[0mdata\u001b[0m\u001b[0;34m:\u001b[0m\u001b[0;34m\u001b[0m\u001b[0;34m\u001b[0m\u001b[0m\n\u001b[1;32m    816\u001b[0m                 \u001b[0;31m# Platform-specific: Buggy versions of Python.\u001b[0m\u001b[0;34m\u001b[0m\u001b[0;34m\u001b[0m\u001b[0m\n",
            "\u001b[0;32m/usr/local/lib/python3.10/dist-packages/urllib3/response.py\u001b[0m in \u001b[0;36m_fp_read\u001b[0;34m(self, amt)\u001b[0m\n\u001b[1;32m    797\u001b[0m         \u001b[0;32melse\u001b[0m\u001b[0;34m:\u001b[0m\u001b[0;34m\u001b[0m\u001b[0;34m\u001b[0m\u001b[0m\n\u001b[1;32m    798\u001b[0m             \u001b[0;31m# StringIO doesn't like amt=None\u001b[0m\u001b[0;34m\u001b[0m\u001b[0;34m\u001b[0m\u001b[0m\n\u001b[0;32m--> 799\u001b[0;31m             \u001b[0;32mreturn\u001b[0m \u001b[0mself\u001b[0m\u001b[0;34m.\u001b[0m\u001b[0m_fp\u001b[0m\u001b[0;34m.\u001b[0m\u001b[0mread\u001b[0m\u001b[0;34m(\u001b[0m\u001b[0mamt\u001b[0m\u001b[0;34m)\u001b[0m \u001b[0;32mif\u001b[0m \u001b[0mamt\u001b[0m \u001b[0;32mis\u001b[0m \u001b[0;32mnot\u001b[0m \u001b[0;32mNone\u001b[0m \u001b[0;32melse\u001b[0m \u001b[0mself\u001b[0m\u001b[0;34m.\u001b[0m\u001b[0m_fp\u001b[0m\u001b[0;34m.\u001b[0m\u001b[0mread\u001b[0m\u001b[0;34m(\u001b[0m\u001b[0;34m)\u001b[0m\u001b[0;34m\u001b[0m\u001b[0;34m\u001b[0m\u001b[0m\n\u001b[0m\u001b[1;32m    800\u001b[0m \u001b[0;34m\u001b[0m\u001b[0m\n\u001b[1;32m    801\u001b[0m     def _raw_read(\n",
            "\u001b[0;32m/usr/lib/python3.10/http/client.py\u001b[0m in \u001b[0;36mread\u001b[0;34m(self, amt)\u001b[0m\n\u001b[1;32m    464\u001b[0m                 \u001b[0;31m# clip the read to the \"end of response\"\u001b[0m\u001b[0;34m\u001b[0m\u001b[0;34m\u001b[0m\u001b[0m\n\u001b[1;32m    465\u001b[0m                 \u001b[0mamt\u001b[0m \u001b[0;34m=\u001b[0m \u001b[0mself\u001b[0m\u001b[0;34m.\u001b[0m\u001b[0mlength\u001b[0m\u001b[0;34m\u001b[0m\u001b[0;34m\u001b[0m\u001b[0m\n\u001b[0;32m--> 466\u001b[0;31m             \u001b[0ms\u001b[0m \u001b[0;34m=\u001b[0m \u001b[0mself\u001b[0m\u001b[0;34m.\u001b[0m\u001b[0mfp\u001b[0m\u001b[0;34m.\u001b[0m\u001b[0mread\u001b[0m\u001b[0;34m(\u001b[0m\u001b[0mamt\u001b[0m\u001b[0;34m)\u001b[0m\u001b[0;34m\u001b[0m\u001b[0;34m\u001b[0m\u001b[0m\n\u001b[0m\u001b[1;32m    467\u001b[0m             \u001b[0;32mif\u001b[0m \u001b[0;32mnot\u001b[0m \u001b[0ms\u001b[0m \u001b[0;32mand\u001b[0m \u001b[0mamt\u001b[0m\u001b[0;34m:\u001b[0m\u001b[0;34m\u001b[0m\u001b[0;34m\u001b[0m\u001b[0m\n\u001b[1;32m    468\u001b[0m                 \u001b[0;31m# Ideally, we would raise IncompleteRead if the content-length\u001b[0m\u001b[0;34m\u001b[0m\u001b[0;34m\u001b[0m\u001b[0m\n",
            "\u001b[0;32m/usr/lib/python3.10/socket.py\u001b[0m in \u001b[0;36mreadinto\u001b[0;34m(self, b)\u001b[0m\n\u001b[1;32m    703\u001b[0m         \u001b[0;32mwhile\u001b[0m \u001b[0;32mTrue\u001b[0m\u001b[0;34m:\u001b[0m\u001b[0;34m\u001b[0m\u001b[0;34m\u001b[0m\u001b[0m\n\u001b[1;32m    704\u001b[0m             \u001b[0;32mtry\u001b[0m\u001b[0;34m:\u001b[0m\u001b[0;34m\u001b[0m\u001b[0;34m\u001b[0m\u001b[0m\n\u001b[0;32m--> 705\u001b[0;31m                 \u001b[0;32mreturn\u001b[0m \u001b[0mself\u001b[0m\u001b[0;34m.\u001b[0m\u001b[0m_sock\u001b[0m\u001b[0;34m.\u001b[0m\u001b[0mrecv_into\u001b[0m\u001b[0;34m(\u001b[0m\u001b[0mb\u001b[0m\u001b[0;34m)\u001b[0m\u001b[0;34m\u001b[0m\u001b[0;34m\u001b[0m\u001b[0m\n\u001b[0m\u001b[1;32m    706\u001b[0m             \u001b[0;32mexcept\u001b[0m \u001b[0mtimeout\u001b[0m\u001b[0;34m:\u001b[0m\u001b[0;34m\u001b[0m\u001b[0;34m\u001b[0m\u001b[0m\n\u001b[1;32m    707\u001b[0m                 \u001b[0mself\u001b[0m\u001b[0;34m.\u001b[0m\u001b[0m_timeout_occurred\u001b[0m \u001b[0;34m=\u001b[0m \u001b[0;32mTrue\u001b[0m\u001b[0;34m\u001b[0m\u001b[0;34m\u001b[0m\u001b[0m\n",
            "\u001b[0;32m/usr/lib/python3.10/ssl.py\u001b[0m in \u001b[0;36mrecv_into\u001b[0;34m(self, buffer, nbytes, flags)\u001b[0m\n\u001b[1;32m   1301\u001b[0m                   \u001b[0;34m\"non-zero flags not allowed in calls to recv_into() on %s\"\u001b[0m \u001b[0;34m%\u001b[0m\u001b[0;34m\u001b[0m\u001b[0;34m\u001b[0m\u001b[0m\n\u001b[1;32m   1302\u001b[0m                   self.__class__)\n\u001b[0;32m-> 1303\u001b[0;31m             \u001b[0;32mreturn\u001b[0m \u001b[0mself\u001b[0m\u001b[0;34m.\u001b[0m\u001b[0mread\u001b[0m\u001b[0;34m(\u001b[0m\u001b[0mnbytes\u001b[0m\u001b[0;34m,\u001b[0m \u001b[0mbuffer\u001b[0m\u001b[0;34m)\u001b[0m\u001b[0;34m\u001b[0m\u001b[0;34m\u001b[0m\u001b[0m\n\u001b[0m\u001b[1;32m   1304\u001b[0m         \u001b[0;32melse\u001b[0m\u001b[0;34m:\u001b[0m\u001b[0;34m\u001b[0m\u001b[0;34m\u001b[0m\u001b[0m\n\u001b[1;32m   1305\u001b[0m             \u001b[0;32mreturn\u001b[0m \u001b[0msuper\u001b[0m\u001b[0;34m(\u001b[0m\u001b[0;34m)\u001b[0m\u001b[0;34m.\u001b[0m\u001b[0mrecv_into\u001b[0m\u001b[0;34m(\u001b[0m\u001b[0mbuffer\u001b[0m\u001b[0;34m,\u001b[0m \u001b[0mnbytes\u001b[0m\u001b[0;34m,\u001b[0m \u001b[0mflags\u001b[0m\u001b[0;34m)\u001b[0m\u001b[0;34m\u001b[0m\u001b[0;34m\u001b[0m\u001b[0m\n",
            "\u001b[0;32m/usr/lib/python3.10/ssl.py\u001b[0m in \u001b[0;36mread\u001b[0;34m(self, len, buffer)\u001b[0m\n\u001b[1;32m   1157\u001b[0m         \u001b[0;32mtry\u001b[0m\u001b[0;34m:\u001b[0m\u001b[0;34m\u001b[0m\u001b[0;34m\u001b[0m\u001b[0m\n\u001b[1;32m   1158\u001b[0m             \u001b[0;32mif\u001b[0m \u001b[0mbuffer\u001b[0m \u001b[0;32mis\u001b[0m \u001b[0;32mnot\u001b[0m \u001b[0;32mNone\u001b[0m\u001b[0;34m:\u001b[0m\u001b[0;34m\u001b[0m\u001b[0;34m\u001b[0m\u001b[0m\n\u001b[0;32m-> 1159\u001b[0;31m                 \u001b[0;32mreturn\u001b[0m \u001b[0mself\u001b[0m\u001b[0;34m.\u001b[0m\u001b[0m_sslobj\u001b[0m\u001b[0;34m.\u001b[0m\u001b[0mread\u001b[0m\u001b[0;34m(\u001b[0m\u001b[0mlen\u001b[0m\u001b[0;34m,\u001b[0m \u001b[0mbuffer\u001b[0m\u001b[0;34m)\u001b[0m\u001b[0;34m\u001b[0m\u001b[0;34m\u001b[0m\u001b[0m\n\u001b[0m\u001b[1;32m   1160\u001b[0m             \u001b[0;32melse\u001b[0m\u001b[0;34m:\u001b[0m\u001b[0;34m\u001b[0m\u001b[0;34m\u001b[0m\u001b[0m\n\u001b[1;32m   1161\u001b[0m                 \u001b[0;32mreturn\u001b[0m \u001b[0mself\u001b[0m\u001b[0;34m.\u001b[0m\u001b[0m_sslobj\u001b[0m\u001b[0;34m.\u001b[0m\u001b[0mread\u001b[0m\u001b[0;34m(\u001b[0m\u001b[0mlen\u001b[0m\u001b[0;34m)\u001b[0m\u001b[0;34m\u001b[0m\u001b[0;34m\u001b[0m\u001b[0m\n",
            "\u001b[0;31mKeyboardInterrupt\u001b[0m: "
          ]
        }
      ]
    },
    {
      "cell_type": "code",
      "source": [
        "\n",
        "# Install necessary libraries\n",
        "!pip install astroquery astropy pandas matplotlib requests\n",
        "\n",
        "# Import the necessary libraries\n",
        "from astroquery.mast import Observations\n",
        "from astropy.table import Table\n",
        "import pandas as pd\n",
        "import matplotlib.pyplot as plt\n",
        "from astropy.io import fits\n",
        "import requests\n",
        "\n",
        "# Configure the visualization options\n",
        "%matplotlib inline\n",
        "\n",
        "# Define the target name\n",
        "target_name = \"HD 209458\"\n",
        "\n",
        "# Search for observations from JWST\n",
        "try:\n",
        "    observations = Observations.query_object(target_name, radius=\"0.02 deg\")\n",
        "except Exception as e:\n",
        "    print(f\"Error querying observations: {e}\")\n",
        "    observations = None\n",
        "\n",
        "if observations:\n",
        "    # Filter for JWST data and spectroscopic products\n",
        "    jwst_observations = observations[observations['obs_collection'] == 'JWST']\n",
        "    spectra_observations = jwst_observations[jwst_observations['dataproduct_type'] == 'spectrum']\n",
        "\n",
        "    # Convert to a Pandas DataFrame\n",
        "    observations_df = spectra_observations.to_pandas()\n",
        "    print(observations_df.head())\n",
        "\n",
        "    # Ensure there are spectroscopic observations\n",
        "    if observations_df.empty:\n",
        "        print(\"No spectroscopic observations found for the target.\")\n",
        "    else:\n",
        "        # Select a specific observation ID\n",
        "        obs_id = observations_df['obsid'].iloc[0]\n",
        "\n",
        "        # Get the data products for the selected observation\n",
        "        try:\n",
        "            data_products = Observations.get_product_list(obs_id)\n",
        "        except Exception as e:\n",
        "            print(f\"Error retrieving data products: {e}\")\n",
        "            data_products = None\n",
        "\n",
        "        if data_products:\n",
        "            # Convert to DataFrame and filter for FITS files\n",
        "            data_products_df = data_products.to_pandas()\n",
        "            fits_files = data_products_df[data_products_df['productFilename'].str.endswith('.fits')]\n",
        "\n",
        "            if not fits_files.empty:\n",
        "                # Convert the size column to numeric\n",
        "                fits_files['size'] = pd.to_numeric(fits_files['size'], errors='coerce')\n",
        "\n",
        "                # Drop rows where size conversion failed and sort by size\n",
        "                fits_files = fits_files.dropna(subset=['size']).sort_values(by='size')\n",
        "\n",
        "                # Select the smallest FITS file\n",
        "                smallest_fits_file = fits_files.iloc[0]\n",
        "                print(f\"Selected FITS file: {smallest_fits_file['productFilename']} with size {smallest_fits_file['size']} bytes\")\n",
        "\n",
        "                # Get the URL for the smallest FITS file\n",
        "                file_url = smallest_fits_file['https://mast.stsci.edu/api/v0.1/Download/file?uri=mast:JWST/product/jw01274002001_04103_00001-seg001_nrcalong_x1dints.fits']\n",
        "\n",
        "                # Download the FITS file\n",
        "                try:\n",
        "                    response = requests.get(file_url)\n",
        "                    file_path = smallest_fits_file['productFilename']\n",
        "                    with open(file_path, 'wb') as f:\n",
        "                        f.write(response.content)\n",
        "                    print(f\"Downloaded FITS file to {file_path}\")\n",
        "\n",
        "                    # Open the FITS file and read the data\n",
        "                    with fits.open(file_path) as hdul:\n",
        "                        spectrum_data = Table(hdul[1].data)\n",
        "\n",
        "                    # Convert the spectrum data to a Pandas DataFrame\n",
        "                    spectrum_df = spectrum_data.to_pandas()\n",
        "\n",
        "                    # Display the first few rows of the spectroscopic data\n",
        "                    print(spectrum_df.head())\n",
        "\n",
        "                    # Plot the spectrum\n",
        "                    plt.figure(figsize=(10, 6))\n",
        "                    plt.plot(spectrum_df['WAVELENGTH'], spectrum_df['FLUX'], marker='.', linestyle='none')\n",
        "                    plt.xlabel('Wavelength (Å)')\n",
        "                    plt.ylabel('Flux')\n",
        "                    plt.title(f'Spectrum of {target_name}')\n",
        "                    plt.show()\n",
        "                except Exception as e:\n",
        "                    print(f\"Error downloading or reading FITS file: {e}\")\n",
        "            else:\n",
        "                print(\"No FITS files found in the data products.\")\n",
        "else:\n",
        "    print(\"No observations found for the target.\")"
      ],
      "metadata": {
        "colab": {
          "base_uri": "https://localhost:8080/",
          "height": 1000
        },
        "id": "ZEbcDeRWnruT",
        "outputId": "becb151a-e40d-4599-e6b7-03c3b5292f57"
      },
      "execution_count": null,
      "outputs": [
        {
          "output_type": "stream",
          "name": "stdout",
          "text": [
            "Requirement already satisfied: astroquery in /usr/local/lib/python3.10/dist-packages (0.4.7)\n",
            "Requirement already satisfied: astropy in /usr/local/lib/python3.10/dist-packages (5.3.4)\n",
            "Requirement already satisfied: pandas in /usr/local/lib/python3.10/dist-packages (2.0.3)\n",
            "Requirement already satisfied: matplotlib in /usr/local/lib/python3.10/dist-packages (3.7.1)\n",
            "Requirement already satisfied: requests in /usr/local/lib/python3.10/dist-packages (2.31.0)\n",
            "Requirement already satisfied: numpy>=1.18 in /usr/local/lib/python3.10/dist-packages (from astroquery) (1.25.2)\n",
            "Requirement already satisfied: beautifulsoup4>=4.8 in /usr/local/lib/python3.10/dist-packages (from astroquery) (4.12.3)\n",
            "Requirement already satisfied: html5lib>=0.999 in /usr/local/lib/python3.10/dist-packages (from astroquery) (1.1)\n",
            "Requirement already satisfied: keyring>=15.0 in /usr/lib/python3/dist-packages (from astroquery) (23.5.0)\n",
            "Requirement already satisfied: pyvo>=1.1 in /usr/local/lib/python3.10/dist-packages (from astroquery) (1.5.2)\n",
            "Requirement already satisfied: pyerfa>=2.0 in /usr/local/lib/python3.10/dist-packages (from astropy) (2.0.1.4)\n",
            "Requirement already satisfied: PyYAML>=3.13 in /usr/local/lib/python3.10/dist-packages (from astropy) (6.0.1)\n",
            "Requirement already satisfied: packaging>=19.0 in /usr/local/lib/python3.10/dist-packages (from astropy) (24.0)\n",
            "Requirement already satisfied: python-dateutil>=2.8.2 in /usr/local/lib/python3.10/dist-packages (from pandas) (2.8.2)\n",
            "Requirement already satisfied: pytz>=2020.1 in /usr/local/lib/python3.10/dist-packages (from pandas) (2023.4)\n",
            "Requirement already satisfied: tzdata>=2022.1 in /usr/local/lib/python3.10/dist-packages (from pandas) (2024.1)\n",
            "Requirement already satisfied: contourpy>=1.0.1 in /usr/local/lib/python3.10/dist-packages (from matplotlib) (1.2.1)\n",
            "Requirement already satisfied: cycler>=0.10 in /usr/local/lib/python3.10/dist-packages (from matplotlib) (0.12.1)\n",
            "Requirement already satisfied: fonttools>=4.22.0 in /usr/local/lib/python3.10/dist-packages (from matplotlib) (4.53.0)\n",
            "Requirement already satisfied: kiwisolver>=1.0.1 in /usr/local/lib/python3.10/dist-packages (from matplotlib) (1.4.5)\n",
            "Requirement already satisfied: pillow>=6.2.0 in /usr/local/lib/python3.10/dist-packages (from matplotlib) (9.4.0)\n",
            "Requirement already satisfied: pyparsing>=2.3.1 in /usr/local/lib/python3.10/dist-packages (from matplotlib) (3.1.2)\n",
            "Requirement already satisfied: charset-normalizer<4,>=2 in /usr/local/lib/python3.10/dist-packages (from requests) (3.3.2)\n",
            "Requirement already satisfied: idna<4,>=2.5 in /usr/local/lib/python3.10/dist-packages (from requests) (3.7)\n",
            "Requirement already satisfied: urllib3<3,>=1.21.1 in /usr/local/lib/python3.10/dist-packages (from requests) (2.0.7)\n",
            "Requirement already satisfied: certifi>=2017.4.17 in /usr/local/lib/python3.10/dist-packages (from requests) (2024.6.2)\n",
            "Requirement already satisfied: soupsieve>1.2 in /usr/local/lib/python3.10/dist-packages (from beautifulsoup4>=4.8->astroquery) (2.5)\n",
            "Requirement already satisfied: six>=1.9 in /usr/local/lib/python3.10/dist-packages (from html5lib>=0.999->astroquery) (1.16.0)\n",
            "Requirement already satisfied: webencodings in /usr/local/lib/python3.10/dist-packages (from html5lib>=0.999->astroquery) (0.5.1)\n",
            "  intentType obs_collection provenance_name instrument_name project  \\\n",
            "0    science           JWST         CALJWST    NIRCAM/GRISM    JWST   \n",
            "1    science           JWST         CALJWST    NIRCAM/GRISM    JWST   \n",
            "2    science           JWST         CALJWST   MIRI/SLITLESS    JWST   \n",
            "\n",
            "         filters wavelength_region target_name  \\\n",
            "0  F322W2;GRISMR          Infrared    HD209458   \n",
            "1   F444W;GRISMR          Infrared    HD209458   \n",
            "2          P750L          Infrared   HD-209458   \n",
            "\n",
            "               target_classification  \\\n",
            "0  Star; Exoplanet Systems; G dwarfs   \n",
            "1  Star; Exoplanet Systems; G dwarfs   \n",
            "2                   Star; Exoplanets   \n",
            "\n",
            "                                              obs_id  ...  proposal_type  \\\n",
            "0  jw01274-o002_t002_nircam_f322w2-grismr-subgrism64  ...            GTO   \n",
            "1   jw01274-o003_t002_nircam_f444w-grismr-subgrism64  ...            GTO   \n",
            "2         jw02667-o051_t001_miri_p750l-slitlessprism  ...             GO   \n",
            "\n",
            "   sequence_number                                           s_region jpegURL  \\\n",
            "0             <NA>  POLYGON 330.82464956 18.88380543 330.78628759 ...     NaN   \n",
            "1             <NA>  POLYGON 330.81165566 18.88374319 330.7733084 1...     NaN   \n",
            "2             <NA>  POLYGON 330.79555274 18.87486285 330.79326294 ...     NaN   \n",
            "\n",
            "                                             dataURL        dataRights  \\\n",
            "0  mast:JWST/product/jw01274-o002_t002_nircam_f32...            PUBLIC   \n",
            "1  mast:JWST/product/jw01274-o003_t002_nircam_f44...            PUBLIC   \n",
            "2  mast:JWST/product/jw02667-o051_t001_miri_p750l...  EXCLUSIVE_ACCESS   \n",
            "\n",
            "   mtFlag  srcDen      obsid  distance  \n",
            "0   False     NaN  100714281       0.0  \n",
            "1   False     NaN  100379736       0.0  \n",
            "2   False     NaN  158352467       0.0  \n",
            "\n",
            "[3 rows x 33 columns]\n",
            "Selected FITS file: jw01274002001_02102_00001-seg001_nrcalong_uncal.fits with size 72000 bytes\n"
          ]
        },
        {
          "output_type": "stream",
          "name": "stderr",
          "text": [
            "<ipython-input-11-8b2203382165>:55: SettingWithCopyWarning: \n",
            "A value is trying to be set on a copy of a slice from a DataFrame.\n",
            "Try using .loc[row_indexer,col_indexer] = value instead\n",
            "\n",
            "See the caveats in the documentation: https://pandas.pydata.org/pandas-docs/stable/user_guide/indexing.html#returning-a-view-versus-a-copy\n",
            "  fits_files['size'] = pd.to_numeric(fits_files['size'], errors='coerce')\n"
          ]
        },
        {
          "output_type": "error",
          "ename": "KeyError",
          "evalue": "'https://mast.stsci.edu/api/v0.1/Download/file?uri=mast:JWST/product/jw01274002001_04103_00001-seg001_nrcalong_x1dints.fits'",
          "traceback": [
            "\u001b[0;31m---------------------------------------------------------------------------\u001b[0m",
            "\u001b[0;31mKeyError\u001b[0m                                  Traceback (most recent call last)",
            "\u001b[0;32m/usr/local/lib/python3.10/dist-packages/pandas/core/indexes/base.py\u001b[0m in \u001b[0;36mget_loc\u001b[0;34m(self, key)\u001b[0m\n\u001b[1;32m   3652\u001b[0m         \u001b[0;32mtry\u001b[0m\u001b[0;34m:\u001b[0m\u001b[0;34m\u001b[0m\u001b[0;34m\u001b[0m\u001b[0m\n\u001b[0;32m-> 3653\u001b[0;31m             \u001b[0;32mreturn\u001b[0m \u001b[0mself\u001b[0m\u001b[0;34m.\u001b[0m\u001b[0m_engine\u001b[0m\u001b[0;34m.\u001b[0m\u001b[0mget_loc\u001b[0m\u001b[0;34m(\u001b[0m\u001b[0mcasted_key\u001b[0m\u001b[0;34m)\u001b[0m\u001b[0;34m\u001b[0m\u001b[0;34m\u001b[0m\u001b[0m\n\u001b[0m\u001b[1;32m   3654\u001b[0m         \u001b[0;32mexcept\u001b[0m \u001b[0mKeyError\u001b[0m \u001b[0;32mas\u001b[0m \u001b[0merr\u001b[0m\u001b[0;34m:\u001b[0m\u001b[0;34m\u001b[0m\u001b[0;34m\u001b[0m\u001b[0m\n",
            "\u001b[0;32m/usr/local/lib/python3.10/dist-packages/pandas/_libs/index.pyx\u001b[0m in \u001b[0;36mpandas._libs.index.IndexEngine.get_loc\u001b[0;34m()\u001b[0m\n",
            "\u001b[0;32m/usr/local/lib/python3.10/dist-packages/pandas/_libs/index.pyx\u001b[0m in \u001b[0;36mpandas._libs.index.IndexEngine.get_loc\u001b[0;34m()\u001b[0m\n",
            "\u001b[0;32mpandas/_libs/hashtable_class_helper.pxi\u001b[0m in \u001b[0;36mpandas._libs.hashtable.PyObjectHashTable.get_item\u001b[0;34m()\u001b[0m\n",
            "\u001b[0;32mpandas/_libs/hashtable_class_helper.pxi\u001b[0m in \u001b[0;36mpandas._libs.hashtable.PyObjectHashTable.get_item\u001b[0;34m()\u001b[0m\n",
            "\u001b[0;31mKeyError\u001b[0m: 'https://mast.stsci.edu/api/v0.1/Download/file?uri=mast:JWST/product/jw01274002001_04103_00001-seg001_nrcalong_x1dints.fits'",
            "\nThe above exception was the direct cause of the following exception:\n",
            "\u001b[0;31mKeyError\u001b[0m                                  Traceback (most recent call last)",
            "\u001b[0;32m<ipython-input-11-8b2203382165>\u001b[0m in \u001b[0;36m<cell line: 25>\u001b[0;34m()\u001b[0m\n\u001b[1;32m     63\u001b[0m \u001b[0;34m\u001b[0m\u001b[0m\n\u001b[1;32m     64\u001b[0m                 \u001b[0;31m# Get the URL for the smallest FITS file\u001b[0m\u001b[0;34m\u001b[0m\u001b[0;34m\u001b[0m\u001b[0m\n\u001b[0;32m---> 65\u001b[0;31m                 \u001b[0mfile_url\u001b[0m \u001b[0;34m=\u001b[0m \u001b[0msmallest_fits_file\u001b[0m\u001b[0;34m[\u001b[0m\u001b[0;34m'https://mast.stsci.edu/api/v0.1/Download/file?uri=mast:JWST/product/jw01274002001_04103_00001-seg001_nrcalong_x1dints.fits'\u001b[0m\u001b[0;34m]\u001b[0m\u001b[0;34m\u001b[0m\u001b[0;34m\u001b[0m\u001b[0m\n\u001b[0m\u001b[1;32m     66\u001b[0m \u001b[0;34m\u001b[0m\u001b[0m\n\u001b[1;32m     67\u001b[0m                 \u001b[0;31m# Download the FITS file\u001b[0m\u001b[0;34m\u001b[0m\u001b[0;34m\u001b[0m\u001b[0m\n",
            "\u001b[0;32m/usr/local/lib/python3.10/dist-packages/pandas/core/series.py\u001b[0m in \u001b[0;36m__getitem__\u001b[0;34m(self, key)\u001b[0m\n\u001b[1;32m   1005\u001b[0m \u001b[0;34m\u001b[0m\u001b[0m\n\u001b[1;32m   1006\u001b[0m         \u001b[0;32melif\u001b[0m \u001b[0mkey_is_scalar\u001b[0m\u001b[0;34m:\u001b[0m\u001b[0;34m\u001b[0m\u001b[0;34m\u001b[0m\u001b[0m\n\u001b[0;32m-> 1007\u001b[0;31m             \u001b[0;32mreturn\u001b[0m \u001b[0mself\u001b[0m\u001b[0;34m.\u001b[0m\u001b[0m_get_value\u001b[0m\u001b[0;34m(\u001b[0m\u001b[0mkey\u001b[0m\u001b[0;34m)\u001b[0m\u001b[0;34m\u001b[0m\u001b[0;34m\u001b[0m\u001b[0m\n\u001b[0m\u001b[1;32m   1008\u001b[0m \u001b[0;34m\u001b[0m\u001b[0m\n\u001b[1;32m   1009\u001b[0m         \u001b[0;32mif\u001b[0m \u001b[0mis_hashable\u001b[0m\u001b[0;34m(\u001b[0m\u001b[0mkey\u001b[0m\u001b[0;34m)\u001b[0m\u001b[0;34m:\u001b[0m\u001b[0;34m\u001b[0m\u001b[0;34m\u001b[0m\u001b[0m\n",
            "\u001b[0;32m/usr/local/lib/python3.10/dist-packages/pandas/core/series.py\u001b[0m in \u001b[0;36m_get_value\u001b[0;34m(self, label, takeable)\u001b[0m\n\u001b[1;32m   1114\u001b[0m \u001b[0;34m\u001b[0m\u001b[0m\n\u001b[1;32m   1115\u001b[0m         \u001b[0;31m# Similar to Index.get_value, but we do not fall back to positional\u001b[0m\u001b[0;34m\u001b[0m\u001b[0;34m\u001b[0m\u001b[0m\n\u001b[0;32m-> 1116\u001b[0;31m         \u001b[0mloc\u001b[0m \u001b[0;34m=\u001b[0m \u001b[0mself\u001b[0m\u001b[0;34m.\u001b[0m\u001b[0mindex\u001b[0m\u001b[0;34m.\u001b[0m\u001b[0mget_loc\u001b[0m\u001b[0;34m(\u001b[0m\u001b[0mlabel\u001b[0m\u001b[0;34m)\u001b[0m\u001b[0;34m\u001b[0m\u001b[0;34m\u001b[0m\u001b[0m\n\u001b[0m\u001b[1;32m   1117\u001b[0m \u001b[0;34m\u001b[0m\u001b[0m\n\u001b[1;32m   1118\u001b[0m         \u001b[0;32mif\u001b[0m \u001b[0mis_integer\u001b[0m\u001b[0;34m(\u001b[0m\u001b[0mloc\u001b[0m\u001b[0;34m)\u001b[0m\u001b[0;34m:\u001b[0m\u001b[0;34m\u001b[0m\u001b[0;34m\u001b[0m\u001b[0m\n",
            "\u001b[0;32m/usr/local/lib/python3.10/dist-packages/pandas/core/indexes/base.py\u001b[0m in \u001b[0;36mget_loc\u001b[0;34m(self, key)\u001b[0m\n\u001b[1;32m   3653\u001b[0m             \u001b[0;32mreturn\u001b[0m \u001b[0mself\u001b[0m\u001b[0;34m.\u001b[0m\u001b[0m_engine\u001b[0m\u001b[0;34m.\u001b[0m\u001b[0mget_loc\u001b[0m\u001b[0;34m(\u001b[0m\u001b[0mcasted_key\u001b[0m\u001b[0;34m)\u001b[0m\u001b[0;34m\u001b[0m\u001b[0;34m\u001b[0m\u001b[0m\n\u001b[1;32m   3654\u001b[0m         \u001b[0;32mexcept\u001b[0m \u001b[0mKeyError\u001b[0m \u001b[0;32mas\u001b[0m \u001b[0merr\u001b[0m\u001b[0;34m:\u001b[0m\u001b[0;34m\u001b[0m\u001b[0;34m\u001b[0m\u001b[0m\n\u001b[0;32m-> 3655\u001b[0;31m             \u001b[0;32mraise\u001b[0m \u001b[0mKeyError\u001b[0m\u001b[0;34m(\u001b[0m\u001b[0mkey\u001b[0m\u001b[0;34m)\u001b[0m \u001b[0;32mfrom\u001b[0m \u001b[0merr\u001b[0m\u001b[0;34m\u001b[0m\u001b[0;34m\u001b[0m\u001b[0m\n\u001b[0m\u001b[1;32m   3656\u001b[0m         \u001b[0;32mexcept\u001b[0m \u001b[0mTypeError\u001b[0m\u001b[0;34m:\u001b[0m\u001b[0;34m\u001b[0m\u001b[0;34m\u001b[0m\u001b[0m\n\u001b[1;32m   3657\u001b[0m             \u001b[0;31m# If we have a listlike key, _check_indexing_error will raise\u001b[0m\u001b[0;34m\u001b[0m\u001b[0;34m\u001b[0m\u001b[0m\n",
            "\u001b[0;31mKeyError\u001b[0m: 'https://mast.stsci.edu/api/v0.1/Download/file?uri=mast:JWST/product/jw01274002001_04103_00001-seg001_nrcalong_x1dints.fits'"
          ]
        }
      ]
    },
    {
      "cell_type": "code",
      "source": [
        "\n",
        "# Install necessary libraries\n",
        "!pip install astroquery astropy pandas matplotlib\n",
        "\n",
        "# Import the necessary libraries\n",
        "from astroquery.mast import Observations\n",
        "from astropy.table import Table\n",
        "import pandas as pd\n",
        "import matplotlib.pyplot as plt\n",
        "from astropy.io import fits\n",
        "import requests\n",
        "from io import BytesIO\n",
        "\n",
        "# Configure the visualization options\n",
        "%matplotlib inline\n",
        "\n",
        "# Define the target name\n",
        "target_name = \"HD 209458\"\n",
        "\n",
        "# Search for observations from JWST\n",
        "try:\n",
        "    observations = Observations.query_object(target_name, radius=\"0.02 deg\")\n",
        "except Exception as e:\n",
        "    print(f\"Error querying observations: {e}\")\n",
        "    observations = None\n",
        "\n",
        "if observations:\n",
        "    # Filter for JWST data and spectroscopic products\n",
        "    jwst_observations = observations[observations['obs_collection'] == 'JWST']\n",
        "    spectra_observations = jwst_observations[jwst_observations['dataproduct_type'] == 'spectrum']\n",
        "\n",
        "    # Convert to a Pandas DataFrame\n",
        "    observations_df = spectra_observations.to_pandas()\n",
        "    print(observations_df.head())\n",
        "\n",
        "    # Ensure there are spectroscopic observations\n",
        "    if observations_df.empty:\n",
        "        print(\"No spectroscopic observations found for the target.\")\n",
        "    else:\n",
        "        # Select a specific observation ID\n",
        "        obs_id = observations_df['obsid'].iloc[0]\n",
        "\n",
        "        # Get the data products for the selected observation\n",
        "        try:\n",
        "            data_products = Observations.get_product_list(obs_id)\n",
        "        except Exception as e:\n",
        "            print(f\"Error retrieving data products: {e}\")\n",
        "            data_products = None\n",
        "\n",
        "        if data_products:\n",
        "            # Convert to DataFrame and filter for FITS files\n",
        "            data_products_df = data_products.to_pandas()\n",
        "            fits_files = data_products_df[data_products_df['productFilename'].str.endswith('.fits')]\n",
        "\n",
        "            if not fits_files.empty:\n",
        "                # Convert the size column to numeric\n",
        "                fits_files['size'] = pd.to_numeric(fits_files['size'], errors='coerce')\n",
        "\n",
        "                # Drop rows where size conversion failed and sort by size\n",
        "                fits_files = fits_files.dropna(subset=['size']).sort_values(by='size')\n",
        "\n",
        "                # Select the smallest FITS file\n",
        "                smallest_fits_file = fits_files.iloc[0]\n",
        "                print(f\"Selected FITS file: {smallest_fits_file['productFilename']} with size {smallest_fits_file['size']} bytes\")\n",
        "\n",
        "                # Download the FITS file from the dataURL\n",
        "                try:\n",
        "                    response = requests.get(smallest_fits_file['dataURL'])\n",
        "                    if response.status_code == 200:\n",
        "                        # Read the FITS file from the response content\n",
        "                        with fits.open(BytesIO(response.content)) as hdul:\n",
        "                            spectrum_data = Table(hdul[1].data)\n",
        "\n",
        "                        # Convert the spectrum data to a Pandas DataFrame\n",
        "                        spectrum_df = spectrum_data.to_pandas()\n",
        "\n",
        "                        # Display the first few rows of the spectroscopic data\n",
        "                        print(spectrum_df.head())\n",
        "\n",
        "                        # Plot the spectrum\n",
        "                        plt.figure(figsize=(10, 6))\n",
        "                        plt.plot(spectrum_df['WAVELENGTH'], spectrum_df['FLUX'], marker='.', linestyle='none')\n",
        "                        plt.xlabel('Wavelength (Å)')\n",
        "                        plt.ylabel('Flux')\n",
        "                        plt.title(f'Spectrum of {target_name}')\n",
        "                        plt.show()\n",
        "                    else:\n",
        "                        print(f\"Failed to download FITS file: {response.status_code}\")\n",
        "                except Exception as e:\n",
        "                    print(f\"Error downloading or reading FITS file: {e}\")\n",
        "            else:\n",
        "                print(\"No FITS files found in the data products.\")\n",
        "else:\n",
        "    print(\"No observations found for the target.\")"
      ],
      "metadata": {
        "colab": {
          "base_uri": "https://localhost:8080/"
        },
        "id": "bxkhex75tldL",
        "outputId": "bb1e29bb-0c3f-41a1-ea8a-a8b550a211bf"
      },
      "execution_count": null,
      "outputs": [
        {
          "output_type": "stream",
          "name": "stdout",
          "text": [
            "Requirement already satisfied: astroquery in /usr/local/lib/python3.10/dist-packages (0.4.7)\n",
            "Requirement already satisfied: astropy in /usr/local/lib/python3.10/dist-packages (5.3.4)\n",
            "Requirement already satisfied: pandas in /usr/local/lib/python3.10/dist-packages (2.0.3)\n",
            "Requirement already satisfied: matplotlib in /usr/local/lib/python3.10/dist-packages (3.7.1)\n",
            "Requirement already satisfied: numpy>=1.18 in /usr/local/lib/python3.10/dist-packages (from astroquery) (1.25.2)\n",
            "Requirement already satisfied: requests>=2.19 in /usr/local/lib/python3.10/dist-packages (from astroquery) (2.31.0)\n",
            "Requirement already satisfied: beautifulsoup4>=4.8 in /usr/local/lib/python3.10/dist-packages (from astroquery) (4.12.3)\n",
            "Requirement already satisfied: html5lib>=0.999 in /usr/local/lib/python3.10/dist-packages (from astroquery) (1.1)\n",
            "Requirement already satisfied: keyring>=15.0 in /usr/lib/python3/dist-packages (from astroquery) (23.5.0)\n",
            "Requirement already satisfied: pyvo>=1.1 in /usr/local/lib/python3.10/dist-packages (from astroquery) (1.5.2)\n",
            "Requirement already satisfied: pyerfa>=2.0 in /usr/local/lib/python3.10/dist-packages (from astropy) (2.0.1.4)\n",
            "Requirement already satisfied: PyYAML>=3.13 in /usr/local/lib/python3.10/dist-packages (from astropy) (6.0.1)\n",
            "Requirement already satisfied: packaging>=19.0 in /usr/local/lib/python3.10/dist-packages (from astropy) (24.0)\n",
            "Requirement already satisfied: python-dateutil>=2.8.2 in /usr/local/lib/python3.10/dist-packages (from pandas) (2.8.2)\n",
            "Requirement already satisfied: pytz>=2020.1 in /usr/local/lib/python3.10/dist-packages (from pandas) (2023.4)\n",
            "Requirement already satisfied: tzdata>=2022.1 in /usr/local/lib/python3.10/dist-packages (from pandas) (2024.1)\n",
            "Requirement already satisfied: contourpy>=1.0.1 in /usr/local/lib/python3.10/dist-packages (from matplotlib) (1.2.1)\n",
            "Requirement already satisfied: cycler>=0.10 in /usr/local/lib/python3.10/dist-packages (from matplotlib) (0.12.1)\n",
            "Requirement already satisfied: fonttools>=4.22.0 in /usr/local/lib/python3.10/dist-packages (from matplotlib) (4.53.0)\n",
            "Requirement already satisfied: kiwisolver>=1.0.1 in /usr/local/lib/python3.10/dist-packages (from matplotlib) (1.4.5)\n",
            "Requirement already satisfied: pillow>=6.2.0 in /usr/local/lib/python3.10/dist-packages (from matplotlib) (9.4.0)\n",
            "Requirement already satisfied: pyparsing>=2.3.1 in /usr/local/lib/python3.10/dist-packages (from matplotlib) (3.1.2)\n",
            "Requirement already satisfied: soupsieve>1.2 in /usr/local/lib/python3.10/dist-packages (from beautifulsoup4>=4.8->astroquery) (2.5)\n",
            "Requirement already satisfied: six>=1.9 in /usr/local/lib/python3.10/dist-packages (from html5lib>=0.999->astroquery) (1.16.0)\n",
            "Requirement already satisfied: webencodings in /usr/local/lib/python3.10/dist-packages (from html5lib>=0.999->astroquery) (0.5.1)\n",
            "Requirement already satisfied: charset-normalizer<4,>=2 in /usr/local/lib/python3.10/dist-packages (from requests>=2.19->astroquery) (3.3.2)\n",
            "Requirement already satisfied: idna<4,>=2.5 in /usr/local/lib/python3.10/dist-packages (from requests>=2.19->astroquery) (3.7)\n",
            "Requirement already satisfied: urllib3<3,>=1.21.1 in /usr/local/lib/python3.10/dist-packages (from requests>=2.19->astroquery) (2.0.7)\n",
            "Requirement already satisfied: certifi>=2017.4.17 in /usr/local/lib/python3.10/dist-packages (from requests>=2.19->astroquery) (2024.6.2)\n",
            "  intentType obs_collection provenance_name instrument_name project  \\\n",
            "0    science           JWST         CALJWST    NIRCAM/GRISM    JWST   \n",
            "1    science           JWST         CALJWST    NIRCAM/GRISM    JWST   \n",
            "2    science           JWST         CALJWST   MIRI/SLITLESS    JWST   \n",
            "\n",
            "         filters wavelength_region target_name  \\\n",
            "0  F322W2;GRISMR          Infrared    HD209458   \n",
            "1   F444W;GRISMR          Infrared    HD209458   \n",
            "2          P750L          Infrared   HD-209458   \n",
            "\n",
            "               target_classification  \\\n",
            "0  Star; Exoplanet Systems; G dwarfs   \n",
            "1  Star; Exoplanet Systems; G dwarfs   \n",
            "2                   Star; Exoplanets   \n",
            "\n",
            "                                              obs_id  ...  proposal_type  \\\n",
            "0  jw01274-o002_t002_nircam_f322w2-grismr-subgrism64  ...            GTO   \n",
            "1   jw01274-o003_t002_nircam_f444w-grismr-subgrism64  ...            GTO   \n",
            "2         jw02667-o051_t001_miri_p750l-slitlessprism  ...             GO   \n",
            "\n",
            "   sequence_number                                           s_region jpegURL  \\\n",
            "0             <NA>  POLYGON 330.82464956 18.88380543 330.78628759 ...     NaN   \n",
            "1             <NA>  POLYGON 330.81165566 18.88374319 330.7733084 1...     NaN   \n",
            "2             <NA>  POLYGON 330.79555274 18.87486285 330.79326294 ...     NaN   \n",
            "\n",
            "                                             dataURL        dataRights  \\\n",
            "0  mast:JWST/product/jw01274-o002_t002_nircam_f32...            PUBLIC   \n",
            "1  mast:JWST/product/jw01274-o003_t002_nircam_f44...            PUBLIC   \n",
            "2  mast:JWST/product/jw02667-o051_t001_miri_p750l...  EXCLUSIVE_ACCESS   \n",
            "\n",
            "   mtFlag  srcDen      obsid  distance  \n",
            "0   False     NaN  100714281       0.0  \n",
            "1   False     NaN  100379736       0.0  \n",
            "2   False     NaN  158352467       0.0  \n",
            "\n",
            "[3 rows x 33 columns]\n",
            "Selected FITS file: jw01274002001_02102_00001-seg001_nrcalong_uncal.fits with size 72000 bytes\n",
            "Error downloading or reading FITS file: 'dataURL'\n"
          ]
        },
        {
          "output_type": "stream",
          "name": "stderr",
          "text": [
            "<ipython-input-12-dea64495da76>:56: SettingWithCopyWarning: \n",
            "A value is trying to be set on a copy of a slice from a DataFrame.\n",
            "Try using .loc[row_indexer,col_indexer] = value instead\n",
            "\n",
            "See the caveats in the documentation: https://pandas.pydata.org/pandas-docs/stable/user_guide/indexing.html#returning-a-view-versus-a-copy\n",
            "  fits_files['size'] = pd.to_numeric(fits_files['size'], errors='coerce')\n"
          ]
        }
      ]
    },
    {
      "cell_type": "code",
      "source": [
        "\n",
        "# Install necessary libraries\n",
        "!pip install astroquery astropy pandas matplotlib\n",
        "\n",
        "# Import the necessary libraries\n",
        "from astroquery.mast import Observations\n",
        "from astropy.table import Table\n",
        "import pandas as pd\n",
        "import matplotlib.pyplot as plt\n",
        "from astropy.io import fits\n",
        "import requests\n",
        "from io import BytesIO\n",
        "\n",
        "# Configure the visualization options\n",
        "%matplotlib inline\n",
        "\n",
        "# Define the target name\n",
        "target_name = \"HD 209458\"\n",
        "\n",
        "# Search for observations from JWST\n",
        "try:\n",
        "    observations = Observations.query_object(target_name, radius=\"0.02 deg\")\n",
        "except Exception as e:\n",
        "    print(f\"Error querying observations: {e}\")\n",
        "    observations = None\n",
        "\n",
        "if observations:\n",
        "    # Filter for JWST data and spectroscopic products\n",
        "    jwst_observations = observations[observations['obs_collection'] == 'JWST']\n",
        "    spectra_observations = jwst_observations[jwst_observations['dataproduct_type'] == 'spectrum']\n",
        "\n",
        "    # Convert to a Pandas DataFrame\n",
        "    observations_df = spectra_observations.to_pandas()\n",
        "    print(observations_df.head())\n",
        "\n",
        "    # Ensure there are spectroscopic observations\n",
        "    if observations_df.empty:\n",
        "        print(\"No spectroscopic observations found for the target.\")\n",
        "    else:\n",
        "        # Select a specific observation ID\n",
        "        obs_id = observations_df['obsid'].iloc[0]\n",
        "\n",
        "        # Get the data products for the selected observation\n",
        "        try:\n",
        "            data_products = Observations.get_product_list(obs_id)\n",
        "        except Exception as e:\n",
        "            print(f\"Error retrieving data products: {e}\")\n",
        "            data_products = None\n",
        "\n",
        "        if data_products:\n",
        "            # Convert to DataFrame and filter for FITS files\n",
        "            data_products_df = data_products.to_pandas()\n",
        "            fits_files = data_products_df[data_products_df['productFilename'].str.endswith('.fits')]\n",
        "\n",
        "            if not fits_files.empty:\n",
        "                # Convert the size column to numeric\n",
        "                fits_files['size'] = pd.to_numeric(fits_files['size'], errors='coerce')\n",
        "\n",
        "                # Drop rows where size conversion failed and sort by size\n",
        "                fits_files = fits_files.dropna(subset=['size']).sort_values(by='size')\n",
        "\n",
        "                # Select the smallest FITS file\n",
        "                smallest_fits_file = fits_files.iloc[0]\n",
        "                print(f\"Selected FITS file: {smallest_fits_file['productFilename']} with size {smallest_fits_file['size']} bytes\")\n",
        "\n",
        "                # Get the URL for the smallest FITS file\n",
        "                file_url = smallest_fits_file['https://mast.stsci.edu/api/v0.1/Download/file?uri=mast:JWST/product/jw01274002001_04103_00001-seg001_nrcalong_x1dints.fits']\n",
        "\n",
        "                # Download the FITS file\n",
        "                try:\n",
        "                    response = requests.get(file_url)\n",
        "                    if response.status_code == 200:\n",
        "                        # Read the FITS file from the response content\n",
        "                        with fits.open(BytesIO(response.content)) as hdul:\n",
        "                            spectrum_data = Table(hdul[1].data)\n",
        "\n",
        "                        # Convert the spectrum data to a Pandas DataFrame\n",
        "                        spectrum_df = spectrum_data.to_pandas()\n",
        "\n",
        "                        # Display the first few rows of the spectroscopic data\n",
        "                        print(spectrum_df.head())\n",
        "\n",
        "                        # Plot the spectrum\n",
        "                        plt.figure(figsize=(10, 6))\n",
        "                        plt.plot(spectrum_df['WAVELENGTH'], spectrum_df['FLUX'], marker='.', linestyle='none')\n",
        "                        plt.xlabel('Wavelength (Å)')\n",
        "                        plt.ylabel('Flux')\n",
        "                        plt.title(f'Spectrum of {target_name}')\n",
        "                        plt.show()\n",
        "                    else:\n",
        "                        print(f\"Failed to download FITS file: {response.status_code}\")\n",
        "                except Exception as e:\n",
        "                    print(f\"Error downloading or reading FITS file: {e}\")\n",
        "            else:\n",
        "                print(\"No FITS files found in the data products.\")\n",
        "else:\n",
        "    print(\"No observations found for the target.\")"
      ],
      "metadata": {
        "colab": {
          "base_uri": "https://localhost:8080/",
          "height": 1000
        },
        "id": "BEGh3NSut_LK",
        "outputId": "74bdb2b0-944c-4537-acc9-d0f394f51d3f"
      },
      "execution_count": null,
      "outputs": [
        {
          "output_type": "stream",
          "name": "stdout",
          "text": [
            "Requirement already satisfied: astroquery in /usr/local/lib/python3.10/dist-packages (0.4.7)\n",
            "Requirement already satisfied: astropy in /usr/local/lib/python3.10/dist-packages (5.3.4)\n",
            "Requirement already satisfied: pandas in /usr/local/lib/python3.10/dist-packages (2.0.3)\n",
            "Requirement already satisfied: matplotlib in /usr/local/lib/python3.10/dist-packages (3.7.1)\n",
            "Requirement already satisfied: numpy>=1.18 in /usr/local/lib/python3.10/dist-packages (from astroquery) (1.25.2)\n",
            "Requirement already satisfied: requests>=2.19 in /usr/local/lib/python3.10/dist-packages (from astroquery) (2.31.0)\n",
            "Requirement already satisfied: beautifulsoup4>=4.8 in /usr/local/lib/python3.10/dist-packages (from astroquery) (4.12.3)\n",
            "Requirement already satisfied: html5lib>=0.999 in /usr/local/lib/python3.10/dist-packages (from astroquery) (1.1)\n",
            "Requirement already satisfied: keyring>=15.0 in /usr/lib/python3/dist-packages (from astroquery) (23.5.0)\n",
            "Requirement already satisfied: pyvo>=1.1 in /usr/local/lib/python3.10/dist-packages (from astroquery) (1.5.2)\n",
            "Requirement already satisfied: pyerfa>=2.0 in /usr/local/lib/python3.10/dist-packages (from astropy) (2.0.1.4)\n",
            "Requirement already satisfied: PyYAML>=3.13 in /usr/local/lib/python3.10/dist-packages (from astropy) (6.0.1)\n",
            "Requirement already satisfied: packaging>=19.0 in /usr/local/lib/python3.10/dist-packages (from astropy) (24.0)\n",
            "Requirement already satisfied: python-dateutil>=2.8.2 in /usr/local/lib/python3.10/dist-packages (from pandas) (2.8.2)\n",
            "Requirement already satisfied: pytz>=2020.1 in /usr/local/lib/python3.10/dist-packages (from pandas) (2023.4)\n",
            "Requirement already satisfied: tzdata>=2022.1 in /usr/local/lib/python3.10/dist-packages (from pandas) (2024.1)\n",
            "Requirement already satisfied: contourpy>=1.0.1 in /usr/local/lib/python3.10/dist-packages (from matplotlib) (1.2.1)\n",
            "Requirement already satisfied: cycler>=0.10 in /usr/local/lib/python3.10/dist-packages (from matplotlib) (0.12.1)\n",
            "Requirement already satisfied: fonttools>=4.22.0 in /usr/local/lib/python3.10/dist-packages (from matplotlib) (4.53.0)\n",
            "Requirement already satisfied: kiwisolver>=1.0.1 in /usr/local/lib/python3.10/dist-packages (from matplotlib) (1.4.5)\n",
            "Requirement already satisfied: pillow>=6.2.0 in /usr/local/lib/python3.10/dist-packages (from matplotlib) (9.4.0)\n",
            "Requirement already satisfied: pyparsing>=2.3.1 in /usr/local/lib/python3.10/dist-packages (from matplotlib) (3.1.2)\n",
            "Requirement already satisfied: soupsieve>1.2 in /usr/local/lib/python3.10/dist-packages (from beautifulsoup4>=4.8->astroquery) (2.5)\n",
            "Requirement already satisfied: six>=1.9 in /usr/local/lib/python3.10/dist-packages (from html5lib>=0.999->astroquery) (1.16.0)\n",
            "Requirement already satisfied: webencodings in /usr/local/lib/python3.10/dist-packages (from html5lib>=0.999->astroquery) (0.5.1)\n",
            "Requirement already satisfied: charset-normalizer<4,>=2 in /usr/local/lib/python3.10/dist-packages (from requests>=2.19->astroquery) (3.3.2)\n",
            "Requirement already satisfied: idna<4,>=2.5 in /usr/local/lib/python3.10/dist-packages (from requests>=2.19->astroquery) (3.7)\n",
            "Requirement already satisfied: urllib3<3,>=1.21.1 in /usr/local/lib/python3.10/dist-packages (from requests>=2.19->astroquery) (2.0.7)\n",
            "Requirement already satisfied: certifi>=2017.4.17 in /usr/local/lib/python3.10/dist-packages (from requests>=2.19->astroquery) (2024.6.2)\n",
            "  intentType obs_collection provenance_name instrument_name project  \\\n",
            "0    science           JWST         CALJWST    NIRCAM/GRISM    JWST   \n",
            "1    science           JWST         CALJWST    NIRCAM/GRISM    JWST   \n",
            "2    science           JWST         CALJWST   MIRI/SLITLESS    JWST   \n",
            "\n",
            "         filters wavelength_region target_name  \\\n",
            "0  F322W2;GRISMR          Infrared    HD209458   \n",
            "1   F444W;GRISMR          Infrared    HD209458   \n",
            "2          P750L          Infrared   HD-209458   \n",
            "\n",
            "               target_classification  \\\n",
            "0  Star; Exoplanet Systems; G dwarfs   \n",
            "1  Star; Exoplanet Systems; G dwarfs   \n",
            "2                   Star; Exoplanets   \n",
            "\n",
            "                                              obs_id  ...  proposal_type  \\\n",
            "0  jw01274-o002_t002_nircam_f322w2-grismr-subgrism64  ...            GTO   \n",
            "1   jw01274-o003_t002_nircam_f444w-grismr-subgrism64  ...            GTO   \n",
            "2         jw02667-o051_t001_miri_p750l-slitlessprism  ...             GO   \n",
            "\n",
            "   sequence_number                                           s_region jpegURL  \\\n",
            "0             <NA>  POLYGON 330.82464956 18.88380543 330.78628759 ...     NaN   \n",
            "1             <NA>  POLYGON 330.81165566 18.88374319 330.7733084 1...     NaN   \n",
            "2             <NA>  POLYGON 330.79555274 18.87486285 330.79326294 ...     NaN   \n",
            "\n",
            "                                             dataURL        dataRights  \\\n",
            "0  mast:JWST/product/jw01274-o002_t002_nircam_f32...            PUBLIC   \n",
            "1  mast:JWST/product/jw01274-o003_t002_nircam_f44...            PUBLIC   \n",
            "2  mast:JWST/product/jw02667-o051_t001_miri_p750l...  EXCLUSIVE_ACCESS   \n",
            "\n",
            "   mtFlag  srcDen      obsid  distance  \n",
            "0   False     NaN  100714281       0.0  \n",
            "1   False     NaN  100379736       0.0  \n",
            "2   False     NaN  158352467       0.0  \n",
            "\n",
            "[3 rows x 33 columns]\n",
            "Selected FITS file: jw01274002001_02102_00001-seg001_nrcalong_uncal.fits with size 72000 bytes\n"
          ]
        },
        {
          "output_type": "stream",
          "name": "stderr",
          "text": [
            "<ipython-input-17-8e1b8854e613>:56: SettingWithCopyWarning: \n",
            "A value is trying to be set on a copy of a slice from a DataFrame.\n",
            "Try using .loc[row_indexer,col_indexer] = value instead\n",
            "\n",
            "See the caveats in the documentation: https://pandas.pydata.org/pandas-docs/stable/user_guide/indexing.html#returning-a-view-versus-a-copy\n",
            "  fits_files['size'] = pd.to_numeric(fits_files['size'], errors='coerce')\n"
          ]
        },
        {
          "output_type": "error",
          "ename": "KeyError",
          "evalue": "'https://mast.stsci.edu/api/v0.1/Download/file?uri=mast:JWST/product/jw01274002001_04103_00001-seg001_nrcalong_x1dints.fits'",
          "traceback": [
            "\u001b[0;31m---------------------------------------------------------------------------\u001b[0m",
            "\u001b[0;31mKeyError\u001b[0m                                  Traceback (most recent call last)",
            "\u001b[0;32m/usr/local/lib/python3.10/dist-packages/pandas/core/indexes/base.py\u001b[0m in \u001b[0;36mget_loc\u001b[0;34m(self, key)\u001b[0m\n\u001b[1;32m   3652\u001b[0m         \u001b[0;32mtry\u001b[0m\u001b[0;34m:\u001b[0m\u001b[0;34m\u001b[0m\u001b[0;34m\u001b[0m\u001b[0m\n\u001b[0;32m-> 3653\u001b[0;31m             \u001b[0;32mreturn\u001b[0m \u001b[0mself\u001b[0m\u001b[0;34m.\u001b[0m\u001b[0m_engine\u001b[0m\u001b[0;34m.\u001b[0m\u001b[0mget_loc\u001b[0m\u001b[0;34m(\u001b[0m\u001b[0mcasted_key\u001b[0m\u001b[0;34m)\u001b[0m\u001b[0;34m\u001b[0m\u001b[0;34m\u001b[0m\u001b[0m\n\u001b[0m\u001b[1;32m   3654\u001b[0m         \u001b[0;32mexcept\u001b[0m \u001b[0mKeyError\u001b[0m \u001b[0;32mas\u001b[0m \u001b[0merr\u001b[0m\u001b[0;34m:\u001b[0m\u001b[0;34m\u001b[0m\u001b[0;34m\u001b[0m\u001b[0m\n",
            "\u001b[0;32m/usr/local/lib/python3.10/dist-packages/pandas/_libs/index.pyx\u001b[0m in \u001b[0;36mpandas._libs.index.IndexEngine.get_loc\u001b[0;34m()\u001b[0m\n",
            "\u001b[0;32m/usr/local/lib/python3.10/dist-packages/pandas/_libs/index.pyx\u001b[0m in \u001b[0;36mpandas._libs.index.IndexEngine.get_loc\u001b[0;34m()\u001b[0m\n",
            "\u001b[0;32mpandas/_libs/hashtable_class_helper.pxi\u001b[0m in \u001b[0;36mpandas._libs.hashtable.PyObjectHashTable.get_item\u001b[0;34m()\u001b[0m\n",
            "\u001b[0;32mpandas/_libs/hashtable_class_helper.pxi\u001b[0m in \u001b[0;36mpandas._libs.hashtable.PyObjectHashTable.get_item\u001b[0;34m()\u001b[0m\n",
            "\u001b[0;31mKeyError\u001b[0m: 'https://mast.stsci.edu/api/v0.1/Download/file?uri=mast:JWST/product/jw01274002001_04103_00001-seg001_nrcalong_x1dints.fits'",
            "\nThe above exception was the direct cause of the following exception:\n",
            "\u001b[0;31mKeyError\u001b[0m                                  Traceback (most recent call last)",
            "\u001b[0;32m<ipython-input-17-8e1b8854e613>\u001b[0m in \u001b[0;36m<cell line: 26>\u001b[0;34m()\u001b[0m\n\u001b[1;32m     64\u001b[0m \u001b[0;34m\u001b[0m\u001b[0m\n\u001b[1;32m     65\u001b[0m                 \u001b[0;31m# Get the URL for the smallest FITS file\u001b[0m\u001b[0;34m\u001b[0m\u001b[0;34m\u001b[0m\u001b[0m\n\u001b[0;32m---> 66\u001b[0;31m                 \u001b[0mfile_url\u001b[0m \u001b[0;34m=\u001b[0m \u001b[0msmallest_fits_file\u001b[0m\u001b[0;34m[\u001b[0m\u001b[0;34m'https://mast.stsci.edu/api/v0.1/Download/file?uri=mast:JWST/product/jw01274002001_04103_00001-seg001_nrcalong_x1dints.fits'\u001b[0m\u001b[0;34m]\u001b[0m\u001b[0;34m\u001b[0m\u001b[0;34m\u001b[0m\u001b[0m\n\u001b[0m\u001b[1;32m     67\u001b[0m \u001b[0;34m\u001b[0m\u001b[0m\n\u001b[1;32m     68\u001b[0m                 \u001b[0;31m# Download the FITS file\u001b[0m\u001b[0;34m\u001b[0m\u001b[0;34m\u001b[0m\u001b[0m\n",
            "\u001b[0;32m/usr/local/lib/python3.10/dist-packages/pandas/core/series.py\u001b[0m in \u001b[0;36m__getitem__\u001b[0;34m(self, key)\u001b[0m\n\u001b[1;32m   1005\u001b[0m \u001b[0;34m\u001b[0m\u001b[0m\n\u001b[1;32m   1006\u001b[0m         \u001b[0;32melif\u001b[0m \u001b[0mkey_is_scalar\u001b[0m\u001b[0;34m:\u001b[0m\u001b[0;34m\u001b[0m\u001b[0;34m\u001b[0m\u001b[0m\n\u001b[0;32m-> 1007\u001b[0;31m             \u001b[0;32mreturn\u001b[0m \u001b[0mself\u001b[0m\u001b[0;34m.\u001b[0m\u001b[0m_get_value\u001b[0m\u001b[0;34m(\u001b[0m\u001b[0mkey\u001b[0m\u001b[0;34m)\u001b[0m\u001b[0;34m\u001b[0m\u001b[0;34m\u001b[0m\u001b[0m\n\u001b[0m\u001b[1;32m   1008\u001b[0m \u001b[0;34m\u001b[0m\u001b[0m\n\u001b[1;32m   1009\u001b[0m         \u001b[0;32mif\u001b[0m \u001b[0mis_hashable\u001b[0m\u001b[0;34m(\u001b[0m\u001b[0mkey\u001b[0m\u001b[0;34m)\u001b[0m\u001b[0;34m:\u001b[0m\u001b[0;34m\u001b[0m\u001b[0;34m\u001b[0m\u001b[0m\n",
            "\u001b[0;32m/usr/local/lib/python3.10/dist-packages/pandas/core/series.py\u001b[0m in \u001b[0;36m_get_value\u001b[0;34m(self, label, takeable)\u001b[0m\n\u001b[1;32m   1114\u001b[0m \u001b[0;34m\u001b[0m\u001b[0m\n\u001b[1;32m   1115\u001b[0m         \u001b[0;31m# Similar to Index.get_value, but we do not fall back to positional\u001b[0m\u001b[0;34m\u001b[0m\u001b[0;34m\u001b[0m\u001b[0m\n\u001b[0;32m-> 1116\u001b[0;31m         \u001b[0mloc\u001b[0m \u001b[0;34m=\u001b[0m \u001b[0mself\u001b[0m\u001b[0;34m.\u001b[0m\u001b[0mindex\u001b[0m\u001b[0;34m.\u001b[0m\u001b[0mget_loc\u001b[0m\u001b[0;34m(\u001b[0m\u001b[0mlabel\u001b[0m\u001b[0;34m)\u001b[0m\u001b[0;34m\u001b[0m\u001b[0;34m\u001b[0m\u001b[0m\n\u001b[0m\u001b[1;32m   1117\u001b[0m \u001b[0;34m\u001b[0m\u001b[0m\n\u001b[1;32m   1118\u001b[0m         \u001b[0;32mif\u001b[0m \u001b[0mis_integer\u001b[0m\u001b[0;34m(\u001b[0m\u001b[0mloc\u001b[0m\u001b[0;34m)\u001b[0m\u001b[0;34m:\u001b[0m\u001b[0;34m\u001b[0m\u001b[0;34m\u001b[0m\u001b[0m\n",
            "\u001b[0;32m/usr/local/lib/python3.10/dist-packages/pandas/core/indexes/base.py\u001b[0m in \u001b[0;36mget_loc\u001b[0;34m(self, key)\u001b[0m\n\u001b[1;32m   3653\u001b[0m             \u001b[0;32mreturn\u001b[0m \u001b[0mself\u001b[0m\u001b[0;34m.\u001b[0m\u001b[0m_engine\u001b[0m\u001b[0;34m.\u001b[0m\u001b[0mget_loc\u001b[0m\u001b[0;34m(\u001b[0m\u001b[0mcasted_key\u001b[0m\u001b[0;34m)\u001b[0m\u001b[0;34m\u001b[0m\u001b[0;34m\u001b[0m\u001b[0m\n\u001b[1;32m   3654\u001b[0m         \u001b[0;32mexcept\u001b[0m \u001b[0mKeyError\u001b[0m \u001b[0;32mas\u001b[0m \u001b[0merr\u001b[0m\u001b[0;34m:\u001b[0m\u001b[0;34m\u001b[0m\u001b[0;34m\u001b[0m\u001b[0m\n\u001b[0;32m-> 3655\u001b[0;31m             \u001b[0;32mraise\u001b[0m \u001b[0mKeyError\u001b[0m\u001b[0;34m(\u001b[0m\u001b[0mkey\u001b[0m\u001b[0;34m)\u001b[0m \u001b[0;32mfrom\u001b[0m \u001b[0merr\u001b[0m\u001b[0;34m\u001b[0m\u001b[0;34m\u001b[0m\u001b[0m\n\u001b[0m\u001b[1;32m   3656\u001b[0m         \u001b[0;32mexcept\u001b[0m \u001b[0mTypeError\u001b[0m\u001b[0;34m:\u001b[0m\u001b[0;34m\u001b[0m\u001b[0;34m\u001b[0m\u001b[0m\n\u001b[1;32m   3657\u001b[0m             \u001b[0;31m# If we have a listlike key, _check_indexing_error will raise\u001b[0m\u001b[0;34m\u001b[0m\u001b[0;34m\u001b[0m\u001b[0m\n",
            "\u001b[0;31mKeyError\u001b[0m: 'https://mast.stsci.edu/api/v0.1/Download/file?uri=mast:JWST/product/jw01274002001_04103_00001-seg001_nrcalong_x1dints.fits'"
          ]
        }
      ]
    }
  ],
  "metadata": {
    "colab": {
      "provenance": [],
      "authorship_tag": "ABX9TyOG7umdyCA9yxXT1BDB9IJv",
      "include_colab_link": true
    },
    "kernelspec": {
      "display_name": "Python 3",
      "name": "python3"
    },
    "language_info": {
      "name": "python"
    }
  },
  "nbformat": 4,
  "nbformat_minor": 0
}