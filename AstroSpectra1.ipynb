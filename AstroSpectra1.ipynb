{
  "cells": [
    {
      "cell_type": "markdown",
      "metadata": {
        "id": "view-in-github",
        "colab_type": "text"
      },
      "source": [
        "<a href=\"https://colab.research.google.com/github/drfperez/lightkurve/blob/main/AstroSpectra1.ipynb\" target=\"_parent\"><img src=\"https://colab.research.google.com/assets/colab-badge.svg\" alt=\"Open In Colab\"/></a>"
      ]
    },
    {
      "cell_type": "code",
      "execution_count": 1,
      "metadata": {
        "colab": {
          "base_uri": "https://localhost:8080/",
          "height": 1000
        },
        "id": "uPqVhlqUt8V4",
        "outputId": "ee687e48-5740-4063-be61-87be651b6121"
      },
      "outputs": [
        {
          "output_type": "stream",
          "name": "stdout",
          "text": [
            "Collecting astroquery\n",
            "  Downloading astroquery-0.4.7-py3-none-any.whl (5.3 MB)\n",
            "\u001b[2K     \u001b[90m━━━━━━━━━━━━━━━━━━━━━━━━━━━━━━━━━━━━━━━━\u001b[0m \u001b[32m5.3/5.3 MB\u001b[0m \u001b[31m15.1 MB/s\u001b[0m eta \u001b[36m0:00:00\u001b[0m\n",
            "\u001b[?25hRequirement already satisfied: astropy in /usr/local/lib/python3.10/dist-packages (5.3.4)\n",
            "Requirement already satisfied: pandas in /usr/local/lib/python3.10/dist-packages (2.0.3)\n",
            "Requirement already satisfied: matplotlib in /usr/local/lib/python3.10/dist-packages (3.7.1)\n",
            "Requirement already satisfied: numpy>=1.18 in /usr/local/lib/python3.10/dist-packages (from astroquery) (1.25.2)\n",
            "Requirement already satisfied: requests>=2.19 in /usr/local/lib/python3.10/dist-packages (from astroquery) (2.31.0)\n",
            "Requirement already satisfied: beautifulsoup4>=4.8 in /usr/local/lib/python3.10/dist-packages (from astroquery) (4.12.3)\n",
            "Requirement already satisfied: html5lib>=0.999 in /usr/local/lib/python3.10/dist-packages (from astroquery) (1.1)\n",
            "Requirement already satisfied: keyring>=15.0 in /usr/lib/python3/dist-packages (from astroquery) (23.5.0)\n",
            "Collecting pyvo>=1.1 (from astroquery)\n",
            "  Downloading pyvo-1.5.2-py3-none-any.whl (910 kB)\n",
            "\u001b[2K     \u001b[90m━━━━━━━━━━━━━━━━━━━━━━━━━━━━━━━━━━━━━━━━\u001b[0m \u001b[32m910.8/910.8 kB\u001b[0m \u001b[31m25.4 MB/s\u001b[0m eta \u001b[36m0:00:00\u001b[0m\n",
            "\u001b[?25hRequirement already satisfied: pyerfa>=2.0 in /usr/local/lib/python3.10/dist-packages (from astropy) (2.0.1.4)\n",
            "Requirement already satisfied: PyYAML>=3.13 in /usr/local/lib/python3.10/dist-packages (from astropy) (6.0.1)\n",
            "Requirement already satisfied: packaging>=19.0 in /usr/local/lib/python3.10/dist-packages (from astropy) (24.0)\n",
            "Requirement already satisfied: python-dateutil>=2.8.2 in /usr/local/lib/python3.10/dist-packages (from pandas) (2.8.2)\n",
            "Requirement already satisfied: pytz>=2020.1 in /usr/local/lib/python3.10/dist-packages (from pandas) (2023.4)\n",
            "Requirement already satisfied: tzdata>=2022.1 in /usr/local/lib/python3.10/dist-packages (from pandas) (2024.1)\n",
            "Requirement already satisfied: contourpy>=1.0.1 in /usr/local/lib/python3.10/dist-packages (from matplotlib) (1.2.1)\n",
            "Requirement already satisfied: cycler>=0.10 in /usr/local/lib/python3.10/dist-packages (from matplotlib) (0.12.1)\n",
            "Requirement already satisfied: fonttools>=4.22.0 in /usr/local/lib/python3.10/dist-packages (from matplotlib) (4.53.0)\n",
            "Requirement already satisfied: kiwisolver>=1.0.1 in /usr/local/lib/python3.10/dist-packages (from matplotlib) (1.4.5)\n",
            "Requirement already satisfied: pillow>=6.2.0 in /usr/local/lib/python3.10/dist-packages (from matplotlib) (9.4.0)\n",
            "Requirement already satisfied: pyparsing>=2.3.1 in /usr/local/lib/python3.10/dist-packages (from matplotlib) (3.1.2)\n",
            "Requirement already satisfied: soupsieve>1.2 in /usr/local/lib/python3.10/dist-packages (from beautifulsoup4>=4.8->astroquery) (2.5)\n",
            "Requirement already satisfied: six>=1.9 in /usr/local/lib/python3.10/dist-packages (from html5lib>=0.999->astroquery) (1.16.0)\n",
            "Requirement already satisfied: webencodings in /usr/local/lib/python3.10/dist-packages (from html5lib>=0.999->astroquery) (0.5.1)\n",
            "Requirement already satisfied: charset-normalizer<4,>=2 in /usr/local/lib/python3.10/dist-packages (from requests>=2.19->astroquery) (3.3.2)\n",
            "Requirement already satisfied: idna<4,>=2.5 in /usr/local/lib/python3.10/dist-packages (from requests>=2.19->astroquery) (3.7)\n",
            "Requirement already satisfied: urllib3<3,>=1.21.1 in /usr/local/lib/python3.10/dist-packages (from requests>=2.19->astroquery) (2.0.7)\n",
            "Requirement already satisfied: certifi>=2017.4.17 in /usr/local/lib/python3.10/dist-packages (from requests>=2.19->astroquery) (2024.6.2)\n",
            "\u001b[31mERROR: Operation cancelled by user\u001b[0m\u001b[31m\n",
            "\u001b[0m"
          ]
        },
        {
          "output_type": "error",
          "ename": "ModuleNotFoundError",
          "evalue": "No module named 'astroquery'",
          "traceback": [
            "\u001b[0;31m---------------------------------------------------------------------------\u001b[0m",
            "\u001b[0;31mModuleNotFoundError\u001b[0m                       Traceback (most recent call last)",
            "\u001b[0;32m<ipython-input-1-d351642735bb>\u001b[0m in \u001b[0;36m<cell line: 5>\u001b[0;34m()\u001b[0m\n\u001b[1;32m      3\u001b[0m \u001b[0;34m\u001b[0m\u001b[0m\n\u001b[1;32m      4\u001b[0m \u001b[0;31m# Importa les llibreries\u001b[0m\u001b[0;34m\u001b[0m\u001b[0;34m\u001b[0m\u001b[0m\n\u001b[0;32m----> 5\u001b[0;31m \u001b[0;32mfrom\u001b[0m \u001b[0mastroquery\u001b[0m\u001b[0;34m.\u001b[0m\u001b[0mmast\u001b[0m \u001b[0;32mimport\u001b[0m \u001b[0mObservations\u001b[0m\u001b[0;34m\u001b[0m\u001b[0;34m\u001b[0m\u001b[0m\n\u001b[0m\u001b[1;32m      6\u001b[0m \u001b[0;32mfrom\u001b[0m \u001b[0mastropy\u001b[0m\u001b[0;34m.\u001b[0m\u001b[0mtable\u001b[0m \u001b[0;32mimport\u001b[0m \u001b[0mTable\u001b[0m\u001b[0;34m\u001b[0m\u001b[0;34m\u001b[0m\u001b[0m\n\u001b[1;32m      7\u001b[0m \u001b[0;32mimport\u001b[0m \u001b[0mpandas\u001b[0m \u001b[0;32mas\u001b[0m \u001b[0mpd\u001b[0m\u001b[0;34m\u001b[0m\u001b[0;34m\u001b[0m\u001b[0m\n",
            "\u001b[0;31mModuleNotFoundError\u001b[0m: No module named 'astroquery'",
            "",
            "\u001b[0;31m---------------------------------------------------------------------------\u001b[0;32m\nNOTE: If your import is failing due to a missing package, you can\nmanually install dependencies using either !pip or !apt.\n\nTo view examples of installing some common dependencies, click the\n\"Open Examples\" button below.\n\u001b[0;31m---------------------------------------------------------------------------\u001b[0m\n"
          ],
          "errorDetails": {
            "actions": [
              {
                "action": "open_url",
                "actionText": "Open Examples",
                "url": "/notebooks/snippets/importing_libraries.ipynb"
              }
            ]
          }
        }
      ],
      "source": [
        "# Not memory enough in device?\n",
        "# Instal·la les llibreries necessàries\n",
        "!pip install astroquery astropy pandas matplotlib\n",
        "\n",
        "# Importa les llibreries\n",
        "from astroquery.mast import Observations\n",
        "from astropy.table import Table\n",
        "import pandas as pd\n",
        "import matplotlib.pyplot as plt\n",
        "from astropy.io import fits\n",
        "\n",
        "# Configura les opcions de visualització\n",
        "%matplotlib inline\n",
        "\n",
        "# Cerca les observacions del JWST per estrelles O o exoplanetes\n",
        "target_name = \"HD 209458\"  # Canvia \"HD 209458\" pel nom de l'objectiu\n",
        "\n",
        "# Cerca observacions espectroscòpiques\n",
        "observations = Observations.query_object(target_name, radius=\"0.02 deg\")\n",
        "\n",
        "# Filtra per col·lecció de dades JWST i tipus de producte espectroscòpic\n",
        "jwst_observations = observations[observations['obs_collection'] == 'JWST']\n",
        "spectra_observations = jwst_observations[jwst_observations['dataproduct_type'] == 'spectrum']\n",
        "\n",
        "# Mostra les primeres observacions trobades\n",
        "observations_df = spectra_observations.to_pandas()\n",
        "print(observations_df.head())\n",
        "\n",
        "# Selecciona una observació específica\n",
        "obs_id = observations_df['obsid'].iloc[0]\n",
        "\n",
        "# Descarrega les dades\n",
        "data_products = Observations.get_product_list(obs_id)\n",
        "manifest = Observations.download_products(data_products)\n",
        "\n",
        "# Filtra per productes de tipus FITS\n",
        "fits_products = data_products[data_products['productFilename'].str.endswith('.fits')]\n",
        "\n",
        "# Selecciona un fitxer espectroscòpic específic\n",
        "spectrum_file = f'mastDownload/JWST/{obs_id}/{fits_products[\"productFilename\"].iloc[0]}'\n",
        "\n",
        "# Llegeix el fitxer FITS\n",
        "with fits.open(spectrum_file) as hdul:\n",
        "    spectrum_data = Table(hdul[1].data)\n",
        "\n",
        "# Converteix a DataFrame\n",
        "spectrum_df = spectrum_data.to_pandas()\n",
        "\n",
        "# Mostra les primeres files de les dades espectroscòpiques\n",
        "print(spectrum_df.head())\n",
        "\n",
        "# Plota l'espectre\n",
        "plt.figure(figsize=(10, 6))\n",
        "plt.plot(spectrum_df['WAVELENGTH'], spectrum_df['FLUX'], marker='.', linestyle='none')\n",
        "plt.xlabel('Wavelength (Å)')\n",
        "plt.ylabel('Flux')\n",
        "plt.title(f'Spectrum of {target_name}')\n",
        "plt.show()"
      ]
    },
    {
      "cell_type": "code",
      "source": [
        "!pip install astroquery\n",
        "import pandas as pd\n",
        "from astroquery.mast import Observations\n",
        "\n",
        "# Query MAST for observations\n",
        "observations = Observations.query_criteria(\n",
        "    project='JWST',\n",
        "    intentType='science',\n",
        "    target_name='HD209458'\n",
        ")\n",
        "\n",
        "# Get data products for the observations\n",
        "data_products = Observations.get_product_list(observations)\n",
        "\n",
        "# Convert to a Pandas DataFrame\n",
        "data_products_df = data_products.to_pandas()\n",
        "\n",
        "# Filter for FITS files only\n",
        "fits_products = data_products_df[data_products_df['productFilename'].str.endswith('.fits')]\n",
        "\n",
        "# Select the first FITS file for analysis\n",
        "if not fits_products.empty:\n",
        "    first_fits_file = fits_products.iloc[0]\n",
        "    print(first_fits_file)\n",
        "else:\n",
        "    print(\"No FITS files found.\")"
      ],
      "metadata": {
        "colab": {
          "base_uri": "https://localhost:8080/"
        },
        "id": "SOI_7RD-kVpN",
        "outputId": "f51e2db2-3261-4165-8fbb-fd067a9037e0"
      },
      "execution_count": 4,
      "outputs": [
        {
          "output_type": "stream",
          "name": "stdout",
          "text": [
            "Collecting astroquery\n",
            "  Using cached astroquery-0.4.7-py3-none-any.whl (5.3 MB)\n",
            "Requirement already satisfied: numpy>=1.18 in /usr/local/lib/python3.10/dist-packages (from astroquery) (1.25.2)\n",
            "Requirement already satisfied: astropy>=4.2.1 in /usr/local/lib/python3.10/dist-packages (from astroquery) (5.3.4)\n",
            "Requirement already satisfied: requests>=2.19 in /usr/local/lib/python3.10/dist-packages (from astroquery) (2.31.0)\n",
            "Requirement already satisfied: beautifulsoup4>=4.8 in /usr/local/lib/python3.10/dist-packages (from astroquery) (4.12.3)\n",
            "Requirement already satisfied: html5lib>=0.999 in /usr/local/lib/python3.10/dist-packages (from astroquery) (1.1)\n",
            "Requirement already satisfied: keyring>=15.0 in /usr/lib/python3/dist-packages (from astroquery) (23.5.0)\n",
            "Collecting pyvo>=1.1 (from astroquery)\n",
            "  Using cached pyvo-1.5.2-py3-none-any.whl (910 kB)\n",
            "Requirement already satisfied: pyerfa>=2.0 in /usr/local/lib/python3.10/dist-packages (from astropy>=4.2.1->astroquery) (2.0.1.4)\n",
            "Requirement already satisfied: PyYAML>=3.13 in /usr/local/lib/python3.10/dist-packages (from astropy>=4.2.1->astroquery) (6.0.1)\n",
            "Requirement already satisfied: packaging>=19.0 in /usr/local/lib/python3.10/dist-packages (from astropy>=4.2.1->astroquery) (24.0)\n",
            "Requirement already satisfied: soupsieve>1.2 in /usr/local/lib/python3.10/dist-packages (from beautifulsoup4>=4.8->astroquery) (2.5)\n",
            "Requirement already satisfied: six>=1.9 in /usr/local/lib/python3.10/dist-packages (from html5lib>=0.999->astroquery) (1.16.0)\n",
            "Requirement already satisfied: webencodings in /usr/local/lib/python3.10/dist-packages (from html5lib>=0.999->astroquery) (0.5.1)\n",
            "Requirement already satisfied: charset-normalizer<4,>=2 in /usr/local/lib/python3.10/dist-packages (from requests>=2.19->astroquery) (3.3.2)\n",
            "Requirement already satisfied: idna<4,>=2.5 in /usr/local/lib/python3.10/dist-packages (from requests>=2.19->astroquery) (3.7)\n",
            "Requirement already satisfied: urllib3<3,>=1.21.1 in /usr/local/lib/python3.10/dist-packages (from requests>=2.19->astroquery) (2.0.7)\n",
            "Requirement already satisfied: certifi>=2017.4.17 in /usr/local/lib/python3.10/dist-packages (from requests>=2.19->astroquery) (2024.6.2)\n",
            "Installing collected packages: pyvo, astroquery\n",
            "Successfully installed astroquery-0.4.7 pyvo-1.5.2\n",
            "obsID                                                                 100311161\n",
            "obs_collection                                                             JWST\n",
            "dataproduct_type                                                          image\n",
            "obs_id                                jw01274003001_02102_00001-seg001_nrcalong\n",
            "description                                         FGS1 guide star acquisition\n",
            "type                                                                          S\n",
            "dataURI                       mast:JWST/product/jw01274003001_gs-acq1_202231...\n",
            "productType                                                           AUXILIARY\n",
            "productGroupDescription                                                     NaN\n",
            "productSubGroupDescription                                              GS-ACQ1\n",
            "productDocumentationURL                                                     NaN\n",
            "project                                                                 CALJWST\n",
            "prvversion                                                                  NaN\n",
            "proposal_id                                                                1274\n",
            "productFilename                 jw01274003001_gs-acq1_2022310120752_stream.fits\n",
            "size                                                                     406080\n",
            "parent_obsid                                                          100379736\n",
            "dataRights                                                               PUBLIC\n",
            "calib_level                                                                   1\n",
            "filters                                                                   F335M\n",
            "Name: 0, dtype: object\n"
          ]
        }
      ]
    },
    {
      "cell_type": "code",
      "source": [
        "\n",
        "# Install necessary libraries\n",
        "!pip install astroquery astropy pandas matplotlib\n",
        "\n",
        "# Import the necessary libraries\n",
        "from astroquery.mast import Observations\n",
        "from astropy.table import Table\n",
        "import pandas as pd\n",
        "import matplotlib.pyplot as plt\n",
        "from astropy.io import fits\n",
        "\n",
        "# Configure the visualization options\n",
        "%matplotlib inline\n",
        "\n",
        "# Define the target name\n",
        "target_name = \"HD 209458\"\n",
        "\n",
        "# Search for observations from JWST\n",
        "observations = Observations.query_object(target_name, radius=\"0.02 deg\")\n",
        "\n",
        "# Filter for JWST data and spectroscopic products\n",
        "jwst_observations = observations[observations['obs_collection'] == 'JWST']\n",
        "spectra_observations = jwst_observations[jwst_observations['dataproduct_type'] == 'spectrum']\n",
        "\n",
        "# Convert to a Pandas DataFrame and display the first few observations\n",
        "observations_df = spectra_observations.to_pandas()\n",
        "print(observations_df.head())\n",
        "\n",
        "# Ensure there are spectroscopic observations\n",
        "if not spectra_observations:\n",
        "    print(\"No spectroscopic observations found for the target.\")\n",
        "else:\n",
        "    # Select a specific observation ID\n",
        "    obs_id = observations_df['obsid'].iloc[0]\n",
        "\n",
        "    # Get the data products for the selected observation\n",
        "    data_products = Observations.get_product_list(obs_id)\n",
        "    manifest = Observations.download_products(data_products)\n",
        "\n",
        "    # Filter for FITS files\n",
        "    data_products_df = data_products.to_pandas()\n",
        "    fits_files = data_products_df[data_products_df['productFilename'].str.endswith('.fits')]\n",
        "\n",
        "    # Ensure there are FITS files\n",
        "    if fits_files.empty:\n",
        "        print(\"No FITS files found in the data products.\")\n",
        "    else:\n",
        "        # Select a specific FITS file\n",
        "        spectrum_file = fits_files.iloc[0]['productFilename']\n",
        "        local_path = f'mastDownload/JWST/{obs_id}/{spectrum_file}'\n",
        "\n",
        "        # Open the FITS file and read the data\n",
        "        with fits.open(local_path) as hdul:\n",
        "            spectrum_data = Table(hdul[1].data)\n",
        "\n",
        "        # Convert the spectrum data to a Pandas DataFrame\n",
        "        spectrum_df = spectrum_data.to_pandas()\n",
        "\n",
        "        # Display the first few rows of the spectroscopic data\n",
        "        print(spectrum_df.head())\n",
        "\n",
        "        # Plot the spectrum\n",
        "        plt.figure(figsize=(10, 6))\n",
        "        plt.plot(spectrum_df['WAVELENGTH'], spectrum_df['FLUX'], marker='.', linestyle='none')\n",
        "        plt.xlabel('Wavelength (Å)')\n",
        "        plt.ylabel('Flux')\n",
        "        plt.title(f'Spectrum of {target_name}')\n",
        "        plt.show()"
      ],
      "metadata": {
        "colab": {
          "base_uri": "https://localhost:8080/"
        },
        "id": "SEXI0R87lnff",
        "outputId": "fd7dadd1-4414-40a7-95b3-993e124ef457"
      },
      "execution_count": null,
      "outputs": [
        {
          "output_type": "stream",
          "name": "stdout",
          "text": [
            "Requirement already satisfied: astroquery in /usr/local/lib/python3.10/dist-packages (0.4.7)\n",
            "Requirement already satisfied: astropy in /usr/local/lib/python3.10/dist-packages (5.3.4)\n",
            "Requirement already satisfied: pandas in /usr/local/lib/python3.10/dist-packages (2.0.3)\n",
            "Requirement already satisfied: matplotlib in /usr/local/lib/python3.10/dist-packages (3.7.1)\n",
            "Requirement already satisfied: numpy>=1.18 in /usr/local/lib/python3.10/dist-packages (from astroquery) (1.25.2)\n",
            "Requirement already satisfied: requests>=2.19 in /usr/local/lib/python3.10/dist-packages (from astroquery) (2.31.0)\n",
            "Requirement already satisfied: beautifulsoup4>=4.8 in /usr/local/lib/python3.10/dist-packages (from astroquery) (4.12.3)\n",
            "Requirement already satisfied: html5lib>=0.999 in /usr/local/lib/python3.10/dist-packages (from astroquery) (1.1)\n",
            "Requirement already satisfied: keyring>=15.0 in /usr/lib/python3/dist-packages (from astroquery) (23.5.0)\n",
            "Requirement already satisfied: pyvo>=1.1 in /usr/local/lib/python3.10/dist-packages (from astroquery) (1.5.2)\n",
            "Requirement already satisfied: pyerfa>=2.0 in /usr/local/lib/python3.10/dist-packages (from astropy) (2.0.1.4)\n",
            "Requirement already satisfied: PyYAML>=3.13 in /usr/local/lib/python3.10/dist-packages (from astropy) (6.0.1)\n",
            "Requirement already satisfied: packaging>=19.0 in /usr/local/lib/python3.10/dist-packages (from astropy) (24.0)\n",
            "Requirement already satisfied: python-dateutil>=2.8.2 in /usr/local/lib/python3.10/dist-packages (from pandas) (2.8.2)\n",
            "Requirement already satisfied: pytz>=2020.1 in /usr/local/lib/python3.10/dist-packages (from pandas) (2023.4)\n",
            "Requirement already satisfied: tzdata>=2022.1 in /usr/local/lib/python3.10/dist-packages (from pandas) (2024.1)\n",
            "Requirement already satisfied: contourpy>=1.0.1 in /usr/local/lib/python3.10/dist-packages (from matplotlib) (1.2.1)\n",
            "Requirement already satisfied: cycler>=0.10 in /usr/local/lib/python3.10/dist-packages (from matplotlib) (0.12.1)\n",
            "Requirement already satisfied: fonttools>=4.22.0 in /usr/local/lib/python3.10/dist-packages (from matplotlib) (4.53.0)\n",
            "Requirement already satisfied: kiwisolver>=1.0.1 in /usr/local/lib/python3.10/dist-packages (from matplotlib) (1.4.5)\n",
            "Requirement already satisfied: pillow>=6.2.0 in /usr/local/lib/python3.10/dist-packages (from matplotlib) (9.4.0)\n",
            "Requirement already satisfied: pyparsing>=2.3.1 in /usr/local/lib/python3.10/dist-packages (from matplotlib) (3.1.2)\n",
            "Requirement already satisfied: soupsieve>1.2 in /usr/local/lib/python3.10/dist-packages (from beautifulsoup4>=4.8->astroquery) (2.5)\n",
            "Requirement already satisfied: six>=1.9 in /usr/local/lib/python3.10/dist-packages (from html5lib>=0.999->astroquery) (1.16.0)\n",
            "Requirement already satisfied: webencodings in /usr/local/lib/python3.10/dist-packages (from html5lib>=0.999->astroquery) (0.5.1)\n",
            "Requirement already satisfied: charset-normalizer<4,>=2 in /usr/local/lib/python3.10/dist-packages (from requests>=2.19->astroquery) (3.3.2)\n",
            "Requirement already satisfied: idna<4,>=2.5 in /usr/local/lib/python3.10/dist-packages (from requests>=2.19->astroquery) (3.7)\n",
            "Requirement already satisfied: urllib3<3,>=1.21.1 in /usr/local/lib/python3.10/dist-packages (from requests>=2.19->astroquery) (2.0.7)\n",
            "Requirement already satisfied: certifi>=2017.4.17 in /usr/local/lib/python3.10/dist-packages (from requests>=2.19->astroquery) (2024.6.2)\n",
            "  intentType obs_collection provenance_name instrument_name project  \\\n",
            "0    science           JWST         CALJWST    NIRCAM/GRISM    JWST   \n",
            "1    science           JWST         CALJWST    NIRCAM/GRISM    JWST   \n",
            "2    science           JWST         CALJWST   MIRI/SLITLESS    JWST   \n",
            "\n",
            "         filters wavelength_region target_name  \\\n",
            "0  F322W2;GRISMR          Infrared    HD209458   \n",
            "1   F444W;GRISMR          Infrared    HD209458   \n",
            "2          P750L          Infrared   HD-209458   \n",
            "\n",
            "               target_classification  \\\n",
            "0  Star; Exoplanet Systems; G dwarfs   \n",
            "1  Star; Exoplanet Systems; G dwarfs   \n",
            "2                   Star; Exoplanets   \n",
            "\n",
            "                                              obs_id  ...  proposal_type  \\\n",
            "0  jw01274-o002_t002_nircam_f322w2-grismr-subgrism64  ...            GTO   \n",
            "1   jw01274-o003_t002_nircam_f444w-grismr-subgrism64  ...            GTO   \n",
            "2         jw02667-o051_t001_miri_p750l-slitlessprism  ...             GO   \n",
            "\n",
            "   sequence_number                                           s_region jpegURL  \\\n",
            "0             <NA>  POLYGON 330.82464956 18.88380543 330.78628759 ...     NaN   \n",
            "1             <NA>  POLYGON 330.81165566 18.88374319 330.7733084 1...     NaN   \n",
            "2             <NA>  POLYGON 330.79555274 18.87486285 330.79326294 ...     NaN   \n",
            "\n",
            "                                             dataURL        dataRights  \\\n",
            "0  mast:JWST/product/jw01274-o002_t002_nircam_f32...            PUBLIC   \n",
            "1  mast:JWST/product/jw01274-o003_t002_nircam_f44...            PUBLIC   \n",
            "2  mast:JWST/product/jw02667-o051_t001_miri_p750l...  EXCLUSIVE_ACCESS   \n",
            "\n",
            "   mtFlag  srcDen      obsid  distance  \n",
            "0   False     NaN  100714281       0.0  \n",
            "1   False     NaN  100379736       0.0  \n",
            "2   False     NaN  158352467       0.0  \n",
            "\n",
            "[3 rows x 33 columns]\n"
          ]
        },
        {
          "output_type": "stream",
          "name": "stderr",
          "text": [
            "INFO:astroquery:26 of 224 products were duplicates. Only downloading 198 unique product(s).\n",
            "INFO:astroquery:Found cached file ./mastDownload/JWST/jw01274002001_02102_00001-seg001_nrcalong/jw01274-o002_20240522t020405_image2_00001_asn.json with expected size 1438.\n"
          ]
        },
        {
          "output_type": "stream",
          "name": "stdout",
          "text": [
            "INFO: 26 of 224 products were duplicates. Only downloading 198 unique product(s). [astroquery.mast.observations]\n",
            "INFO: Found cached file ./mastDownload/JWST/jw01274002001_02102_00001-seg001_nrcalong/jw01274-o002_20240522t020405_image2_00001_asn.json with expected size 1438. [astroquery.query]\n"
          ]
        },
        {
          "output_type": "stream",
          "name": "stderr",
          "text": [
            "INFO:astroquery:Found cached file ./mastDownload/JWST/jw01274002001_04103_00001-seg013_nrcalong/jw01274-o002_20240522t020405_tso-spec2_00001_asn.json with expected size 1917.\n"
          ]
        },
        {
          "output_type": "stream",
          "name": "stdout",
          "text": [
            "INFO: Found cached file ./mastDownload/JWST/jw01274002001_04103_00001-seg013_nrcalong/jw01274-o002_20240522t020405_tso-spec2_00001_asn.json with expected size 1917. [astroquery.query]\n"
          ]
        },
        {
          "output_type": "stream",
          "name": "stderr",
          "text": [
            "INFO:astroquery:Found cached file ./mastDownload/JWST/jw01274002001_04103_00001-seg012_nrcalong/jw01274-o002_20240522t020405_tso-spec2_00002_asn.json with expected size 1917.\n"
          ]
        },
        {
          "output_type": "stream",
          "name": "stdout",
          "text": [
            "INFO: Found cached file ./mastDownload/JWST/jw01274002001_04103_00001-seg012_nrcalong/jw01274-o002_20240522t020405_tso-spec2_00002_asn.json with expected size 1917. [astroquery.query]\n"
          ]
        },
        {
          "output_type": "stream",
          "name": "stderr",
          "text": [
            "INFO:astroquery:Found cached file ./mastDownload/JWST/jw01274002001_04103_00001-seg011_nrcalong/jw01274-o002_20240522t020405_tso-spec2_00003_asn.json with expected size 1917.\n"
          ]
        },
        {
          "output_type": "stream",
          "name": "stdout",
          "text": [
            "INFO: Found cached file ./mastDownload/JWST/jw01274002001_04103_00001-seg011_nrcalong/jw01274-o002_20240522t020405_tso-spec2_00003_asn.json with expected size 1917. [astroquery.query]\n"
          ]
        },
        {
          "output_type": "stream",
          "name": "stderr",
          "text": [
            "INFO:astroquery:Found cached file ./mastDownload/JWST/jw01274002001_04103_00001-seg010_nrcalong/jw01274-o002_20240522t020405_tso-spec2_00004_asn.json with expected size 1917.\n"
          ]
        },
        {
          "output_type": "stream",
          "name": "stdout",
          "text": [
            "INFO: Found cached file ./mastDownload/JWST/jw01274002001_04103_00001-seg010_nrcalong/jw01274-o002_20240522t020405_tso-spec2_00004_asn.json with expected size 1917. [astroquery.query]\n"
          ]
        },
        {
          "output_type": "stream",
          "name": "stderr",
          "text": [
            "INFO:astroquery:Found cached file ./mastDownload/JWST/jw01274002001_04103_00001-seg009_nrcalong/jw01274-o002_20240522t020405_tso-spec2_00005_asn.json with expected size 1917.\n"
          ]
        },
        {
          "output_type": "stream",
          "name": "stdout",
          "text": [
            "INFO: Found cached file ./mastDownload/JWST/jw01274002001_04103_00001-seg009_nrcalong/jw01274-o002_20240522t020405_tso-spec2_00005_asn.json with expected size 1917. [astroquery.query]\n"
          ]
        },
        {
          "output_type": "stream",
          "name": "stderr",
          "text": [
            "INFO:astroquery:Found cached file ./mastDownload/JWST/jw01274002001_04103_00001-seg008_nrcalong/jw01274-o002_20240522t020405_tso-spec2_00006_asn.json with expected size 1917.\n"
          ]
        },
        {
          "output_type": "stream",
          "name": "stdout",
          "text": [
            "INFO: Found cached file ./mastDownload/JWST/jw01274002001_04103_00001-seg008_nrcalong/jw01274-o002_20240522t020405_tso-spec2_00006_asn.json with expected size 1917. [astroquery.query]\n"
          ]
        },
        {
          "output_type": "stream",
          "name": "stderr",
          "text": [
            "INFO:astroquery:Found cached file ./mastDownload/JWST/jw01274002001_04103_00001-seg007_nrcalong/jw01274-o002_20240522t020405_tso-spec2_00007_asn.json with expected size 1917.\n"
          ]
        },
        {
          "output_type": "stream",
          "name": "stdout",
          "text": [
            "INFO: Found cached file ./mastDownload/JWST/jw01274002001_04103_00001-seg007_nrcalong/jw01274-o002_20240522t020405_tso-spec2_00007_asn.json with expected size 1917. [astroquery.query]\n"
          ]
        },
        {
          "output_type": "stream",
          "name": "stderr",
          "text": [
            "INFO:astroquery:Found cached file ./mastDownload/JWST/jw01274002001_04103_00001-seg006_nrcalong/jw01274-o002_20240522t020405_tso-spec2_00008_asn.json with expected size 1917.\n"
          ]
        },
        {
          "output_type": "stream",
          "name": "stdout",
          "text": [
            "INFO: Found cached file ./mastDownload/JWST/jw01274002001_04103_00001-seg006_nrcalong/jw01274-o002_20240522t020405_tso-spec2_00008_asn.json with expected size 1917. [astroquery.query]\n"
          ]
        },
        {
          "output_type": "stream",
          "name": "stderr",
          "text": [
            "INFO:astroquery:Found cached file ./mastDownload/JWST/jw01274002001_04103_00001-seg005_nrcalong/jw01274-o002_20240522t020405_tso-spec2_00009_asn.json with expected size 1917.\n"
          ]
        },
        {
          "output_type": "stream",
          "name": "stdout",
          "text": [
            "INFO: Found cached file ./mastDownload/JWST/jw01274002001_04103_00001-seg005_nrcalong/jw01274-o002_20240522t020405_tso-spec2_00009_asn.json with expected size 1917. [astroquery.query]\n"
          ]
        },
        {
          "output_type": "stream",
          "name": "stderr",
          "text": [
            "INFO:astroquery:Found cached file ./mastDownload/JWST/jw01274002001_04103_00001-seg004_nrcalong/jw01274-o002_20240522t020405_tso-spec2_00010_asn.json with expected size 1917.\n"
          ]
        },
        {
          "output_type": "stream",
          "name": "stdout",
          "text": [
            "INFO: Found cached file ./mastDownload/JWST/jw01274002001_04103_00001-seg004_nrcalong/jw01274-o002_20240522t020405_tso-spec2_00010_asn.json with expected size 1917. [astroquery.query]\n"
          ]
        },
        {
          "output_type": "stream",
          "name": "stderr",
          "text": [
            "INFO:astroquery:Found cached file ./mastDownload/JWST/jw01274002001_04103_00001-seg003_nrcalong/jw01274-o002_20240522t020405_tso-spec2_00011_asn.json with expected size 1917.\n"
          ]
        },
        {
          "output_type": "stream",
          "name": "stdout",
          "text": [
            "INFO: Found cached file ./mastDownload/JWST/jw01274002001_04103_00001-seg003_nrcalong/jw01274-o002_20240522t020405_tso-spec2_00011_asn.json with expected size 1917. [astroquery.query]\n"
          ]
        },
        {
          "output_type": "stream",
          "name": "stderr",
          "text": [
            "INFO:astroquery:Found cached file ./mastDownload/JWST/jw01274002001_04103_00001-seg002_nrcalong/jw01274-o002_20240522t020405_tso-spec2_00012_asn.json with expected size 1917.\n"
          ]
        },
        {
          "output_type": "stream",
          "name": "stdout",
          "text": [
            "INFO: Found cached file ./mastDownload/JWST/jw01274002001_04103_00001-seg002_nrcalong/jw01274-o002_20240522t020405_tso-spec2_00012_asn.json with expected size 1917. [astroquery.query]\n"
          ]
        },
        {
          "output_type": "stream",
          "name": "stderr",
          "text": [
            "INFO:astroquery:Found cached file ./mastDownload/JWST/jw01274002001_04103_00001-seg001_nrcalong/jw01274-o002_20240522t020405_tso-spec2_00013_asn.json with expected size 1917.\n"
          ]
        },
        {
          "output_type": "stream",
          "name": "stdout",
          "text": [
            "INFO: Found cached file ./mastDownload/JWST/jw01274002001_04103_00001-seg001_nrcalong/jw01274-o002_20240522t020405_tso-spec2_00013_asn.json with expected size 1917. [astroquery.query]\n"
          ]
        },
        {
          "output_type": "stream",
          "name": "stderr",
          "text": [
            "INFO:astroquery:Found cached file ./mastDownload/JWST/jw01274-o002_t002_nircam_f322w2-grismr-subgrism64/jw01274-o002_20240522t020405_tso3_00001_asn.json with expected size 6006.\n"
          ]
        },
        {
          "output_type": "stream",
          "name": "stdout",
          "text": [
            "INFO: Found cached file ./mastDownload/JWST/jw01274-o002_t002_nircam_f322w2-grismr-subgrism64/jw01274-o002_20240522t020405_tso3_00001_asn.json with expected size 6006. [astroquery.query]\n"
          ]
        },
        {
          "output_type": "stream",
          "name": "stderr",
          "text": [
            "INFO:astroquery:Found cached file ./mastDownload/JWST/jw01274002001_04103_00001-seg002_nrcalong/jw01274-o002_t002_nircam_clear-wlp4-subgrism64_phot.ecsv with expected size 4537665.\n"
          ]
        },
        {
          "output_type": "stream",
          "name": "stdout",
          "text": [
            "INFO: Found cached file ./mastDownload/JWST/jw01274002001_04103_00001-seg002_nrcalong/jw01274-o002_t002_nircam_clear-wlp4-subgrism64_phot.ecsv with expected size 4537665. [astroquery.query]\n"
          ]
        },
        {
          "output_type": "stream",
          "name": "stderr",
          "text": [
            "INFO:astroquery:Found cached file ./mastDownload/JWST/jw01274-o002_t002_nircam_f322w2-grismr-subgrism64/jw01274-o002_t002_nircam_f322w2-grismr-subgrism64_whtlt.ecsv with expected size 348176.\n"
          ]
        },
        {
          "output_type": "stream",
          "name": "stdout",
          "text": [
            "INFO: Found cached file ./mastDownload/JWST/jw01274-o002_t002_nircam_f322w2-grismr-subgrism64/jw01274-o002_t002_nircam_f322w2-grismr-subgrism64_whtlt.ecsv with expected size 348176. [astroquery.query]\n"
          ]
        },
        {
          "output_type": "stream",
          "name": "stderr",
          "text": [
            "INFO:astroquery:Found cached file ./mastDownload/JWST/jw01274-o002_t002_nircam_f322w2-grismr-subgrism64/jw01274-o002_t002_nircam_f322w2-grismr-subgrism64_x1dints.fits with expected size 3091351680.\n"
          ]
        },
        {
          "output_type": "stream",
          "name": "stdout",
          "text": [
            "INFO: Found cached file ./mastDownload/JWST/jw01274-o002_t002_nircam_f322w2-grismr-subgrism64/jw01274-o002_t002_nircam_f322w2-grismr-subgrism64_x1dints.fits with expected size 3091351680. [astroquery.query]\n"
          ]
        },
        {
          "output_type": "stream",
          "name": "stderr",
          "text": [
            "INFO:astroquery:Found cached file ./mastDownload/JWST/jw01274002001_02102_00001-seg001_nrcalong/jw01274002001_02102_00001-seg001_nrcalong_cal.fits with expected size 123840.\n"
          ]
        },
        {
          "output_type": "stream",
          "name": "stdout",
          "text": [
            "INFO: Found cached file ./mastDownload/JWST/jw01274002001_02102_00001-seg001_nrcalong/jw01274002001_02102_00001-seg001_nrcalong_cal.fits with expected size 123840. [astroquery.query]\n"
          ]
        },
        {
          "output_type": "stream",
          "name": "stderr",
          "text": [
            "INFO:astroquery:Found cached file ./mastDownload/JWST/jw01274002001_02102_00001-seg001_nrcalong/jw01274002001_02102_00001-seg001_nrcalong_cal.jpg with expected size 846.\n"
          ]
        },
        {
          "output_type": "stream",
          "name": "stdout",
          "text": [
            "INFO: Found cached file ./mastDownload/JWST/jw01274002001_02102_00001-seg001_nrcalong/jw01274002001_02102_00001-seg001_nrcalong_cal.jpg with expected size 846. [astroquery.query]\n"
          ]
        },
        {
          "output_type": "stream",
          "name": "stderr",
          "text": [
            "INFO:astroquery:Found cached file ./mastDownload/JWST/jw01274002001_02102_00001-seg001_nrcalong/jw01274002001_02102_00001-seg001_nrcalong_ramp.fits with expected size 118080.\n"
          ]
        },
        {
          "output_type": "stream",
          "name": "stdout",
          "text": [
            "INFO: Found cached file ./mastDownload/JWST/jw01274002001_02102_00001-seg001_nrcalong/jw01274002001_02102_00001-seg001_nrcalong_ramp.fits with expected size 118080. [astroquery.query]\n"
          ]
        },
        {
          "output_type": "stream",
          "name": "stderr",
          "text": [
            "INFO:astroquery:Found cached file ./mastDownload/JWST/jw01274002001_02102_00001-seg001_nrcalong/jw01274002001_02102_00001-seg001_nrcalong_ramp.jpg with expected size 819.\n"
          ]
        },
        {
          "output_type": "stream",
          "name": "stdout",
          "text": [
            "INFO: Found cached file ./mastDownload/JWST/jw01274002001_02102_00001-seg001_nrcalong/jw01274002001_02102_00001-seg001_nrcalong_ramp.jpg with expected size 819. [astroquery.query]\n"
          ]
        },
        {
          "output_type": "stream",
          "name": "stderr",
          "text": [
            "INFO:astroquery:Found cached file ./mastDownload/JWST/jw01274002001_02102_00001-seg001_nrcalong/jw01274002001_02102_00001-seg001_nrcalong_rate.fits with expected size 80640.\n"
          ]
        },
        {
          "output_type": "stream",
          "name": "stdout",
          "text": [
            "INFO: Found cached file ./mastDownload/JWST/jw01274002001_02102_00001-seg001_nrcalong/jw01274002001_02102_00001-seg001_nrcalong_rate.fits with expected size 80640. [astroquery.query]\n"
          ]
        },
        {
          "output_type": "stream",
          "name": "stderr",
          "text": [
            "INFO:astroquery:Found cached file ./mastDownload/JWST/jw01274002001_02102_00001-seg001_nrcalong/jw01274002001_02102_00001-seg001_nrcalong_rate.jpg with expected size 805.\n"
          ]
        },
        {
          "output_type": "stream",
          "name": "stdout",
          "text": [
            "INFO: Found cached file ./mastDownload/JWST/jw01274002001_02102_00001-seg001_nrcalong/jw01274002001_02102_00001-seg001_nrcalong_rate.jpg with expected size 805. [astroquery.query]\n"
          ]
        },
        {
          "output_type": "stream",
          "name": "stderr",
          "text": [
            "INFO:astroquery:Found cached file ./mastDownload/JWST/jw01274002001_02102_00001-seg001_nrcalong/jw01274002001_02102_00001-seg001_nrcalong_rateints.fits with expected size 86400.\n"
          ]
        },
        {
          "output_type": "stream",
          "name": "stdout",
          "text": [
            "INFO: Found cached file ./mastDownload/JWST/jw01274002001_02102_00001-seg001_nrcalong/jw01274002001_02102_00001-seg001_nrcalong_rateints.fits with expected size 86400. [astroquery.query]\n"
          ]
        },
        {
          "output_type": "stream",
          "name": "stderr",
          "text": [
            "INFO:astroquery:Found cached file ./mastDownload/JWST/jw01274002001_02102_00001-seg001_nrcalong/jw01274002001_02102_00001-seg001_nrcalong_rateints.jpg with expected size 805.\n"
          ]
        },
        {
          "output_type": "stream",
          "name": "stdout",
          "text": [
            "INFO: Found cached file ./mastDownload/JWST/jw01274002001_02102_00001-seg001_nrcalong/jw01274002001_02102_00001-seg001_nrcalong_rateints.jpg with expected size 805. [astroquery.query]\n"
          ]
        },
        {
          "output_type": "stream",
          "name": "stderr",
          "text": [
            "INFO:astroquery:Found cached file ./mastDownload/JWST/jw01274002001_02102_00001-seg001_nrcalong/jw01274002001_02102_00001-seg001_nrcalong_uncal.fits with expected size 72000.\n"
          ]
        },
        {
          "output_type": "stream",
          "name": "stdout",
          "text": [
            "INFO: Found cached file ./mastDownload/JWST/jw01274002001_02102_00001-seg001_nrcalong/jw01274002001_02102_00001-seg001_nrcalong_uncal.fits with expected size 72000. [astroquery.query]\n"
          ]
        },
        {
          "output_type": "stream",
          "name": "stderr",
          "text": [
            "INFO:astroquery:Found cached file ./mastDownload/JWST/jw01274002001_02102_00001-seg001_nrcalong/jw01274002001_02102_00001-seg001_nrcalong_uncal.jpg with expected size 918.\n"
          ]
        },
        {
          "output_type": "stream",
          "name": "stdout",
          "text": [
            "INFO: Found cached file ./mastDownload/JWST/jw01274002001_02102_00001-seg001_nrcalong/jw01274002001_02102_00001-seg001_nrcalong_uncal.jpg with expected size 918. [astroquery.query]\n"
          ]
        },
        {
          "output_type": "stream",
          "name": "stderr",
          "text": [
            "INFO:astroquery:Found cached file ./mastDownload/JWST/jw01274002001_04103_00001-seg001_nrcalong/jw01274002001_04103_00001-seg001_nrcalong_calints.fits with expected size 2797231680.\n"
          ]
        },
        {
          "output_type": "stream",
          "name": "stdout",
          "text": [
            "INFO: Found cached file ./mastDownload/JWST/jw01274002001_04103_00001-seg001_nrcalong/jw01274002001_04103_00001-seg001_nrcalong_calints.fits with expected size 2797231680. [astroquery.query]\n"
          ]
        },
        {
          "output_type": "stream",
          "name": "stderr",
          "text": [
            "INFO:astroquery:Found cached file ./mastDownload/JWST/jw01274002001_04103_00001-seg001_nrcalong/jw01274002001_04103_00001-seg001_nrcalong_calints.jpg with expected size 16697.\n"
          ]
        },
        {
          "output_type": "stream",
          "name": "stdout",
          "text": [
            "INFO: Found cached file ./mastDownload/JWST/jw01274002001_04103_00001-seg001_nrcalong/jw01274002001_04103_00001-seg001_nrcalong_calints.jpg with expected size 16697. [astroquery.query]\n"
          ]
        },
        {
          "output_type": "stream",
          "name": "stderr",
          "text": [
            "INFO:astroquery:Found cached file ./mastDownload/JWST/jw01274002001_04103_00001-seg001_nrcalong/jw01274002001_04103_00001-seg001_nrcalong_o002_crfints.fits with expected size 2797231680.\n"
          ]
        },
        {
          "output_type": "stream",
          "name": "stdout",
          "text": [
            "INFO: Found cached file ./mastDownload/JWST/jw01274002001_04103_00001-seg001_nrcalong/jw01274002001_04103_00001-seg001_nrcalong_o002_crfints.fits with expected size 2797231680. [astroquery.query]\n"
          ]
        },
        {
          "output_type": "stream",
          "name": "stderr",
          "text": [
            "INFO:astroquery:Found cached file ./mastDownload/JWST/jw01274002001_04103_00001-seg001_nrcalong/jw01274002001_04103_00001-seg001_nrcalong_o002_crfints.jpg with expected size 16697.\n"
          ]
        },
        {
          "output_type": "stream",
          "name": "stdout",
          "text": [
            "INFO: Found cached file ./mastDownload/JWST/jw01274002001_04103_00001-seg001_nrcalong/jw01274002001_04103_00001-seg001_nrcalong_o002_crfints.jpg with expected size 16697. [astroquery.query]\n"
          ]
        },
        {
          "output_type": "stream",
          "name": "stderr",
          "text": [
            "WARNING: Found cached file ./mastDownload/JWST/jw01274002001_04103_00001-seg001_nrcalong/jw01274002001_04103_00001-seg001_nrcalong_ramp.fits with size 805896192 that is different from expected size 3995858880 [astroquery.query]\n",
            "WARNING:astroquery:Found cached file ./mastDownload/JWST/jw01274002001_04103_00001-seg001_nrcalong/jw01274002001_04103_00001-seg001_nrcalong_ramp.fits with size 805896192 that is different from expected size 3995858880\n"
          ]
        },
        {
          "output_type": "stream",
          "name": "stdout",
          "text": [
            " [Done]\n",
            "Downloading URL https://mast.stsci.edu/api/v0.1/Download/file?uri=mast:JWST/product/jw01274002001_04103_00001-seg001_nrcalong_ramp.jpg to ./mastDownload/JWST/jw01274002001_04103_00001-seg001_nrcalong/jw01274002001_04103_00001-seg001_nrcalong_ramp.jpg ... [Done]\n",
            "Downloading URL https://mast.stsci.edu/api/v0.1/Download/file?uri=mast:JWST/product/jw01274002001_04103_00001-seg001_nrcalong_rate.fits to ./mastDownload/JWST/jw01274002001_04103_00001-seg001_nrcalong/jw01274002001_04103_00001-seg001_nrcalong_rate.fits ... [Done]\n",
            "Downloading URL https://mast.stsci.edu/api/v0.1/Download/file?uri=mast:JWST/product/jw01274002001_04103_00001-seg001_nrcalong_rate.jpg to ./mastDownload/JWST/jw01274002001_04103_00001-seg001_nrcalong/jw01274002001_04103_00001-seg001_nrcalong_rate.jpg ... [Done]\n",
            "Downloading URL https://mast.stsci.edu/api/v0.1/Download/file?uri=mast:JWST/product/jw01274002001_04103_00001-seg001_nrcalong_rateints.fits to ./mastDownload/JWST/jw01274002001_04103_00001-seg001_nrcalong/jw01274002001_04103_00001-seg001_nrcalong_rateints.fits ... [Done]\n",
            "Downloading URL https://mast.stsci.edu/api/v0.1/Download/file?uri=mast:JWST/product/jw01274002001_04103_00001-seg001_nrcalong_rateints.jpg to ./mastDownload/JWST/jw01274002001_04103_00001-seg001_nrcalong/jw01274002001_04103_00001-seg001_nrcalong_rateints.jpg ... [Done]\n",
            "Downloading URL https://mast.stsci.edu/api/v0.1/Download/file?uri=mast:JWST/product/jw01274002001_04103_00001-seg001_nrcalong_uncal.fits to ./mastDownload/JWST/jw01274002001_04103_00001-seg001_nrcalong/jw01274002001_04103_00001-seg001_nrcalong_uncal.fits ... [Done]\n",
            "Downloading URL https://mast.stsci.edu/api/v0.1/Download/file?uri=mast:JWST/product/jw01274002001_04103_00001-seg001_nrcalong_uncal.jpg to ./mastDownload/JWST/jw01274002001_04103_00001-seg001_nrcalong/jw01274002001_04103_00001-seg001_nrcalong_uncal.jpg ... [Done]\n",
            "Downloading URL https://mast.stsci.edu/api/v0.1/Download/file?uri=mast:JWST/product/jw01274002001_04103_00001-seg001_nrcalong_x1dints.fits to ./mastDownload/JWST/jw01274002001_04103_00001-seg001_nrcalong/jw01274002001_04103_00001-seg001_nrcalong_x1dints.fits ... [Done]\n",
            "Downloading URL https://mast.stsci.edu/api/v0.1/Download/file?uri=mast:JWST/product/jw01274002001_04103_00001-seg002_nrcalong_calints.fits to ./mastDownload/JWST/jw01274002001_04103_00001-seg002_nrcalong/jw01274002001_04103_00001-seg002_nrcalong_calints.fits ... [Done]\n",
            "Downloading URL https://mast.stsci.edu/api/v0.1/Download/file?uri=mast:JWST/product/jw01274002001_04103_00001-seg002_nrcalong_calints.jpg to ./mastDownload/JWST/jw01274002001_04103_00001-seg002_nrcalong/jw01274002001_04103_00001-seg002_nrcalong_calints.jpg ... [Done]\n",
            "Downloading URL https://mast.stsci.edu/api/v0.1/Download/file?uri=mast:JWST/product/jw01274002001_04103_00001-seg002_nrcalong_o002_crfints.fits to ./mastDownload/JWST/jw01274002001_04103_00001-seg002_nrcalong/jw01274002001_04103_00001-seg002_nrcalong_o002_crfints.fits ... [Done]\n",
            "Downloading URL https://mast.stsci.edu/api/v0.1/Download/file?uri=mast:JWST/product/jw01274002001_04103_00001-seg002_nrcalong_o002_crfints.jpg to ./mastDownload/JWST/jw01274002001_04103_00001-seg002_nrcalong/jw01274002001_04103_00001-seg002_nrcalong_o002_crfints.jpg ... [Done]\n",
            "Downloading URL https://mast.stsci.edu/api/v0.1/Download/file?uri=mast:JWST/product/jw01274002001_04103_00001-seg002_nrcalong_ramp.fits to ./mastDownload/JWST/jw01274002001_04103_00001-seg002_nrcalong/jw01274002001_04103_00001-seg002_nrcalong_ramp.fits ..."
          ]
        }
      ]
    }
  ],
  "metadata": {
    "colab": {
      "provenance": [],
      "authorship_tag": "ABX9TyPgtUcS+IrGUiBVywIUB0lz",
      "include_colab_link": true
    },
    "kernelspec": {
      "display_name": "Python 3",
      "name": "python3"
    },
    "language_info": {
      "name": "python"
    }
  },
  "nbformat": 4,
  "nbformat_minor": 0
}