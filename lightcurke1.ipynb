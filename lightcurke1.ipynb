{
  "nbformat": 4,
  "nbformat_minor": 0,
  "metadata": {
    "colab": {
      "provenance": [],
      "authorship_tag": "ABX9TyN9ZWInsZGkaMVekntj8WhT",
      "include_colab_link": true
    },
    "kernelspec": {
      "name": "python3",
      "display_name": "Python 3"
    },
    "language_info": {
      "name": "python"
    },
    "widgets": {
      "application/vnd.jupyter.widget-state+json": {
        "523eb97bc4cb43aa8e2fee04e6c8f9e2": {
          "model_module": "@jupyter-widgets/controls",
          "model_name": "TextModel",
          "model_module_version": "1.5.0",
          "state": {
            "_dom_classes": [],
            "_model_module": "@jupyter-widgets/controls",
            "_model_module_version": "1.5.0",
            "_model_name": "TextModel",
            "_view_count": null,
            "_view_module": "@jupyter-widgets/controls",
            "_view_module_version": "1.5.0",
            "_view_name": "TextView",
            "continuous_update": true,
            "description": "Exoplaneta:",
            "description_tooltip": null,
            "disabled": false,
            "layout": "IPY_MODEL_b4115a63dff547e89f2f11b772edb950",
            "placeholder": "Introdueix el nom de l'exoplaneta",
            "style": "IPY_MODEL_b61d506e96634417b33d74a33df12925",
            "value": "Trappist-1"
          }
        },
        "b4115a63dff547e89f2f11b772edb950": {
          "model_module": "@jupyter-widgets/base",
          "model_name": "LayoutModel",
          "model_module_version": "1.2.0",
          "state": {
            "_model_module": "@jupyter-widgets/base",
            "_model_module_version": "1.2.0",
            "_model_name": "LayoutModel",
            "_view_count": null,
            "_view_module": "@jupyter-widgets/base",
            "_view_module_version": "1.2.0",
            "_view_name": "LayoutView",
            "align_content": null,
            "align_items": null,
            "align_self": null,
            "border": null,
            "bottom": null,
            "display": null,
            "flex": null,
            "flex_flow": null,
            "grid_area": null,
            "grid_auto_columns": null,
            "grid_auto_flow": null,
            "grid_auto_rows": null,
            "grid_column": null,
            "grid_gap": null,
            "grid_row": null,
            "grid_template_areas": null,
            "grid_template_columns": null,
            "grid_template_rows": null,
            "height": null,
            "justify_content": null,
            "justify_items": null,
            "left": null,
            "margin": null,
            "max_height": null,
            "max_width": null,
            "min_height": null,
            "min_width": null,
            "object_fit": null,
            "object_position": null,
            "order": null,
            "overflow": null,
            "overflow_x": null,
            "overflow_y": null,
            "padding": null,
            "right": null,
            "top": null,
            "visibility": null,
            "width": null
          }
        },
        "b61d506e96634417b33d74a33df12925": {
          "model_module": "@jupyter-widgets/controls",
          "model_name": "DescriptionStyleModel",
          "model_module_version": "1.5.0",
          "state": {
            "_model_module": "@jupyter-widgets/controls",
            "_model_module_version": "1.5.0",
            "_model_name": "DescriptionStyleModel",
            "_view_count": null,
            "_view_module": "@jupyter-widgets/base",
            "_view_module_version": "1.2.0",
            "_view_name": "StyleView",
            "description_width": ""
          }
        },
        "7f61dfb030fb458b82db86000ac7c7d3": {
          "model_module": "@jupyter-widgets/controls",
          "model_name": "ButtonModel",
          "model_module_version": "1.5.0",
          "state": {
            "_dom_classes": [],
            "_model_module": "@jupyter-widgets/controls",
            "_model_module_version": "1.5.0",
            "_model_name": "ButtonModel",
            "_view_count": null,
            "_view_module": "@jupyter-widgets/controls",
            "_view_module_version": "1.5.0",
            "_view_name": "ButtonView",
            "button_style": "",
            "description": "Obtenir corba de llum",
            "disabled": false,
            "icon": "",
            "layout": "IPY_MODEL_7da69e4c926447c69765847c6fc439f0",
            "style": "IPY_MODEL_650c13ec456c4174a93d67463d56af36",
            "tooltip": ""
          }
        },
        "7da69e4c926447c69765847c6fc439f0": {
          "model_module": "@jupyter-widgets/base",
          "model_name": "LayoutModel",
          "model_module_version": "1.2.0",
          "state": {
            "_model_module": "@jupyter-widgets/base",
            "_model_module_version": "1.2.0",
            "_model_name": "LayoutModel",
            "_view_count": null,
            "_view_module": "@jupyter-widgets/base",
            "_view_module_version": "1.2.0",
            "_view_name": "LayoutView",
            "align_content": null,
            "align_items": null,
            "align_self": null,
            "border": null,
            "bottom": null,
            "display": null,
            "flex": null,
            "flex_flow": null,
            "grid_area": null,
            "grid_auto_columns": null,
            "grid_auto_flow": null,
            "grid_auto_rows": null,
            "grid_column": null,
            "grid_gap": null,
            "grid_row": null,
            "grid_template_areas": null,
            "grid_template_columns": null,
            "grid_template_rows": null,
            "height": null,
            "justify_content": null,
            "justify_items": null,
            "left": null,
            "margin": null,
            "max_height": null,
            "max_width": null,
            "min_height": null,
            "min_width": null,
            "object_fit": null,
            "object_position": null,
            "order": null,
            "overflow": null,
            "overflow_x": null,
            "overflow_y": null,
            "padding": null,
            "right": null,
            "top": null,
            "visibility": null,
            "width": null
          }
        },
        "650c13ec456c4174a93d67463d56af36": {
          "model_module": "@jupyter-widgets/controls",
          "model_name": "ButtonStyleModel",
          "model_module_version": "1.5.0",
          "state": {
            "_model_module": "@jupyter-widgets/controls",
            "_model_module_version": "1.5.0",
            "_model_name": "ButtonStyleModel",
            "_view_count": null,
            "_view_module": "@jupyter-widgets/base",
            "_view_module_version": "1.2.0",
            "_view_name": "StyleView",
            "button_color": null,
            "font_weight": ""
          }
        },
        "eb9c4ec451744800a725a0aab6addace": {
          "model_module": "@jupyter-widgets/controls",
          "model_name": "TextModel",
          "model_module_version": "1.5.0",
          "state": {
            "_dom_classes": [],
            "_model_module": "@jupyter-widgets/controls",
            "_model_module_version": "1.5.0",
            "_model_name": "TextModel",
            "_view_count": null,
            "_view_module": "@jupyter-widgets/controls",
            "_view_module_version": "1.5.0",
            "_view_name": "TextView",
            "continuous_update": true,
            "description": "Exoplanet Name:",
            "description_tooltip": null,
            "disabled": false,
            "layout": "IPY_MODEL_d30b8b5299af4784ac0f1b17297cb413",
            "placeholder": "Enter the name of an exoplanet",
            "style": "IPY_MODEL_025cb388ec4d4c348a822c44ab312d18",
            "value": "Kepler-10"
          }
        },
        "d30b8b5299af4784ac0f1b17297cb413": {
          "model_module": "@jupyter-widgets/base",
          "model_name": "LayoutModel",
          "model_module_version": "1.2.0",
          "state": {
            "_model_module": "@jupyter-widgets/base",
            "_model_module_version": "1.2.0",
            "_model_name": "LayoutModel",
            "_view_count": null,
            "_view_module": "@jupyter-widgets/base",
            "_view_module_version": "1.2.0",
            "_view_name": "LayoutView",
            "align_content": null,
            "align_items": null,
            "align_self": null,
            "border": null,
            "bottom": null,
            "display": null,
            "flex": null,
            "flex_flow": null,
            "grid_area": null,
            "grid_auto_columns": null,
            "grid_auto_flow": null,
            "grid_auto_rows": null,
            "grid_column": null,
            "grid_gap": null,
            "grid_row": null,
            "grid_template_areas": null,
            "grid_template_columns": null,
            "grid_template_rows": null,
            "height": null,
            "justify_content": null,
            "justify_items": null,
            "left": null,
            "margin": null,
            "max_height": null,
            "max_width": null,
            "min_height": null,
            "min_width": null,
            "object_fit": null,
            "object_position": null,
            "order": null,
            "overflow": null,
            "overflow_x": null,
            "overflow_y": null,
            "padding": null,
            "right": null,
            "top": null,
            "visibility": null,
            "width": null
          }
        },
        "025cb388ec4d4c348a822c44ab312d18": {
          "model_module": "@jupyter-widgets/controls",
          "model_name": "DescriptionStyleModel",
          "model_module_version": "1.5.0",
          "state": {
            "_model_module": "@jupyter-widgets/controls",
            "_model_module_version": "1.5.0",
            "_model_name": "DescriptionStyleModel",
            "_view_count": null,
            "_view_module": "@jupyter-widgets/base",
            "_view_module_version": "1.2.0",
            "_view_name": "StyleView",
            "description_width": ""
          }
        },
        "08d9f127362b4e7fbbdc0bbdfc1ce6ff": {
          "model_module": "@jupyter-widgets/output",
          "model_name": "OutputModel",
          "model_module_version": "1.0.0",
          "state": {
            "_dom_classes": [],
            "_model_module": "@jupyter-widgets/output",
            "_model_module_version": "1.0.0",
            "_model_name": "OutputModel",
            "_view_count": null,
            "_view_module": "@jupyter-widgets/output",
            "_view_module_version": "1.0.0",
            "_view_name": "OutputView",
            "layout": "IPY_MODEL_ae534ead29364f988397ee0d3088ec9d",
            "msg_id": "",
            "outputs": [
              {
                "output_type": "stream",
                "name": "stdout",
                "text": [
                  "\n",
                  "        Exoplanet Name: Kepler-1037 b\n",
                  "        Discovery Method: Transit\n",
                  "        Orbital Period (days): 1.06378867 d\n",
                  "        Planet Radius (Jupiter radii): 0.114 jupiterRad\n",
                  "        Planet Mass (Jupiter mass): 0.00687 jupiterMass\n",
                  "        Host Star Name: Kepler-1037\n",
                  "        Host Star Effective Temperature (K): 5105.0 K\n",
                  "        Host Star Radius (solar radii): 0.78 Rsun\n",
                  "        Host Star Mass (solar mass): 0.82 Msun\n",
                  "        \n"
                ]
              }
            ]
          }
        },
        "ae534ead29364f988397ee0d3088ec9d": {
          "model_module": "@jupyter-widgets/base",
          "model_name": "LayoutModel",
          "model_module_version": "1.2.0",
          "state": {
            "_model_module": "@jupyter-widgets/base",
            "_model_module_version": "1.2.0",
            "_model_name": "LayoutModel",
            "_view_count": null,
            "_view_module": "@jupyter-widgets/base",
            "_view_module_version": "1.2.0",
            "_view_name": "LayoutView",
            "align_content": null,
            "align_items": null,
            "align_self": null,
            "border": null,
            "bottom": null,
            "display": null,
            "flex": null,
            "flex_flow": null,
            "grid_area": null,
            "grid_auto_columns": null,
            "grid_auto_flow": null,
            "grid_auto_rows": null,
            "grid_column": null,
            "grid_gap": null,
            "grid_row": null,
            "grid_template_areas": null,
            "grid_template_columns": null,
            "grid_template_rows": null,
            "height": null,
            "justify_content": null,
            "justify_items": null,
            "left": null,
            "margin": null,
            "max_height": null,
            "max_width": null,
            "min_height": null,
            "min_width": null,
            "object_fit": null,
            "object_position": null,
            "order": null,
            "overflow": null,
            "overflow_x": null,
            "overflow_y": null,
            "padding": null,
            "right": null,
            "top": null,
            "visibility": null,
            "width": null
          }
        },
        "43a9f04f36dc49f7ac005c564602c75b": {
          "model_module": "@jupyter-widgets/controls",
          "model_name": "TextModel",
          "model_module_version": "1.5.0",
          "state": {
            "_dom_classes": [],
            "_model_module": "@jupyter-widgets/controls",
            "_model_module_version": "1.5.0",
            "_model_name": "TextModel",
            "_view_count": null,
            "_view_module": "@jupyter-widgets/controls",
            "_view_module_version": "1.5.0",
            "_view_name": "TextView",
            "continuous_update": true,
            "description": "Exoplaneta:",
            "description_tooltip": null,
            "disabled": false,
            "layout": "IPY_MODEL_9547339c8b69460ca6d13e8a0cc219a9",
            "placeholder": "Introdueix el nom de l'exoplaneta",
            "style": "IPY_MODEL_dd34b484280242948b5d80108828ad2b",
            "value": "KIC 8462852"
          }
        },
        "9547339c8b69460ca6d13e8a0cc219a9": {
          "model_module": "@jupyter-widgets/base",
          "model_name": "LayoutModel",
          "model_module_version": "1.2.0",
          "state": {
            "_model_module": "@jupyter-widgets/base",
            "_model_module_version": "1.2.0",
            "_model_name": "LayoutModel",
            "_view_count": null,
            "_view_module": "@jupyter-widgets/base",
            "_view_module_version": "1.2.0",
            "_view_name": "LayoutView",
            "align_content": null,
            "align_items": null,
            "align_self": null,
            "border": null,
            "bottom": null,
            "display": null,
            "flex": null,
            "flex_flow": null,
            "grid_area": null,
            "grid_auto_columns": null,
            "grid_auto_flow": null,
            "grid_auto_rows": null,
            "grid_column": null,
            "grid_gap": null,
            "grid_row": null,
            "grid_template_areas": null,
            "grid_template_columns": null,
            "grid_template_rows": null,
            "height": null,
            "justify_content": null,
            "justify_items": null,
            "left": null,
            "margin": null,
            "max_height": null,
            "max_width": null,
            "min_height": null,
            "min_width": null,
            "object_fit": null,
            "object_position": null,
            "order": null,
            "overflow": null,
            "overflow_x": null,
            "overflow_y": null,
            "padding": null,
            "right": null,
            "top": null,
            "visibility": null,
            "width": null
          }
        },
        "dd34b484280242948b5d80108828ad2b": {
          "model_module": "@jupyter-widgets/controls",
          "model_name": "DescriptionStyleModel",
          "model_module_version": "1.5.0",
          "state": {
            "_model_module": "@jupyter-widgets/controls",
            "_model_module_version": "1.5.0",
            "_model_name": "DescriptionStyleModel",
            "_view_count": null,
            "_view_module": "@jupyter-widgets/base",
            "_view_module_version": "1.2.0",
            "_view_name": "StyleView",
            "description_width": ""
          }
        },
        "4ea4e8e8af25493c90733d57c4b6a957": {
          "model_module": "@jupyter-widgets/controls",
          "model_name": "ButtonModel",
          "model_module_version": "1.5.0",
          "state": {
            "_dom_classes": [],
            "_model_module": "@jupyter-widgets/controls",
            "_model_module_version": "1.5.0",
            "_model_name": "ButtonModel",
            "_view_count": null,
            "_view_module": "@jupyter-widgets/controls",
            "_view_module_version": "1.5.0",
            "_view_name": "ButtonView",
            "button_style": "",
            "description": "Obtenir corba de llum",
            "disabled": false,
            "icon": "",
            "layout": "IPY_MODEL_80ebd849d3584e0a9cf64f25249b1519",
            "style": "IPY_MODEL_0becc197035e4a4cbdb24aa669bf37ad",
            "tooltip": ""
          }
        },
        "80ebd849d3584e0a9cf64f25249b1519": {
          "model_module": "@jupyter-widgets/base",
          "model_name": "LayoutModel",
          "model_module_version": "1.2.0",
          "state": {
            "_model_module": "@jupyter-widgets/base",
            "_model_module_version": "1.2.0",
            "_model_name": "LayoutModel",
            "_view_count": null,
            "_view_module": "@jupyter-widgets/base",
            "_view_module_version": "1.2.0",
            "_view_name": "LayoutView",
            "align_content": null,
            "align_items": null,
            "align_self": null,
            "border": null,
            "bottom": null,
            "display": null,
            "flex": null,
            "flex_flow": null,
            "grid_area": null,
            "grid_auto_columns": null,
            "grid_auto_flow": null,
            "grid_auto_rows": null,
            "grid_column": null,
            "grid_gap": null,
            "grid_row": null,
            "grid_template_areas": null,
            "grid_template_columns": null,
            "grid_template_rows": null,
            "height": null,
            "justify_content": null,
            "justify_items": null,
            "left": null,
            "margin": null,
            "max_height": null,
            "max_width": null,
            "min_height": null,
            "min_width": null,
            "object_fit": null,
            "object_position": null,
            "order": null,
            "overflow": null,
            "overflow_x": null,
            "overflow_y": null,
            "padding": null,
            "right": null,
            "top": null,
            "visibility": null,
            "width": null
          }
        },
        "0becc197035e4a4cbdb24aa669bf37ad": {
          "model_module": "@jupyter-widgets/controls",
          "model_name": "ButtonStyleModel",
          "model_module_version": "1.5.0",
          "state": {
            "_model_module": "@jupyter-widgets/controls",
            "_model_module_version": "1.5.0",
            "_model_name": "ButtonStyleModel",
            "_view_count": null,
            "_view_module": "@jupyter-widgets/base",
            "_view_module_version": "1.2.0",
            "_view_name": "StyleView",
            "button_color": null,
            "font_weight": ""
          }
        },
        "14e59d41599d409dbddcca5cb07046b5": {
          "model_module": "@jupyter-widgets/controls",
          "model_name": "TextModel",
          "model_module_version": "1.5.0",
          "state": {
            "_dom_classes": [],
            "_model_module": "@jupyter-widgets/controls",
            "_model_module_version": "1.5.0",
            "_model_name": "TextModel",
            "_view_count": null,
            "_view_module": "@jupyter-widgets/controls",
            "_view_module_version": "1.5.0",
            "_view_name": "TextView",
            "continuous_update": true,
            "description": "Estrella:",
            "description_tooltip": null,
            "disabled": false,
            "layout": "IPY_MODEL_e5a7e19e015745d68d762fadfd4a3a4a",
            "placeholder": "Introdueix el nom de l'estrella",
            "style": "IPY_MODEL_9a1685b8834c4dc59983f7751c8581b4",
            "value": "TRAPPIST"
          }
        },
        "e5a7e19e015745d68d762fadfd4a3a4a": {
          "model_module": "@jupyter-widgets/base",
          "model_name": "LayoutModel",
          "model_module_version": "1.2.0",
          "state": {
            "_model_module": "@jupyter-widgets/base",
            "_model_module_version": "1.2.0",
            "_model_name": "LayoutModel",
            "_view_count": null,
            "_view_module": "@jupyter-widgets/base",
            "_view_module_version": "1.2.0",
            "_view_name": "LayoutView",
            "align_content": null,
            "align_items": null,
            "align_self": null,
            "border": null,
            "bottom": null,
            "display": null,
            "flex": null,
            "flex_flow": null,
            "grid_area": null,
            "grid_auto_columns": null,
            "grid_auto_flow": null,
            "grid_auto_rows": null,
            "grid_column": null,
            "grid_gap": null,
            "grid_row": null,
            "grid_template_areas": null,
            "grid_template_columns": null,
            "grid_template_rows": null,
            "height": null,
            "justify_content": null,
            "justify_items": null,
            "left": null,
            "margin": null,
            "max_height": null,
            "max_width": null,
            "min_height": null,
            "min_width": null,
            "object_fit": null,
            "object_position": null,
            "order": null,
            "overflow": null,
            "overflow_x": null,
            "overflow_y": null,
            "padding": null,
            "right": null,
            "top": null,
            "visibility": null,
            "width": null
          }
        },
        "9a1685b8834c4dc59983f7751c8581b4": {
          "model_module": "@jupyter-widgets/controls",
          "model_name": "DescriptionStyleModel",
          "model_module_version": "1.5.0",
          "state": {
            "_model_module": "@jupyter-widgets/controls",
            "_model_module_version": "1.5.0",
            "_model_name": "DescriptionStyleModel",
            "_view_count": null,
            "_view_module": "@jupyter-widgets/base",
            "_view_module_version": "1.2.0",
            "_view_name": "StyleView",
            "description_width": ""
          }
        },
        "4ee74732ab354c11bf045b2975f804eb": {
          "model_module": "@jupyter-widgets/controls",
          "model_name": "ButtonModel",
          "model_module_version": "1.5.0",
          "state": {
            "_dom_classes": [],
            "_model_module": "@jupyter-widgets/controls",
            "_model_module_version": "1.5.0",
            "_model_name": "ButtonModel",
            "_view_count": null,
            "_view_module": "@jupyter-widgets/controls",
            "_view_module_version": "1.5.0",
            "_view_name": "ButtonView",
            "button_style": "",
            "description": "Obtenir corba de llum",
            "disabled": false,
            "icon": "",
            "layout": "IPY_MODEL_7f5d98a1691d48c49b5e54c70ba03600",
            "style": "IPY_MODEL_45455c250c0544cf8b704b316f581e58",
            "tooltip": ""
          }
        },
        "7f5d98a1691d48c49b5e54c70ba03600": {
          "model_module": "@jupyter-widgets/base",
          "model_name": "LayoutModel",
          "model_module_version": "1.2.0",
          "state": {
            "_model_module": "@jupyter-widgets/base",
            "_model_module_version": "1.2.0",
            "_model_name": "LayoutModel",
            "_view_count": null,
            "_view_module": "@jupyter-widgets/base",
            "_view_module_version": "1.2.0",
            "_view_name": "LayoutView",
            "align_content": null,
            "align_items": null,
            "align_self": null,
            "border": null,
            "bottom": null,
            "display": null,
            "flex": null,
            "flex_flow": null,
            "grid_area": null,
            "grid_auto_columns": null,
            "grid_auto_flow": null,
            "grid_auto_rows": null,
            "grid_column": null,
            "grid_gap": null,
            "grid_row": null,
            "grid_template_areas": null,
            "grid_template_columns": null,
            "grid_template_rows": null,
            "height": null,
            "justify_content": null,
            "justify_items": null,
            "left": null,
            "margin": null,
            "max_height": null,
            "max_width": null,
            "min_height": null,
            "min_width": null,
            "object_fit": null,
            "object_position": null,
            "order": null,
            "overflow": null,
            "overflow_x": null,
            "overflow_y": null,
            "padding": null,
            "right": null,
            "top": null,
            "visibility": null,
            "width": null
          }
        },
        "45455c250c0544cf8b704b316f581e58": {
          "model_module": "@jupyter-widgets/controls",
          "model_name": "ButtonStyleModel",
          "model_module_version": "1.5.0",
          "state": {
            "_model_module": "@jupyter-widgets/controls",
            "_model_module_version": "1.5.0",
            "_model_name": "ButtonStyleModel",
            "_view_count": null,
            "_view_module": "@jupyter-widgets/base",
            "_view_module_version": "1.2.0",
            "_view_name": "StyleView",
            "button_color": null,
            "font_weight": ""
          }
        }
      }
    }
  },
  "cells": [
    {
      "cell_type": "markdown",
      "metadata": {
        "id": "view-in-github",
        "colab_type": "text"
      },
      "source": [
        "<a href=\"https://colab.research.google.com/github/drfperez/lightkurve/blob/main/lightcurke1.ipynb\" target=\"_parent\"><img src=\"https://colab.research.google.com/assets/colab-badge.svg\" alt=\"Open In Colab\"/></a>"
      ]
    },
    {
      "cell_type": "code",
      "execution_count": null,
      "metadata": {
        "colab": {
          "base_uri": "https://localhost:8080/"
        },
        "id": "58ovF9rogj5z",
        "outputId": "cef68d5f-02d1-4233-b222-712f31ed985e"
      },
      "outputs": [
        {
          "output_type": "stream",
          "name": "stdout",
          "text": [
            "Collecting lightkurve\n",
            "  Downloading lightkurve-2.4.2-py3-none-any.whl (265 kB)\n",
            "\u001b[2K     \u001b[90m━━━━━━━━━━━━━━━━━━━━━━━━━━━━━━━━━━━━━━━━\u001b[0m \u001b[32m265.9/265.9 kB\u001b[0m \u001b[31m2.3 MB/s\u001b[0m eta \u001b[36m0:00:00\u001b[0m\n",
            "\u001b[?25hRequirement already satisfied: astropy in /usr/local/lib/python3.10/dist-packages (5.3.4)\n",
            "Requirement already satisfied: matplotlib in /usr/local/lib/python3.10/dist-packages (3.7.1)\n",
            "Requirement already satisfied: numpy in /usr/local/lib/python3.10/dist-packages (1.25.2)\n",
            "Requirement already satisfied: scipy in /usr/local/lib/python3.10/dist-packages (1.11.4)\n",
            "Requirement already satisfied: ipywidgets in /usr/local/lib/python3.10/dist-packages (7.7.1)\n",
            "Collecting astroquery>=0.3.10 (from lightkurve)\n",
            "  Downloading astroquery-0.4.7-py3-none-any.whl (5.3 MB)\n",
            "\u001b[2K     \u001b[90m━━━━━━━━━━━━━━━━━━━━━━━━━━━━━━━━━━━━━━━━\u001b[0m \u001b[32m5.3/5.3 MB\u001b[0m \u001b[31m20.8 MB/s\u001b[0m eta \u001b[36m0:00:00\u001b[0m\n",
            "\u001b[?25hRequirement already satisfied: beautifulsoup4>=4.6.0 in /usr/local/lib/python3.10/dist-packages (from lightkurve) (4.12.3)\n",
            "Requirement already satisfied: bokeh>=2.0.0 in /usr/local/lib/python3.10/dist-packages (from lightkurve) (3.3.4)\n",
            "Collecting fbpca>=1.0 (from lightkurve)\n",
            "  Downloading fbpca-1.0.tar.gz (11 kB)\n",
            "  Preparing metadata (setup.py) ... \u001b[?25l\u001b[?25hdone\n",
            "Collecting memoization>=0.3.1 (from lightkurve)\n",
            "  Downloading memoization-0.4.0.tar.gz (41 kB)\n",
            "\u001b[2K     \u001b[90m━━━━━━━━━━━━━━━━━━━━━━━━━━━━━━━━━━━━━━━━\u001b[0m \u001b[32m41.2/41.2 kB\u001b[0m \u001b[31m4.3 MB/s\u001b[0m eta \u001b[36m0:00:00\u001b[0m\n",
            "\u001b[?25h  Preparing metadata (setup.py) ... \u001b[?25l\u001b[?25hdone\n",
            "Collecting oktopus>=0.1.2 (from lightkurve)\n",
            "  Downloading oktopus-0.1.2.tar.gz (10 kB)\n",
            "  Preparing metadata (setup.py) ... \u001b[?25l\u001b[?25hdone\n",
            "Requirement already satisfied: pandas>=1.1.4 in /usr/local/lib/python3.10/dist-packages (from lightkurve) (2.0.3)\n",
            "Requirement already satisfied: patsy>=0.5.0 in /usr/local/lib/python3.10/dist-packages (from lightkurve) (0.5.6)\n",
            "Requirement already satisfied: requests>=2.22.0 in /usr/local/lib/python3.10/dist-packages (from lightkurve) (2.31.0)\n",
            "Requirement already satisfied: scikit-learn>=0.24.0 in /usr/local/lib/python3.10/dist-packages (from lightkurve) (1.2.2)\n",
            "Requirement already satisfied: tqdm>=4.25.0 in /usr/local/lib/python3.10/dist-packages (from lightkurve) (4.66.4)\n",
            "Collecting uncertainties>=3.1.4 (from lightkurve)\n",
            "  Downloading uncertainties-3.1.7-py2.py3-none-any.whl (98 kB)\n",
            "\u001b[2K     \u001b[90m━━━━━━━━━━━━━━━━━━━━━━━━━━━━━━━━━━━━━━━━\u001b[0m \u001b[32m98.4/98.4 kB\u001b[0m \u001b[31m12.1 MB/s\u001b[0m eta \u001b[36m0:00:00\u001b[0m\n",
            "\u001b[?25hRequirement already satisfied: urllib3>=1.23 in /usr/local/lib/python3.10/dist-packages (from lightkurve) (2.0.7)\n",
            "Requirement already satisfied: pyerfa>=2.0 in /usr/local/lib/python3.10/dist-packages (from astropy) (2.0.1.4)\n",
            "Requirement already satisfied: PyYAML>=3.13 in /usr/local/lib/python3.10/dist-packages (from astropy) (6.0.1)\n",
            "Requirement already satisfied: packaging>=19.0 in /usr/local/lib/python3.10/dist-packages (from astropy) (24.0)\n",
            "Requirement already satisfied: contourpy>=1.0.1 in /usr/local/lib/python3.10/dist-packages (from matplotlib) (1.2.1)\n",
            "Requirement already satisfied: cycler>=0.10 in /usr/local/lib/python3.10/dist-packages (from matplotlib) (0.12.1)\n",
            "Requirement already satisfied: fonttools>=4.22.0 in /usr/local/lib/python3.10/dist-packages (from matplotlib) (4.51.0)\n",
            "Requirement already satisfied: kiwisolver>=1.0.1 in /usr/local/lib/python3.10/dist-packages (from matplotlib) (1.4.5)\n",
            "Requirement already satisfied: pillow>=6.2.0 in /usr/local/lib/python3.10/dist-packages (from matplotlib) (9.4.0)\n",
            "Requirement already satisfied: pyparsing>=2.3.1 in /usr/local/lib/python3.10/dist-packages (from matplotlib) (3.1.2)\n",
            "Requirement already satisfied: python-dateutil>=2.7 in /usr/local/lib/python3.10/dist-packages (from matplotlib) (2.8.2)\n",
            "Requirement already satisfied: ipykernel>=4.5.1 in /usr/local/lib/python3.10/dist-packages (from ipywidgets) (5.5.6)\n",
            "Requirement already satisfied: ipython-genutils~=0.2.0 in /usr/local/lib/python3.10/dist-packages (from ipywidgets) (0.2.0)\n",
            "Requirement already satisfied: traitlets>=4.3.1 in /usr/local/lib/python3.10/dist-packages (from ipywidgets) (5.7.1)\n",
            "Requirement already satisfied: widgetsnbextension~=3.6.0 in /usr/local/lib/python3.10/dist-packages (from ipywidgets) (3.6.6)\n",
            "Requirement already satisfied: ipython>=4.0.0 in /usr/local/lib/python3.10/dist-packages (from ipywidgets) (7.34.0)\n",
            "Requirement already satisfied: jupyterlab-widgets>=1.0.0 in /usr/local/lib/python3.10/dist-packages (from ipywidgets) (3.0.10)\n",
            "Requirement already satisfied: html5lib>=0.999 in /usr/local/lib/python3.10/dist-packages (from astroquery>=0.3.10->lightkurve) (1.1)\n",
            "Requirement already satisfied: keyring>=15.0 in /usr/lib/python3/dist-packages (from astroquery>=0.3.10->lightkurve) (23.5.0)\n",
            "Collecting pyvo>=1.1 (from astroquery>=0.3.10->lightkurve)\n",
            "  Downloading pyvo-1.5.2-py3-none-any.whl (910 kB)\n",
            "\u001b[2K     \u001b[90m━━━━━━━━━━━━━━━━━━━━━━━━━━━━━━━━━━━━━━━━\u001b[0m \u001b[32m910.8/910.8 kB\u001b[0m \u001b[31m34.9 MB/s\u001b[0m eta \u001b[36m0:00:00\u001b[0m\n",
            "\u001b[?25hRequirement already satisfied: soupsieve>1.2 in /usr/local/lib/python3.10/dist-packages (from beautifulsoup4>=4.6.0->lightkurve) (2.5)\n",
            "Requirement already satisfied: Jinja2>=2.9 in /usr/local/lib/python3.10/dist-packages (from bokeh>=2.0.0->lightkurve) (3.1.4)\n",
            "Requirement already satisfied: tornado>=5.1 in /usr/local/lib/python3.10/dist-packages (from bokeh>=2.0.0->lightkurve) (6.3.3)\n",
            "Requirement already satisfied: xyzservices>=2021.09.1 in /usr/local/lib/python3.10/dist-packages (from bokeh>=2.0.0->lightkurve) (2024.4.0)\n",
            "Requirement already satisfied: jupyter-client in /usr/local/lib/python3.10/dist-packages (from ipykernel>=4.5.1->ipywidgets) (6.1.12)\n",
            "Requirement already satisfied: setuptools>=18.5 in /usr/local/lib/python3.10/dist-packages (from ipython>=4.0.0->ipywidgets) (67.7.2)\n",
            "Collecting jedi>=0.16 (from ipython>=4.0.0->ipywidgets)\n",
            "  Downloading jedi-0.19.1-py2.py3-none-any.whl (1.6 MB)\n",
            "\u001b[2K     \u001b[90m━━━━━━━━━━━━━━━━━━━━━━━━━━━━━━━━━━━━━━━━\u001b[0m \u001b[32m1.6/1.6 MB\u001b[0m \u001b[31m43.7 MB/s\u001b[0m eta \u001b[36m0:00:00\u001b[0m\n",
            "\u001b[?25hRequirement already satisfied: decorator in /usr/local/lib/python3.10/dist-packages (from ipython>=4.0.0->ipywidgets) (4.4.2)\n",
            "Requirement already satisfied: pickleshare in /usr/local/lib/python3.10/dist-packages (from ipython>=4.0.0->ipywidgets) (0.7.5)\n",
            "Requirement already satisfied: prompt-toolkit!=3.0.0,!=3.0.1,<3.1.0,>=2.0.0 in /usr/local/lib/python3.10/dist-packages (from ipython>=4.0.0->ipywidgets) (3.0.43)\n",
            "Requirement already satisfied: pygments in /usr/local/lib/python3.10/dist-packages (from ipython>=4.0.0->ipywidgets) (2.16.1)\n",
            "Requirement already satisfied: backcall in /usr/local/lib/python3.10/dist-packages (from ipython>=4.0.0->ipywidgets) (0.2.0)\n",
            "Requirement already satisfied: matplotlib-inline in /usr/local/lib/python3.10/dist-packages (from ipython>=4.0.0->ipywidgets) (0.1.7)\n",
            "Requirement already satisfied: pexpect>4.3 in /usr/local/lib/python3.10/dist-packages (from ipython>=4.0.0->ipywidgets) (4.9.0)\n",
            "Requirement already satisfied: autograd in /usr/local/lib/python3.10/dist-packages (from oktopus>=0.1.2->lightkurve) (1.6.2)\n",
            "Requirement already satisfied: pytz>=2020.1 in /usr/local/lib/python3.10/dist-packages (from pandas>=1.1.4->lightkurve) (2023.4)\n",
            "Requirement already satisfied: tzdata>=2022.1 in /usr/local/lib/python3.10/dist-packages (from pandas>=1.1.4->lightkurve) (2024.1)\n",
            "Requirement already satisfied: six in /usr/local/lib/python3.10/dist-packages (from patsy>=0.5.0->lightkurve) (1.16.0)\n",
            "Requirement already satisfied: charset-normalizer<4,>=2 in /usr/local/lib/python3.10/dist-packages (from requests>=2.22.0->lightkurve) (3.3.2)\n",
            "Requirement already satisfied: idna<4,>=2.5 in /usr/local/lib/python3.10/dist-packages (from requests>=2.22.0->lightkurve) (3.7)\n",
            "Requirement already satisfied: certifi>=2017.4.17 in /usr/local/lib/python3.10/dist-packages (from requests>=2.22.0->lightkurve) (2024.2.2)\n",
            "Requirement already satisfied: joblib>=1.1.1 in /usr/local/lib/python3.10/dist-packages (from scikit-learn>=0.24.0->lightkurve) (1.4.2)\n",
            "Requirement already satisfied: threadpoolctl>=2.0.0 in /usr/local/lib/python3.10/dist-packages (from scikit-learn>=0.24.0->lightkurve) (3.5.0)\n",
            "Requirement already satisfied: future in /usr/local/lib/python3.10/dist-packages (from uncertainties>=3.1.4->lightkurve) (0.18.3)\n",
            "Requirement already satisfied: notebook>=4.4.1 in /usr/local/lib/python3.10/dist-packages (from widgetsnbextension~=3.6.0->ipywidgets) (6.5.5)\n",
            "Requirement already satisfied: webencodings in /usr/local/lib/python3.10/dist-packages (from html5lib>=0.999->astroquery>=0.3.10->lightkurve) (0.5.1)\n",
            "Requirement already satisfied: parso<0.9.0,>=0.8.3 in /usr/local/lib/python3.10/dist-packages (from jedi>=0.16->ipython>=4.0.0->ipywidgets) (0.8.4)\n",
            "Requirement already satisfied: MarkupSafe>=2.0 in /usr/local/lib/python3.10/dist-packages (from Jinja2>=2.9->bokeh>=2.0.0->lightkurve) (2.1.5)\n",
            "Requirement already satisfied: pyzmq<25,>=17 in /usr/local/lib/python3.10/dist-packages (from notebook>=4.4.1->widgetsnbextension~=3.6.0->ipywidgets) (24.0.1)\n",
            "Requirement already satisfied: argon2-cffi in /usr/local/lib/python3.10/dist-packages (from notebook>=4.4.1->widgetsnbextension~=3.6.0->ipywidgets) (23.1.0)\n",
            "Requirement already satisfied: jupyter-core>=4.6.1 in /usr/local/lib/python3.10/dist-packages (from notebook>=4.4.1->widgetsnbextension~=3.6.0->ipywidgets) (5.7.2)\n",
            "Requirement already satisfied: nbformat in /usr/local/lib/python3.10/dist-packages (from notebook>=4.4.1->widgetsnbextension~=3.6.0->ipywidgets) (5.10.4)\n",
            "Requirement already satisfied: nbconvert>=5 in /usr/local/lib/python3.10/dist-packages (from notebook>=4.4.1->widgetsnbextension~=3.6.0->ipywidgets) (6.5.4)\n",
            "Requirement already satisfied: nest-asyncio>=1.5 in /usr/local/lib/python3.10/dist-packages (from notebook>=4.4.1->widgetsnbextension~=3.6.0->ipywidgets) (1.6.0)\n",
            "Requirement already satisfied: Send2Trash>=1.8.0 in /usr/local/lib/python3.10/dist-packages (from notebook>=4.4.1->widgetsnbextension~=3.6.0->ipywidgets) (1.8.3)\n",
            "Requirement already satisfied: terminado>=0.8.3 in /usr/local/lib/python3.10/dist-packages (from notebook>=4.4.1->widgetsnbextension~=3.6.0->ipywidgets) (0.18.1)\n",
            "Requirement already satisfied: prometheus-client in /usr/local/lib/python3.10/dist-packages (from notebook>=4.4.1->widgetsnbextension~=3.6.0->ipywidgets) (0.20.0)\n",
            "Requirement already satisfied: nbclassic>=0.4.7 in /usr/local/lib/python3.10/dist-packages (from notebook>=4.4.1->widgetsnbextension~=3.6.0->ipywidgets) (1.0.0)\n",
            "Requirement already satisfied: ptyprocess>=0.5 in /usr/local/lib/python3.10/dist-packages (from pexpect>4.3->ipython>=4.0.0->ipywidgets) (0.7.0)\n",
            "Requirement already satisfied: wcwidth in /usr/local/lib/python3.10/dist-packages (from prompt-toolkit!=3.0.0,!=3.0.1,<3.1.0,>=2.0.0->ipython>=4.0.0->ipywidgets) (0.2.13)\n",
            "Requirement already satisfied: platformdirs>=2.5 in /usr/local/lib/python3.10/dist-packages (from jupyter-core>=4.6.1->notebook>=4.4.1->widgetsnbextension~=3.6.0->ipywidgets) (4.2.2)\n",
            "Requirement already satisfied: jupyter-server>=1.8 in /usr/local/lib/python3.10/dist-packages (from nbclassic>=0.4.7->notebook>=4.4.1->widgetsnbextension~=3.6.0->ipywidgets) (1.24.0)\n",
            "Requirement already satisfied: notebook-shim>=0.2.3 in /usr/local/lib/python3.10/dist-packages (from nbclassic>=0.4.7->notebook>=4.4.1->widgetsnbextension~=3.6.0->ipywidgets) (0.2.4)\n",
            "Requirement already satisfied: lxml in /usr/local/lib/python3.10/dist-packages (from nbconvert>=5->notebook>=4.4.1->widgetsnbextension~=3.6.0->ipywidgets) (4.9.4)\n",
            "Requirement already satisfied: bleach in /usr/local/lib/python3.10/dist-packages (from nbconvert>=5->notebook>=4.4.1->widgetsnbextension~=3.6.0->ipywidgets) (6.1.0)\n",
            "Requirement already satisfied: defusedxml in /usr/local/lib/python3.10/dist-packages (from nbconvert>=5->notebook>=4.4.1->widgetsnbextension~=3.6.0->ipywidgets) (0.7.1)\n",
            "Requirement already satisfied: entrypoints>=0.2.2 in /usr/local/lib/python3.10/dist-packages (from nbconvert>=5->notebook>=4.4.1->widgetsnbextension~=3.6.0->ipywidgets) (0.4)\n",
            "Requirement already satisfied: jupyterlab-pygments in /usr/local/lib/python3.10/dist-packages (from nbconvert>=5->notebook>=4.4.1->widgetsnbextension~=3.6.0->ipywidgets) (0.3.0)\n",
            "Requirement already satisfied: mistune<2,>=0.8.1 in /usr/local/lib/python3.10/dist-packages (from nbconvert>=5->notebook>=4.4.1->widgetsnbextension~=3.6.0->ipywidgets) (0.8.4)\n",
            "Requirement already satisfied: nbclient>=0.5.0 in /usr/local/lib/python3.10/dist-packages (from nbconvert>=5->notebook>=4.4.1->widgetsnbextension~=3.6.0->ipywidgets) (0.10.0)\n",
            "Requirement already satisfied: pandocfilters>=1.4.1 in /usr/local/lib/python3.10/dist-packages (from nbconvert>=5->notebook>=4.4.1->widgetsnbextension~=3.6.0->ipywidgets) (1.5.1)\n",
            "Requirement already satisfied: tinycss2 in /usr/local/lib/python3.10/dist-packages (from nbconvert>=5->notebook>=4.4.1->widgetsnbextension~=3.6.0->ipywidgets) (1.3.0)\n",
            "Requirement already satisfied: fastjsonschema>=2.15 in /usr/local/lib/python3.10/dist-packages (from nbformat->notebook>=4.4.1->widgetsnbextension~=3.6.0->ipywidgets) (2.19.1)\n",
            "Requirement already satisfied: jsonschema>=2.6 in /usr/local/lib/python3.10/dist-packages (from nbformat->notebook>=4.4.1->widgetsnbextension~=3.6.0->ipywidgets) (4.19.2)\n",
            "Requirement already satisfied: argon2-cffi-bindings in /usr/local/lib/python3.10/dist-packages (from argon2-cffi->notebook>=4.4.1->widgetsnbextension~=3.6.0->ipywidgets) (21.2.0)\n",
            "Requirement already satisfied: attrs>=22.2.0 in /usr/local/lib/python3.10/dist-packages (from jsonschema>=2.6->nbformat->notebook>=4.4.1->widgetsnbextension~=3.6.0->ipywidgets) (23.2.0)\n",
            "Requirement already satisfied: jsonschema-specifications>=2023.03.6 in /usr/local/lib/python3.10/dist-packages (from jsonschema>=2.6->nbformat->notebook>=4.4.1->widgetsnbextension~=3.6.0->ipywidgets) (2023.12.1)\n",
            "Requirement already satisfied: referencing>=0.28.4 in /usr/local/lib/python3.10/dist-packages (from jsonschema>=2.6->nbformat->notebook>=4.4.1->widgetsnbextension~=3.6.0->ipywidgets) (0.35.1)\n",
            "Requirement already satisfied: rpds-py>=0.7.1 in /usr/local/lib/python3.10/dist-packages (from jsonschema>=2.6->nbformat->notebook>=4.4.1->widgetsnbextension~=3.6.0->ipywidgets) (0.18.1)\n",
            "Requirement already satisfied: anyio<4,>=3.1.0 in /usr/local/lib/python3.10/dist-packages (from jupyter-server>=1.8->nbclassic>=0.4.7->notebook>=4.4.1->widgetsnbextension~=3.6.0->ipywidgets) (3.7.1)\n",
            "Requirement already satisfied: websocket-client in /usr/local/lib/python3.10/dist-packages (from jupyter-server>=1.8->nbclassic>=0.4.7->notebook>=4.4.1->widgetsnbextension~=3.6.0->ipywidgets) (1.8.0)\n",
            "Requirement already satisfied: cffi>=1.0.1 in /usr/local/lib/python3.10/dist-packages (from argon2-cffi-bindings->argon2-cffi->notebook>=4.4.1->widgetsnbextension~=3.6.0->ipywidgets) (1.16.0)\n",
            "Requirement already satisfied: sniffio>=1.1 in /usr/local/lib/python3.10/dist-packages (from anyio<4,>=3.1.0->jupyter-server>=1.8->nbclassic>=0.4.7->notebook>=4.4.1->widgetsnbextension~=3.6.0->ipywidgets) (1.3.1)\n",
            "Requirement already satisfied: exceptiongroup in /usr/local/lib/python3.10/dist-packages (from anyio<4,>=3.1.0->jupyter-server>=1.8->nbclassic>=0.4.7->notebook>=4.4.1->widgetsnbextension~=3.6.0->ipywidgets) (1.2.1)\n",
            "Requirement already satisfied: pycparser in /usr/local/lib/python3.10/dist-packages (from cffi>=1.0.1->argon2-cffi-bindings->argon2-cffi->notebook>=4.4.1->widgetsnbextension~=3.6.0->ipywidgets) (2.22)\n",
            "Building wheels for collected packages: fbpca, memoization, oktopus\n",
            "  Building wheel for fbpca (setup.py) ... \u001b[?25l\u001b[?25hdone\n",
            "  Created wheel for fbpca: filename=fbpca-1.0-py3-none-any.whl size=11373 sha256=4e2df6fe973312c22c93a6eef326e8e09d3ca289da8e7b5e99d8c0d68097eb6c\n",
            "  Stored in directory: /root/.cache/pip/wheels/3c/ea/60/8d1c9fbbc99492a1775b36a5e29c8c1ef309cc5821bd5a219d\n",
            "  Building wheel for memoization (setup.py) ... \u001b[?25l\u001b[?25hdone\n",
            "  Created wheel for memoization: filename=memoization-0.4.0-py3-none-any.whl size=50451 sha256=13363bb6cff2e9e89581e567918d01fabb164472d0b8aa88a1b9fc556816619a\n",
            "  Stored in directory: /root/.cache/pip/wheels/3e/b8/c5/b553d5e8b0249bd2859b3b6d7bb2a1849e7b01c6e8b64f6e87\n",
            "  Building wheel for oktopus (setup.py) ... \u001b[?25l\u001b[?25hdone\n",
            "  Created wheel for oktopus: filename=oktopus-0.1.2-py3-none-any.whl size=12763 sha256=649f77073b2db9f626e880310ccf182d1fcc56408c6ba96eeda519a81b27a31e\n",
            "  Stored in directory: /root/.cache/pip/wheels/b6/55/53/8d7c151deab7a11f182e5a69feb906cab95123da7a2438ed9d\n",
            "Successfully built fbpca memoization oktopus\n",
            "Installing collected packages: fbpca, uncertainties, memoization, jedi, oktopus, pyvo, astroquery, lightkurve\n",
            "Successfully installed astroquery-0.4.7 fbpca-1.0 jedi-0.19.1 lightkurve-2.4.2 memoization-0.4.0 oktopus-0.1.2 pyvo-1.5.2 uncertainties-3.1.7\n"
          ]
        }
      ],
      "source": [
        "\n",
        "!pip install lightkurve astropy matplotlib numpy scipy ipywidgets"
      ]
    },
    {
      "cell_type": "code",
      "source": [
        "\n",
        "import lightkurve as lk\n",
        "import numpy as np\n",
        "import matplotlib.pyplot as plt\n",
        "from astropy.timeseries import LombScargle\n",
        "from IPython.display import display, Markdown\n",
        "import ipywidgets as widgets\n",
        "\n",
        "# Funció per descarregar i analitzar la corba de llum\n",
        "def download_and_analyze_lightcurve(exoplanet_name):\n",
        "    try:\n",
        "        # Cerca i descarrega la corba de llum\n",
        "        search_result = lk.search_lightcurve(exoplanet_name, mission='Kepler')\n",
        "        if len(search_result) == 0:\n",
        "            search_result = lk.search_lightcurve(exoplanet_name, mission='K2')\n",
        "        if len(search_result) == 0:\n",
        "            search_result = lk.search_lightcurve(exoplanet_name, mission='TESS')\n",
        "        if len(search_result) == 0:\n",
        "            display(Markdown(\"**No s'han trobat dades per a l'exoplaneta especificat.**\"))\n",
        "            return\n",
        "\n",
        "        lc_collection = search_result.download_all()\n",
        "        if lc_collection is None:\n",
        "            display(Markdown(\"**No s'han pogut descarregar les dades per a l'exoplaneta especificat.**\"))\n",
        "            return\n",
        "\n",
        "        lc = lc_collection.stitch()\n",
        "\n",
        "        # Neteja i normalització de la corba de llum\n",
        "        lc = lc.remove_nans().normalize().remove_outliers(sigma=5)\n",
        "\n",
        "        # Representació de la corba de llum\n",
        "        lc.plot()\n",
        "        plt.show()\n",
        "\n",
        "        # Estadístiques bàsiques\n",
        "        mean_flux = np.mean(lc.flux)\n",
        "        std_flux = np.std(lc.flux)\n",
        "        num_data_points = len(lc.flux)\n",
        "\n",
        "        display(Markdown(f\"**Estadístiques bàsiques de la corba de llum:**\"))\n",
        "        display(Markdown(f\"- Nombre de punts de dades: {num_data_points}\"))\n",
        "        display(Markdown(f\"- Flux mitjà: {mean_flux:.4e}\"))\n",
        "        display(Markdown(f\"- Desviació estàndard del flux: {std_flux:.4e}\"))\n",
        "\n",
        "        # Transformada de Lomb-Scargle per detectar períodes\n",
        "        frequency, power = LombScargle(lc.time.value, lc.flux.value).autopower()\n",
        "        period = 1 / frequency\n",
        "        plt.plot(period, power)\n",
        "        plt.xscale('log')\n",
        "        plt.xlabel('Període [dies]')\n",
        "        plt.ylabel('Potència')\n",
        "        plt.title('Lomb-Scargle Periodograma')\n",
        "        plt.show()\n",
        "\n",
        "        # Identificació dels períodes més prominents\n",
        "        peak_indices = np.argsort(power)[-5:]  # Els 5 períodes amb més potència\n",
        "        peak_periods = period[peak_indices]\n",
        "        peak_powers = power[peak_indices]\n",
        "\n",
        "        sorted_peaks = sorted(zip(peak_periods, peak_powers), key=lambda x: x[0])\n",
        "\n",
        "        display(Markdown(f\"**Els períodes més prominents (dies) són:**\"))\n",
        "        for p, pow in sorted_peaks:\n",
        "            display(Markdown(f\"- Període: {p:.4f} dies, Potència: {pow:.4e}\"))\n",
        "\n",
        "    except Exception as e:\n",
        "        display(Markdown(f\"**Ha ocorregut un error: {e}**\"))\n",
        "\n",
        "# Interfície gràfica per introduir el nom de l'exoplaneta\n",
        "exoplanet_name_textbox = widgets.Text(\n",
        "    value='',\n",
        "    placeholder='Introdueix el nom de l\\'exoplaneta',\n",
        "    description='Exoplaneta:',\n",
        "    disabled=False\n",
        ")\n",
        "\n",
        "def on_button_clicked(b):\n",
        "    exoplanet_name = exoplanet_name_textbox.value\n",
        "    download_and_analyze_lightcurve(exoplanet_name)\n",
        "\n",
        "button = widgets.Button(description=\"Obtenir corba de llum\")\n",
        "button.on_click(on_button_clicked)\n",
        "\n",
        "display(exoplanet_name_textbox, button)"
      ],
      "metadata": {
        "colab": {
          "base_uri": "https://localhost:8080/",
          "height": 931,
          "referenced_widgets": [
            "523eb97bc4cb43aa8e2fee04e6c8f9e2",
            "b4115a63dff547e89f2f11b772edb950",
            "b61d506e96634417b33d74a33df12925",
            "7f61dfb030fb458b82db86000ac7c7d3",
            "7da69e4c926447c69765847c6fc439f0",
            "650c13ec456c4174a93d67463d56af36"
          ]
        },
        "id": "hP-KQd2DxzzT",
        "outputId": "179a053d-6c20-4e68-a255-c22ede227267"
      },
      "execution_count": null,
      "outputs": [
        {
          "output_type": "display_data",
          "data": {
            "text/plain": [
              "Text(value='', description='Exoplaneta:', placeholder=\"Introdueix el nom de l'exoplaneta\")"
            ],
            "application/vnd.jupyter.widget-view+json": {
              "version_major": 2,
              "version_minor": 0,
              "model_id": "523eb97bc4cb43aa8e2fee04e6c8f9e2"
            }
          },
          "metadata": {}
        },
        {
          "output_type": "display_data",
          "data": {
            "text/plain": [
              "Button(description='Obtenir corba de llum', style=ButtonStyle())"
            ],
            "application/vnd.jupyter.widget-view+json": {
              "version_major": 2,
              "version_minor": 0,
              "model_id": "7f61dfb030fb458b82db86000ac7c7d3"
            }
          },
          "metadata": {}
        },
        {
          "output_type": "stream",
          "name": "stderr",
          "text": [
            "Warning: 32% (7024/22200) of the cadences will be ignored due to the quality mask (quality_bitmask=1130799).\n",
            "WARNING:lightkurve.utils:Warning: 32% (7024/22200) of the cadences will be ignored due to the quality mask (quality_bitmask=1130799).\n",
            "Warning: 35% (258/740) of the cadences will be ignored due to the quality mask (quality_bitmask=1130799).\n",
            "WARNING:lightkurve.utils:Warning: 35% (258/740) of the cadences will be ignored due to the quality mask (quality_bitmask=1130799).\n",
            "/usr/local/lib/python3.10/dist-packages/lightkurve/lightcurve.py:1131: LightkurveWarning: The light curve appears to be zero-centered (median=5.75e+05 electron / s +/- 1.17e+06 electron / s); `normalize()` will divide the light curve by a value close to zero, which is probably not what you want.\n",
            "  warnings.warn(\n"
          ]
        },
        {
          "output_type": "display_data",
          "data": {
            "text/plain": [
              "<Figure size 848.5x400 with 1 Axes>"
            ],
            "image/png": "[encoded data removed]"
          },
          "metadata": {}
        },
        {
          "output_type": "display_data",
          "data": {
            "text/plain": [
              "<IPython.core.display.Markdown object>"
            ],
            "text/markdown": "**Estadístiques bàsiques de la corba de llum:**"
          },
          "metadata": {}
        },
        {
          "output_type": "display_data",
          "data": {
            "text/plain": [
              "<IPython.core.display.Markdown object>"
            ],
            "text/markdown": "- Nombre de punts de dades: 129076"
          },
          "metadata": {}
        },
        {
          "output_type": "display_data",
          "data": {
            "text/plain": [
              "<IPython.core.display.Markdown object>"
            ],
            "text/markdown": "- Flux mitjà: 9.8719e-01"
          },
          "metadata": {}
        },
        {
          "output_type": "display_data",
          "data": {
            "text/plain": [
              "<IPython.core.display.Markdown object>"
            ],
            "text/markdown": "- Desviació estàndard del flux: 2.8091e-01"
          },
          "metadata": {}
        },
        {
          "output_type": "display_data",
          "data": {
            "text/plain": [
              "<Figure size 640x480 with 1 Axes>"
            ],
            "image/png": "[encoded data removed]"
          },
          "metadata": {}
        },
        {
          "output_type": "display_data",
          "data": {
            "text/plain": [
              "<IPython.core.display.Markdown object>"
            ],
            "text/markdown": "**Els períodes més prominents (dies) són:**"
          },
          "metadata": {}
        },
        {
          "output_type": "display_data",
          "data": {
            "text/plain": [
              "<IPython.core.display.Markdown object>"
            ],
            "text/markdown": "- Període: 184.5563 dies, Potència: 6.5727e-02"
          },
          "metadata": {}
        },
        {
          "output_type": "display_data",
          "data": {
            "text/plain": [
              "<IPython.core.display.Markdown object>"
            ],
            "text/markdown": "- Període: 258.3788 dies, Potència: 6.6963e-02"
          },
          "metadata": {}
        },
        {
          "output_type": "display_data",
          "data": {
            "text/plain": [
              "<IPython.core.display.Markdown object>"
            ],
            "text/markdown": "- Període: 280.8465 dies, Potència: 6.2817e-02"
          },
          "metadata": {}
        },
        {
          "output_type": "display_data",
          "data": {
            "text/plain": [
              "<IPython.core.display.Markdown object>"
            ],
            "text/markdown": "- Període: 430.6314 dies, Potència: 5.3413e-02"
          },
          "metadata": {}
        },
        {
          "output_type": "display_data",
          "data": {
            "text/plain": [
              "<IPython.core.display.Markdown object>"
            ],
            "text/markdown": "- Període: 496.8824 dies, Potència: 6.9549e-02"
          },
          "metadata": {}
        }
      ]
    },
    {
      "cell_type": "code",
      "source": [
        "!pip install astroquery"
      ],
      "metadata": {
        "colab": {
          "base_uri": "https://localhost:8080/"
        },
        "id": "VTI8heigo58h",
        "outputId": "a5d89a4d-6d56-4e6c-87a0-6cb8944458e8"
      },
      "execution_count": null,
      "outputs": [
        {
          "output_type": "stream",
          "name": "stdout",
          "text": [
            "Requirement already satisfied: astroquery in /usr/local/lib/python3.10/dist-packages (0.4.7)\n",
            "Requirement already satisfied: numpy>=1.18 in /usr/local/lib/python3.10/dist-packages (from astroquery) (1.25.2)\n",
            "Requirement already satisfied: astropy>=4.2.1 in /usr/local/lib/python3.10/dist-packages (from astroquery) (5.3.4)\n",
            "Requirement already satisfied: requests>=2.19 in /usr/local/lib/python3.10/dist-packages (from astroquery) (2.31.0)\n",
            "Requirement already satisfied: beautifulsoup4>=4.8 in /usr/local/lib/python3.10/dist-packages (from astroquery) (4.12.3)\n",
            "Requirement already satisfied: html5lib>=0.999 in /usr/local/lib/python3.10/dist-packages (from astroquery) (1.1)\n",
            "Requirement already satisfied: keyring>=15.0 in /usr/lib/python3/dist-packages (from astroquery) (23.5.0)\n",
            "Requirement already satisfied: pyvo>=1.1 in /usr/local/lib/python3.10/dist-packages (from astroquery) (1.5.2)\n",
            "Requirement already satisfied: pyerfa>=2.0 in /usr/local/lib/python3.10/dist-packages (from astropy>=4.2.1->astroquery) (2.0.1.4)\n",
            "Requirement already satisfied: PyYAML>=3.13 in /usr/local/lib/python3.10/dist-packages (from astropy>=4.2.1->astroquery) (6.0.1)\n",
            "Requirement already satisfied: packaging>=19.0 in /usr/local/lib/python3.10/dist-packages (from astropy>=4.2.1->astroquery) (24.0)\n",
            "Requirement already satisfied: soupsieve>1.2 in /usr/local/lib/python3.10/dist-packages (from beautifulsoup4>=4.8->astroquery) (2.5)\n",
            "Requirement already satisfied: six>=1.9 in /usr/local/lib/python3.10/dist-packages (from html5lib>=0.999->astroquery) (1.16.0)\n",
            "Requirement already satisfied: webencodings in /usr/local/lib/python3.10/dist-packages (from html5lib>=0.999->astroquery) (0.5.1)\n",
            "Requirement already satisfied: charset-normalizer<4,>=2 in /usr/local/lib/python3.10/dist-packages (from requests>=2.19->astroquery) (3.3.2)\n",
            "Requirement already satisfied: idna<4,>=2.5 in /usr/local/lib/python3.10/dist-packages (from requests>=2.19->astroquery) (3.7)\n",
            "Requirement already satisfied: urllib3<3,>=1.21.1 in /usr/local/lib/python3.10/dist-packages (from requests>=2.19->astroquery) (2.0.7)\n",
            "Requirement already satisfied: certifi>=2017.4.17 in /usr/local/lib/python3.10/dist-packages (from requests>=2.19->astroquery) (2024.2.2)\n"
          ]
        }
      ]
    },
    {
      "cell_type": "markdown",
      "source": [
        "\n",
        "El períodegrama de Lomb-Scargle és una tècnica estadística utilitzada per analitzar les sèries temporals i detectar patrons periòdics en dades que no estan uniformement mostrejades en el temps. Aquest mètode és especialment útil quan les dades són escasses o no estan uniformement distribuïdes en el temps.\n",
        "\n",
        "El períodegrama de Lomb-Scargle és una variant del períodegrama de Fourier, que és una tècnica més comuna per analitzar les sèries temporals. No obstant això, el períodegrama de Fourier requereix que les dades estiguin uniformement mostrejades en el temps, cosa que no sempre és el cas en la pràctica.\n",
        "\n",
        "El períodegrama de Lomb-Scargle és una tècnica no paramètrica que s'utilitza per detectar patrons periòdics en les dades. Aquest mètode es basa en la transformada de Fourier, però utilitza una aproximació diferent per tractar les dades no uniformement mostrejades.\n",
        "\n",
        "El períodegrama de Lomb-Scargle té diverses aplicacions en diferents camps, com ara:\n",
        "\n",
        "Astronomia: per analitzar les variacions en la brillantor d'estels o altres objectes astronòmics.\n",
        "Física: per analitzar les oscil·lacions en sistemes físics, com ara les ones gravitacionals.\n",
        "Biologia: per analitzar les oscil·lacions en els patrons de comportament d'organismes vius.\n",
        "Economia: per analitzar les oscil·lacions en les sèries temporals econòmiques, com ara les taxes d'interès o les cotitzacions borsàries.\n",
        "El períodegrama de Lomb-Scargle té diverses avantatges, com ara:\n",
        "\n",
        "Flexibilitat: el períodegrama de Lomb-Scargle pot tractar dades no uniformement mostrejades en el temps.\n",
        "Robustesa: el períodegrama de Lomb-Scargle és menys susceptible a les influències de les dades errònies o anòmales.\n",
        "Interpretació fàcil: el períodegrama de Lomb-Scargle proporciona una representació gràfica clara dels patrons periòdics en les dades.\n",
        "No obstant això, el períodegrama de Lomb-Scargle també té alguns desavantatges, com ara:\n",
        "\n",
        "Computacionalment intensiu: el períodegrama de Lomb-Scargle pot ser computacionalment intensiu, especialment per a grans conjunts de dades.\n",
        "Requereix una gran quantitat de dades: el períodegrama de Lomb-Scargle requereix una gran quantitat de dades per obtenir resultats fiables."
      ],
      "metadata": {
        "id": "0RV48aRxXRyl"
      }
    },
    {
      "cell_type": "code",
      "source": [
        "\n",
        "# Importa les biblioteques necessàries\n",
        "!pip install astroquery\n",
        "\n",
        "from astroquery.nasa_exoplanet_archive import NasaExoplanetArchive\n",
        "\n",
        "# Funció per obtenir els noms dels atributs d'un exoplaneta\n",
        "def get_exoplanet_attributes(exoplanet_name):\n",
        "    # Utilitza la taula correcta i el nom de columna correcte per buscar els exoplanetes\n",
        "    exoplanet_data = NasaExoplanetArchive.query_criteria(table=\"pscomppars\", select=\"*\", where=f\"pl_name like '%{exoplanet_name}%'\")\n",
        "\n",
        "    if len(exoplanet_data) == 0:\n",
        "        return f\"No s'han trobat dades per a l'exoplaneta: {exoplanet_name}\"\n",
        "\n",
        "    # Obté els noms dels atributs\n",
        "    attributes = exoplanet_data.colnames\n",
        "\n",
        "    return attributes\n",
        "\n",
        "# Demana a l'usuari el nom d'un exoplaneta\n",
        "exoplanet_name = input(\"Introdueix el nom de l'exoplaneta: \")\n",
        "\n",
        "# Obté els noms dels atributs de l'exoplaneta\n",
        "attributes = get_exoplanet_attributes(exoplanet_name)\n",
        "\n",
        "# Mostra els noms dels atributs\n",
        "if isinstance(attributes, str):\n",
        "    print(attributes)\n",
        "else:\n",
        "    for attr in attributes:\n",
        "        print(attr)"
      ],
      "metadata": {
        "colab": {
          "base_uri": "https://localhost:8080/"
        },
        "id": "u1n4MeXsrG27",
        "outputId": "72b37ac1-4917-4e72-9b5b-1a2e16a21e3c"
      },
      "execution_count": null,
      "outputs": [
        {
          "output_type": "stream",
          "name": "stdout",
          "text": [
            "Requirement already satisfied: astroquery in /usr/local/lib/python3.10/dist-packages (0.4.7)\n",
            "Requirement already satisfied: numpy>=1.18 in /usr/local/lib/python3.10/dist-packages (from astroquery) (1.25.2)\n",
            "Requirement already satisfied: astropy>=4.2.1 in /usr/local/lib/python3.10/dist-packages (from astroquery) (5.3.4)\n",
            "Requirement already satisfied: requests>=2.19 in /usr/local/lib/python3.10/dist-packages (from astroquery) (2.31.0)\n",
            "Requirement already satisfied: beautifulsoup4>=4.8 in /usr/local/lib/python3.10/dist-packages (from astroquery) (4.12.3)\n",
            "Requirement already satisfied: html5lib>=0.999 in /usr/local/lib/python3.10/dist-packages (from astroquery) (1.1)\n",
            "Requirement already satisfied: keyring>=15.0 in /usr/lib/python3/dist-packages (from astroquery) (23.5.0)\n",
            "Requirement already satisfied: pyvo>=1.1 in /usr/local/lib/python3.10/dist-packages (from astroquery) (1.5.2)\n",
            "Requirement already satisfied: pyerfa>=2.0 in /usr/local/lib/python3.10/dist-packages (from astropy>=4.2.1->astroquery) (2.0.1.4)\n",
            "Requirement already satisfied: PyYAML>=3.13 in /usr/local/lib/python3.10/dist-packages (from astropy>=4.2.1->astroquery) (6.0.1)\n",
            "Requirement already satisfied: packaging>=19.0 in /usr/local/lib/python3.10/dist-packages (from astropy>=4.2.1->astroquery) (24.0)\n",
            "Requirement already satisfied: soupsieve>1.2 in /usr/local/lib/python3.10/dist-packages (from beautifulsoup4>=4.8->astroquery) (2.5)\n",
            "Requirement already satisfied: six>=1.9 in /usr/local/lib/python3.10/dist-packages (from html5lib>=0.999->astroquery) (1.16.0)\n",
            "Requirement already satisfied: webencodings in /usr/local/lib/python3.10/dist-packages (from html5lib>=0.999->astroquery) (0.5.1)\n",
            "Requirement already satisfied: charset-normalizer<4,>=2 in /usr/local/lib/python3.10/dist-packages (from requests>=2.19->astroquery) (3.3.2)\n",
            "Requirement already satisfied: idna<4,>=2.5 in /usr/local/lib/python3.10/dist-packages (from requests>=2.19->astroquery) (3.7)\n",
            "Requirement already satisfied: urllib3<3,>=1.21.1 in /usr/local/lib/python3.10/dist-packages (from requests>=2.19->astroquery) (2.0.7)\n",
            "Requirement already satisfied: certifi>=2017.4.17 in /usr/local/lib/python3.10/dist-packages (from requests>=2.19->astroquery) (2024.2.2)\n",
            "Introdueix el nom de l'exoplaneta: Kepler-10\n",
            "pl_name\n",
            "pl_letter\n",
            "hostname\n",
            "hd_name\n",
            "hip_name\n",
            "tic_id\n",
            "disc_pubdate\n",
            "disc_year\n",
            "discoverymethod\n",
            "disc_locale\n",
            "disc_facility\n",
            "disc_instrument\n",
            "disc_telescope\n",
            "disc_refname\n",
            "ra\n",
            "rastr\n",
            "dec\n",
            "decstr\n",
            "glon\n",
            "glat\n",
            "elon\n",
            "elat\n",
            "ra_reflink\n",
            "pl_orbper\n",
            "pl_orbpererr1\n",
            "pl_orbpererr2\n",
            "pl_orbperlim\n",
            "pl_orbperstr\n",
            "pl_orbper_reflink\n",
            "pl_orblpererr1\n",
            "pl_orblper\n",
            "pl_orblpererr2\n",
            "pl_orblperlim\n",
            "pl_orblperstr\n",
            "pl_orblper_reflink\n",
            "pl_orbsmax\n",
            "pl_orbsmaxerr1\n",
            "pl_orbsmaxerr2\n",
            "pl_orbsmaxlim\n",
            "pl_orbsmaxstr\n",
            "pl_orbsmax_reflink\n",
            "pl_angsep\n",
            "pl_angseperr1\n",
            "pl_angseperr2\n",
            "pl_angseplim\n",
            "pl_angsepstr\n",
            "pl_angsep_reflink\n",
            "pl_orbincl\n",
            "pl_orbinclerr1\n",
            "pl_orbinclerr2\n",
            "pl_orbincllim\n",
            "pl_orbinclstr\n",
            "pl_orbincl_reflink\n",
            "pl_orbtper\n",
            "pl_orbtpererr1\n",
            "pl_orbtpererr2\n",
            "pl_orbtperlim\n",
            "pl_orbtperstr\n",
            "pl_orbtper_reflink\n",
            "pl_orbeccen\n",
            "pl_orbeccenerr1\n",
            "pl_orbeccenerr2\n",
            "pl_orbeccenlim\n",
            "pl_orbeccenstr\n",
            "pl_orbeccen_reflink\n",
            "pl_eqt\n",
            "pl_eqterr1\n",
            "pl_eqterr2\n",
            "pl_eqtlim\n",
            "pl_eqtstr\n",
            "pl_eqt_reflink\n",
            "pl_occdep\n",
            "pl_occdeperr1\n",
            "pl_occdeperr2\n",
            "pl_occdeplim\n",
            "pl_occdepstr\n",
            "pl_occdep_reflink\n",
            "pl_insol\n",
            "pl_insolerr1\n",
            "pl_insolerr2\n",
            "pl_insollim\n",
            "pl_insolstr\n",
            "pl_insol_reflink\n",
            "pl_dens\n",
            "pl_denserr1\n",
            "pl_denserr2\n",
            "pl_denslim\n",
            "pl_densstr\n",
            "pl_dens_reflink\n",
            "pl_trandep\n",
            "pl_trandeperr1\n",
            "pl_trandeperr2\n",
            "pl_trandeplim\n",
            "pl_trandepstr\n",
            "pl_trandep_reflink\n",
            "pl_tranmid\n",
            "pl_tranmiderr1\n",
            "pl_tranmiderr2\n",
            "pl_tranmidlim\n",
            "pl_tranmidstr\n",
            "sy_pmdec\n",
            "sy_pmdecerr1\n",
            "sy_pmdecerr2\n",
            "sy_pmdecstr\n",
            "sy_plx\n",
            "sy_plxerr1\n",
            "sy_plxerr2\n",
            "sy_plxstr\n",
            "sy_plx_reflink\n",
            "sy_dist\n",
            "sy_disterr1\n",
            "sy_disterr2\n",
            "sy_diststr\n",
            "sy_dist_reflink\n",
            "sy_bmag\n",
            "sy_bmagerr1\n",
            "sy_bmagerr2\n",
            "sy_bmagstr\n",
            "sy_bmag_reflink\n",
            "sy_vmag\n",
            "sy_vmagerr1\n",
            "sy_vmagerr2\n",
            "sy_vmagstr\n",
            "sy_vmag_reflink\n",
            "sy_jmag\n",
            "sy_jmagerr1\n",
            "sy_jmagerr2\n",
            "sy_jmagstr\n",
            "sy_jmag_reflink\n",
            "sy_hmag\n",
            "sy_hmagerr1\n",
            "sy_hmagerr2\n",
            "sy_hmagstr\n",
            "sy_hmag_reflink\n",
            "sy_kmag\n",
            "sy_kmagerr1\n",
            "sy_kmagerr2\n",
            "sy_kmagstr\n",
            "sy_kmag_reflink\n",
            "sy_umag\n",
            "sy_umagerr1\n",
            "sy_umagerr2\n",
            "sy_umagstr\n",
            "sy_umag_reflink\n",
            "sy_rmag\n",
            "sy_rmagerr1\n",
            "sy_rmagerr2\n",
            "sy_rmagstr\n",
            "sy_rmag_reflink\n",
            "sy_imag\n",
            "sy_imagerr1\n",
            "sy_imagerr2\n",
            "sy_imagstr\n",
            "sy_imag_reflink\n",
            "sy_zmag\n",
            "sy_zmagerr1\n",
            "sy_zmagerr2\n",
            "sy_zmagstr\n",
            "sy_zmag_reflink\n",
            "sy_w1mag\n",
            "sy_w1magerr1\n",
            "sy_w1magerr2\n",
            "sy_w1magstr\n",
            "sy_w1mag_reflink\n",
            "sy_w2mag\n",
            "sy_w2magerr1\n",
            "sy_w2magerr2\n",
            "sy_w2magstr\n",
            "sy_w2mag_reflink\n",
            "sy_w3mag\n",
            "sy_w3magerr1\n",
            "sy_w3magerr2\n",
            "sy_w3magstr\n",
            "sy_w3mag_reflink\n",
            "sy_w4mag\n",
            "sy_w4magerr1\n",
            "sy_w4magerr2\n",
            "sy_w4magstr\n",
            "sy_w4mag_reflink\n",
            "sy_gmag\n",
            "sy_gmagerr1\n",
            "sy_gmagerr2\n",
            "sy_gmagstr\n",
            "sy_gmag_reflink\n",
            "sy_gaiamag\n",
            "sy_gaiamagerr1\n",
            "sy_gaiamagerr2\n",
            "sy_gaiamagstr\n",
            "sy_gaiamag_reflink\n",
            "sy_tmag\n",
            "sy_tmagerr1\n",
            "sy_tmagerr2\n",
            "sy_tmagstr\n",
            "sy_tmag_reflink\n",
            "pl_controv_flag\n",
            "pl_orbtper_systemref\n",
            "pl_tranmid_systemref\n",
            "st_metratio\n",
            "st_spectype\n",
            "st_spectype_reflink\n",
            "sy_kepmag\n",
            "sy_kepmagerr1\n",
            "sy_kepmagerr2\n",
            "sy_kepmagstr\n",
            "sy_kepmag_reflink\n",
            "st_rotp\n",
            "st_rotperr1\n",
            "st_rotperr2\n",
            "st_rotplim\n",
            "st_rotpstr\n",
            "st_rotp_reflink\n",
            "pl_projobliq\n",
            "pl_projobliqerr1\n",
            "pl_projobliqerr2\n",
            "pl_projobliqlim\n",
            "pl_projobliqstr\n",
            "pl_projobliq_reflink\n",
            "gaia_id\n",
            "cb_flag\n",
            "pl_tranmid_reflink\n",
            "pl_trandur\n",
            "pl_trandurerr1\n",
            "pl_trandurerr2\n",
            "pl_trandurlim\n",
            "pl_trandurstr\n",
            "pl_trandur_reflink\n",
            "pl_rvamp\n",
            "pl_rvamperr1\n",
            "pl_rvamperr2\n",
            "pl_rvamplim\n",
            "pl_rvampstr\n",
            "pl_rvamp_reflink\n",
            "pl_radj\n",
            "pl_radjerr1\n",
            "pl_radjerr2\n",
            "pl_radjlim\n",
            "pl_radjstr\n",
            "pl_radj_reflink\n",
            "pl_rade\n",
            "pl_radeerr1\n",
            "pl_radeerr2\n",
            "pl_radelim\n",
            "pl_radestr\n",
            "pl_rade_reflink\n",
            "pl_ratror\n",
            "pl_ratrorerr1\n",
            "pl_ratrorerr2\n",
            "pl_ratrorlim\n",
            "pl_ratrorstr\n",
            "pl_ratror_reflink\n",
            "pl_ratdor\n",
            "pl_trueobliq\n",
            "pl_trueobliqerr1\n",
            "pl_trueobliqerr2\n",
            "pl_trueobliqlim\n",
            "pl_trueobliqstr\n",
            "pl_trueobliq_reflink\n",
            "sy_icmag\n",
            "sy_icmagerr1\n",
            "sy_icmagerr2\n",
            "sy_icmagstr\n",
            "sy_icmag_reflink\n",
            "dkin_flag\n",
            "pl_ratdorerr1\n",
            "pl_ratdorerr2\n",
            "pl_ratdorlim\n",
            "pl_ratdorstr\n",
            "pl_ratdor_reflink\n",
            "pl_imppar\n",
            "pl_impparerr1\n",
            "pl_impparerr2\n",
            "pl_impparlim\n",
            "pl_impparstr\n",
            "pl_imppar_reflink\n",
            "pl_bmassj\n",
            "pl_bmassjerr1\n",
            "pl_bmassjerr2\n",
            "pl_bmassjlim\n",
            "pl_bmassjstr\n",
            "pl_bmassj_reflink\n",
            "pl_bmasse\n",
            "pl_bmasseerr1\n",
            "pl_bmasseerr2\n",
            "pl_bmasselim\n",
            "pl_bmassestr\n",
            "pl_bmasse_reflink\n",
            "pl_bmassprov\n",
            "st_teff\n",
            "st_tefferr1\n",
            "st_tefferr2\n",
            "st_tefflim\n",
            "st_teffstr\n",
            "st_teff_reflink\n",
            "st_met\n",
            "st_meterr1\n",
            "st_meterr2\n",
            "st_metlim\n",
            "st_metstr\n",
            "st_met_reflink\n",
            "st_radv\n",
            "st_radverr1\n",
            "st_radverr2\n",
            "st_radvlim\n",
            "st_radvstr\n",
            "st_radv_reflink\n",
            "st_vsin\n",
            "st_vsinerr1\n",
            "st_vsinerr2\n",
            "st_vsinlim\n",
            "st_vsinstr\n",
            "st_vsin_reflink\n",
            "st_lum\n",
            "st_lumerr1\n",
            "st_lumerr2\n",
            "st_lumlim\n",
            "st_lumstr\n",
            "st_lum_reflink\n",
            "st_logg\n",
            "st_loggerr1\n",
            "st_loggerr2\n",
            "st_logglim\n",
            "st_loggstr\n",
            "st_logg_reflink\n",
            "st_age\n",
            "st_ageerr1\n",
            "st_ageerr2\n",
            "st_agelim\n",
            "st_agestr\n",
            "st_age_reflink\n",
            "st_mass\n",
            "st_masserr1\n",
            "st_masserr2\n",
            "st_masslim\n",
            "st_massstr\n",
            "st_mass_reflink\n",
            "st_dens\n",
            "st_denserr1\n",
            "st_denserr2\n",
            "st_denslim\n",
            "st_densstr\n",
            "st_dens_reflink\n",
            "st_rad\n",
            "st_raderr1\n",
            "st_raderr2\n",
            "st_radlim\n",
            "st_radstr\n",
            "st_rad_reflink\n",
            "ttv_flag\n",
            "ptv_flag\n",
            "tran_flag\n",
            "rv_flag\n",
            "ast_flag\n",
            "obm_flag\n",
            "micro_flag\n",
            "etv_flag\n",
            "ima_flag\n",
            "pul_flag\n",
            "sy_snum\n",
            "sy_pnum\n",
            "sy_mnum\n",
            "st_nphot\n",
            "st_nrvc\n",
            "st_nspec\n",
            "pl_nespec\n",
            "pl_ntranspec\n",
            "pl_nnotes\n",
            "sy_pm\n",
            "sy_pmerr1\n",
            "sy_pmerr2\n",
            "sy_pmstr\n",
            "sy_pm_reflink\n",
            "sy_pmra\n",
            "sy_pmraerr1\n",
            "sy_pmraerr2\n",
            "sy_pmrastr\n",
            "x\n",
            "y\n",
            "z\n",
            "htm20\n",
            "sky_coord\n"
          ]
        }
      ]
    },
    {
      "cell_type": "code",
      "source": [
        "\n",
        "# Install necessary packages\n",
        "!pip install astroquery ipywidgets\n",
        "\n",
        "# Import libraries\n",
        "from astroquery.nasa_exoplanet_archive import NasaExoplanetArchive\n",
        "import ipywidgets as widgets\n",
        "from IPython.display import display\n",
        "\n",
        "# Define a function to get exoplanet data\n",
        "def get_exoplanet_data(name):\n",
        "    try:\n",
        "        # Query the NASA Exoplanet Archive for the given exoplanet name\n",
        "        exoplanet_data = NasaExoplanetArchive.query_criteria(table=\"pscomppars\", select=\"*\", where=f\"pl_name like '%{name}%'\")\n",
        "\n",
        "        # Check if data is available\n",
        "        if len(exoplanet_data) == 0:\n",
        "            return f\"No data found for exoplanet: {name}\"\n",
        "\n",
        "        # Extract and format the important data\n",
        "        data = exoplanet_data[0]\n",
        "        info = f\"\"\"\n",
        "        Exoplanet Name: {data['pl_name']}\n",
        "        Discovery Method: {data['discoverymethod']}\n",
        "        Orbital Period (days): {data['pl_orbper']}\n",
        "        Planet Radius (Jupiter radii): {data['pl_radj']}\n",
        "        Planet Mass (Jupiter mass): {data['pl_bmassj']}\n",
        "        Host Star Name: {data['hostname']}\n",
        "        Host Star Effective Temperature (K): {data['st_teff']}\n",
        "        Host Star Radius (solar radii): {data['st_rad']}\n",
        "        Host Star Mass (solar mass): {data['st_mass']}\n",
        "        \"\"\"\n",
        "        return info\n",
        "    except Exception as e:\n",
        "        return str(e)\n",
        "\n",
        "# Create an input textbox widget for exoplanet name\n",
        "name_textbox = widgets.Text(\n",
        "    description=\"Exoplanet Name:\",\n",
        "    placeholder=\"Enter the name of an exoplanet\",\n",
        ")\n",
        "\n",
        "# Create an output area widget to display the exoplanet data\n",
        "output_area = widgets.Output()\n",
        "\n",
        "# Define a function to handle textbox input\n",
        "def on_text_submit(change):\n",
        "    with output_area:\n",
        "        output_area.clear_output()\n",
        "        exoplanet_name = change['new']\n",
        "        info = get_exoplanet_data(exoplanet_name)\n",
        "        print(info)\n",
        "\n",
        "# Attach the handler to the textbox widget\n",
        "name_textbox.observe(on_text_submit, names='value')\n",
        "\n",
        "# Display the widgets\n",
        "display(name_textbox, output_area)"
      ],
      "metadata": {
        "colab": {
          "base_uri": "https://localhost:8080/",
          "height": 1000,
          "referenced_widgets": [
            "eb9c4ec451744800a725a0aab6addace",
            "d30b8b5299af4784ac0f1b17297cb413",
            "025cb388ec4d4c348a822c44ab312d18",
            "08d9f127362b4e7fbbdc0bbdfc1ce6ff",
            "ae534ead29364f988397ee0d3088ec9d"
          ]
        },
        "id": "iNPsjgqYRpuk",
        "outputId": "ee2901ac-a83b-4ca0-a067-67e7e10ac6f9"
      },
      "execution_count": null,
      "outputs": [
        {
          "output_type": "stream",
          "name": "stdout",
          "text": [
            "Requirement already satisfied: astroquery in /usr/local/lib/python3.10/dist-packages (0.4.7)\n",
            "Requirement already satisfied: ipywidgets in /usr/local/lib/python3.10/dist-packages (7.7.1)\n",
            "Requirement already satisfied: numpy>=1.18 in /usr/local/lib/python3.10/dist-packages (from astroquery) (1.25.2)\n",
            "Requirement already satisfied: astropy>=4.2.1 in /usr/local/lib/python3.10/dist-packages (from astroquery) (5.3.4)\n",
            "Requirement already satisfied: requests>=2.19 in /usr/local/lib/python3.10/dist-packages (from astroquery) (2.31.0)\n",
            "Requirement already satisfied: beautifulsoup4>=4.8 in /usr/local/lib/python3.10/dist-packages (from astroquery) (4.12.3)\n",
            "Requirement already satisfied: html5lib>=0.999 in /usr/local/lib/python3.10/dist-packages (from astroquery) (1.1)\n",
            "Requirement already satisfied: keyring>=15.0 in /usr/lib/python3/dist-packages (from astroquery) (23.5.0)\n",
            "Requirement already satisfied: pyvo>=1.1 in /usr/local/lib/python3.10/dist-packages (from astroquery) (1.5.2)\n",
            "Requirement already satisfied: ipykernel>=4.5.1 in /usr/local/lib/python3.10/dist-packages (from ipywidgets) (5.5.6)\n",
            "Requirement already satisfied: ipython-genutils~=0.2.0 in /usr/local/lib/python3.10/dist-packages (from ipywidgets) (0.2.0)\n",
            "Requirement already satisfied: traitlets>=4.3.1 in /usr/local/lib/python3.10/dist-packages (from ipywidgets) (5.7.1)\n",
            "Requirement already satisfied: widgetsnbextension~=3.6.0 in /usr/local/lib/python3.10/dist-packages (from ipywidgets) (3.6.6)\n",
            "Requirement already satisfied: ipython>=4.0.0 in /usr/local/lib/python3.10/dist-packages (from ipywidgets) (7.34.0)\n",
            "Requirement already satisfied: jupyterlab-widgets>=1.0.0 in /usr/local/lib/python3.10/dist-packages (from ipywidgets) (3.0.10)\n",
            "Requirement already satisfied: pyerfa>=2.0 in /usr/local/lib/python3.10/dist-packages (from astropy>=4.2.1->astroquery) (2.0.1.4)\n",
            "Requirement already satisfied: PyYAML>=3.13 in /usr/local/lib/python3.10/dist-packages (from astropy>=4.2.1->astroquery) (6.0.1)\n",
            "Requirement already satisfied: packaging>=19.0 in /usr/local/lib/python3.10/dist-packages (from astropy>=4.2.1->astroquery) (24.0)\n",
            "Requirement already satisfied: soupsieve>1.2 in /usr/local/lib/python3.10/dist-packages (from beautifulsoup4>=4.8->astroquery) (2.5)\n",
            "Requirement already satisfied: six>=1.9 in /usr/local/lib/python3.10/dist-packages (from html5lib>=0.999->astroquery) (1.16.0)\n",
            "Requirement already satisfied: webencodings in /usr/local/lib/python3.10/dist-packages (from html5lib>=0.999->astroquery) (0.5.1)\n",
            "Requirement already satisfied: jupyter-client in /usr/local/lib/python3.10/dist-packages (from ipykernel>=4.5.1->ipywidgets) (6.1.12)\n",
            "Requirement already satisfied: tornado>=4.2 in /usr/local/lib/python3.10/dist-packages (from ipykernel>=4.5.1->ipywidgets) (6.3.3)\n",
            "Requirement already satisfied: setuptools>=18.5 in /usr/local/lib/python3.10/dist-packages (from ipython>=4.0.0->ipywidgets) (67.7.2)\n",
            "Requirement already satisfied: jedi>=0.16 in /usr/local/lib/python3.10/dist-packages (from ipython>=4.0.0->ipywidgets) (0.19.1)\n",
            "Requirement already satisfied: decorator in /usr/local/lib/python3.10/dist-packages (from ipython>=4.0.0->ipywidgets) (4.4.2)\n",
            "Requirement already satisfied: pickleshare in /usr/local/lib/python3.10/dist-packages (from ipython>=4.0.0->ipywidgets) (0.7.5)\n",
            "Requirement already satisfied: prompt-toolkit!=3.0.0,!=3.0.1,<3.1.0,>=2.0.0 in /usr/local/lib/python3.10/dist-packages (from ipython>=4.0.0->ipywidgets) (3.0.43)\n",
            "Requirement already satisfied: pygments in /usr/local/lib/python3.10/dist-packages (from ipython>=4.0.0->ipywidgets) (2.16.1)\n",
            "Requirement already satisfied: backcall in /usr/local/lib/python3.10/dist-packages (from ipython>=4.0.0->ipywidgets) (0.2.0)\n",
            "Requirement already satisfied: matplotlib-inline in /usr/local/lib/python3.10/dist-packages (from ipython>=4.0.0->ipywidgets) (0.1.7)\n",
            "Requirement already satisfied: pexpect>4.3 in /usr/local/lib/python3.10/dist-packages (from ipython>=4.0.0->ipywidgets) (4.9.0)\n",
            "Requirement already satisfied: charset-normalizer<4,>=2 in /usr/local/lib/python3.10/dist-packages (from requests>=2.19->astroquery) (3.3.2)\n",
            "Requirement already satisfied: idna<4,>=2.5 in /usr/local/lib/python3.10/dist-packages (from requests>=2.19->astroquery) (3.7)\n",
            "Requirement already satisfied: urllib3<3,>=1.21.1 in /usr/local/lib/python3.10/dist-packages (from requests>=2.19->astroquery) (2.0.7)\n",
            "Requirement already satisfied: certifi>=2017.4.17 in /usr/local/lib/python3.10/dist-packages (from requests>=2.19->astroquery) (2024.2.2)\n",
            "Requirement already satisfied: notebook>=4.4.1 in /usr/local/lib/python3.10/dist-packages (from widgetsnbextension~=3.6.0->ipywidgets) (6.5.5)\n",
            "Requirement already satisfied: parso<0.9.0,>=0.8.3 in /usr/local/lib/python3.10/dist-packages (from jedi>=0.16->ipython>=4.0.0->ipywidgets) (0.8.4)\n",
            "Requirement already satisfied: jinja2 in /usr/local/lib/python3.10/dist-packages (from notebook>=4.4.1->widgetsnbextension~=3.6.0->ipywidgets) (3.1.4)\n",
            "Requirement already satisfied: pyzmq<25,>=17 in /usr/local/lib/python3.10/dist-packages (from notebook>=4.4.1->widgetsnbextension~=3.6.0->ipywidgets) (24.0.1)\n",
            "Requirement already satisfied: argon2-cffi in /usr/local/lib/python3.10/dist-packages (from notebook>=4.4.1->widgetsnbextension~=3.6.0->ipywidgets) (23.1.0)\n",
            "Requirement already satisfied: jupyter-core>=4.6.1 in /usr/local/lib/python3.10/dist-packages (from notebook>=4.4.1->widgetsnbextension~=3.6.0->ipywidgets) (5.7.2)\n",
            "Requirement already satisfied: nbformat in /usr/local/lib/python3.10/dist-packages (from notebook>=4.4.1->widgetsnbextension~=3.6.0->ipywidgets) (5.10.4)\n",
            "Requirement already satisfied: nbconvert>=5 in /usr/local/lib/python3.10/dist-packages (from notebook>=4.4.1->widgetsnbextension~=3.6.0->ipywidgets) (6.5.4)\n",
            "Requirement already satisfied: nest-asyncio>=1.5 in /usr/local/lib/python3.10/dist-packages (from notebook>=4.4.1->widgetsnbextension~=3.6.0->ipywidgets) (1.6.0)\n",
            "Requirement already satisfied: Send2Trash>=1.8.0 in /usr/local/lib/python3.10/dist-packages (from notebook>=4.4.1->widgetsnbextension~=3.6.0->ipywidgets) (1.8.3)\n",
            "Requirement already satisfied: terminado>=0.8.3 in /usr/local/lib/python3.10/dist-packages (from notebook>=4.4.1->widgetsnbextension~=3.6.0->ipywidgets) (0.18.1)\n",
            "Requirement already satisfied: prometheus-client in /usr/local/lib/python3.10/dist-packages (from notebook>=4.4.1->widgetsnbextension~=3.6.0->ipywidgets) (0.20.0)\n",
            "Requirement already satisfied: nbclassic>=0.4.7 in /usr/local/lib/python3.10/dist-packages (from notebook>=4.4.1->widgetsnbextension~=3.6.0->ipywidgets) (1.0.0)\n",
            "Requirement already satisfied: python-dateutil>=2.1 in /usr/local/lib/python3.10/dist-packages (from jupyter-client->ipykernel>=4.5.1->ipywidgets) (2.8.2)\n",
            "Requirement already satisfied: ptyprocess>=0.5 in /usr/local/lib/python3.10/dist-packages (from pexpect>4.3->ipython>=4.0.0->ipywidgets) (0.7.0)\n",
            "Requirement already satisfied: wcwidth in /usr/local/lib/python3.10/dist-packages (from prompt-toolkit!=3.0.0,!=3.0.1,<3.1.0,>=2.0.0->ipython>=4.0.0->ipywidgets) (0.2.13)\n",
            "Requirement already satisfied: platformdirs>=2.5 in /usr/local/lib/python3.10/dist-packages (from jupyter-core>=4.6.1->notebook>=4.4.1->widgetsnbextension~=3.6.0->ipywidgets) (4.2.2)\n",
            "Requirement already satisfied: jupyter-server>=1.8 in /usr/local/lib/python3.10/dist-packages (from nbclassic>=0.4.7->notebook>=4.4.1->widgetsnbextension~=3.6.0->ipywidgets) (1.24.0)\n",
            "Requirement already satisfied: notebook-shim>=0.2.3 in /usr/local/lib/python3.10/dist-packages (from nbclassic>=0.4.7->notebook>=4.4.1->widgetsnbextension~=3.6.0->ipywidgets) (0.2.4)\n",
            "Requirement already satisfied: lxml in /usr/local/lib/python3.10/dist-packages (from nbconvert>=5->notebook>=4.4.1->widgetsnbextension~=3.6.0->ipywidgets) (4.9.4)\n",
            "Requirement already satisfied: bleach in /usr/local/lib/python3.10/dist-packages (from nbconvert>=5->notebook>=4.4.1->widgetsnbextension~=3.6.0->ipywidgets) (6.1.0)\n",
            "Requirement already satisfied: defusedxml in /usr/local/lib/python3.10/dist-packages (from nbconvert>=5->notebook>=4.4.1->widgetsnbextension~=3.6.0->ipywidgets) (0.7.1)\n",
            "Requirement already satisfied: entrypoints>=0.2.2 in /usr/local/lib/python3.10/dist-packages (from nbconvert>=5->notebook>=4.4.1->widgetsnbextension~=3.6.0->ipywidgets) (0.4)\n",
            "Requirement already satisfied: jupyterlab-pygments in /usr/local/lib/python3.10/dist-packages (from nbconvert>=5->notebook>=4.4.1->widgetsnbextension~=3.6.0->ipywidgets) (0.3.0)\n",
            "Requirement already satisfied: MarkupSafe>=2.0 in /usr/local/lib/python3.10/dist-packages (from nbconvert>=5->notebook>=4.4.1->widgetsnbextension~=3.6.0->ipywidgets) (2.1.5)\n",
            "Requirement already satisfied: mistune<2,>=0.8.1 in /usr/local/lib/python3.10/dist-packages (from nbconvert>=5->notebook>=4.4.1->widgetsnbextension~=3.6.0->ipywidgets) (0.8.4)\n",
            "Requirement already satisfied: nbclient>=0.5.0 in /usr/local/lib/python3.10/dist-packages (from nbconvert>=5->notebook>=4.4.1->widgetsnbextension~=3.6.0->ipywidgets) (0.10.0)\n",
            "Requirement already satisfied: pandocfilters>=1.4.1 in /usr/local/lib/python3.10/dist-packages (from nbconvert>=5->notebook>=4.4.1->widgetsnbextension~=3.6.0->ipywidgets) (1.5.1)\n",
            "Requirement already satisfied: tinycss2 in /usr/local/lib/python3.10/dist-packages (from nbconvert>=5->notebook>=4.4.1->widgetsnbextension~=3.6.0->ipywidgets) (1.3.0)\n",
            "Requirement already satisfied: fastjsonschema>=2.15 in /usr/local/lib/python3.10/dist-packages (from nbformat->notebook>=4.4.1->widgetsnbextension~=3.6.0->ipywidgets) (2.19.1)\n",
            "Requirement already satisfied: jsonschema>=2.6 in /usr/local/lib/python3.10/dist-packages (from nbformat->notebook>=4.4.1->widgetsnbextension~=3.6.0->ipywidgets) (4.19.2)\n",
            "Requirement already satisfied: argon2-cffi-bindings in /usr/local/lib/python3.10/dist-packages (from argon2-cffi->notebook>=4.4.1->widgetsnbextension~=3.6.0->ipywidgets) (21.2.0)\n",
            "Requirement already satisfied: attrs>=22.2.0 in /usr/local/lib/python3.10/dist-packages (from jsonschema>=2.6->nbformat->notebook>=4.4.1->widgetsnbextension~=3.6.0->ipywidgets) (23.2.0)\n",
            "Requirement already satisfied: jsonschema-specifications>=2023.03.6 in /usr/local/lib/python3.10/dist-packages (from jsonschema>=2.6->nbformat->notebook>=4.4.1->widgetsnbextension~=3.6.0->ipywidgets) (2023.12.1)\n",
            "Requirement already satisfied: referencing>=0.28.4 in /usr/local/lib/python3.10/dist-packages (from jsonschema>=2.6->nbformat->notebook>=4.4.1->widgetsnbextension~=3.6.0->ipywidgets) (0.35.1)\n",
            "Requirement already satisfied: rpds-py>=0.7.1 in /usr/local/lib/python3.10/dist-packages (from jsonschema>=2.6->nbformat->notebook>=4.4.1->widgetsnbextension~=3.6.0->ipywidgets) (0.18.1)\n",
            "Requirement already satisfied: anyio<4,>=3.1.0 in /usr/local/lib/python3.10/dist-packages (from jupyter-server>=1.8->nbclassic>=0.4.7->notebook>=4.4.1->widgetsnbextension~=3.6.0->ipywidgets) (3.7.1)\n",
            "Requirement already satisfied: websocket-client in /usr/local/lib/python3.10/dist-packages (from jupyter-server>=1.8->nbclassic>=0.4.7->notebook>=4.4.1->widgetsnbextension~=3.6.0->ipywidgets) (1.8.0)\n",
            "Requirement already satisfied: cffi>=1.0.1 in /usr/local/lib/python3.10/dist-packages (from argon2-cffi-bindings->argon2-cffi->notebook>=4.4.1->widgetsnbextension~=3.6.0->ipywidgets) (1.16.0)\n",
            "Requirement already satisfied: sniffio>=1.1 in /usr/local/lib/python3.10/dist-packages (from anyio<4,>=3.1.0->jupyter-server>=1.8->nbclassic>=0.4.7->notebook>=4.4.1->widgetsnbextension~=3.6.0->ipywidgets) (1.3.1)\n",
            "Requirement already satisfied: exceptiongroup in /usr/local/lib/python3.10/dist-packages (from anyio<4,>=3.1.0->jupyter-server>=1.8->nbclassic>=0.4.7->notebook>=4.4.1->widgetsnbextension~=3.6.0->ipywidgets) (1.2.1)\n",
            "Requirement already satisfied: pycparser in /usr/local/lib/python3.10/dist-packages (from cffi>=1.0.1->argon2-cffi-bindings->argon2-cffi->notebook>=4.4.1->widgetsnbextension~=3.6.0->ipywidgets) (2.22)\n"
          ]
        },
        {
          "output_type": "display_data",
          "data": {
            "text/plain": [
              "Text(value='', description='Exoplanet Name:', placeholder='Enter the name of an exoplanet')"
            ],
            "application/vnd.jupyter.widget-view+json": {
              "version_major": 2,
              "version_minor": 0,
              "model_id": "eb9c4ec451744800a725a0aab6addace"
            }
          },
          "metadata": {}
        },
        {
          "output_type": "display_data",
          "data": {
            "text/plain": [
              "Output()"
            ],
            "application/vnd.jupyter.widget-view+json": {
              "version_major": 2,
              "version_minor": 0,
              "model_id": "08d9f127362b4e7fbbdc0bbdfc1ce6ff"
            }
          },
          "metadata": {}
        }
      ]
    },
    {
      "cell_type": "code",
      "source": [
        "\n",
        "import numpy as np\n",
        "import matplotlib.pyplot as plt\n",
        "\n",
        "# Generem una sèrie temporal amb un període de 10 unitats\n",
        "t = np.arange(0, 100, 0.1)\n",
        "x = np.sin(2 * np.pi * t / 10) + 0.5 * np.sin(4 * np.pi * t / 10)\n",
        "\n",
        "# Apliquem la transformada de Fourier\n",
        "X = np.fft.fft(x)\n",
        "\n",
        "# Calculem les freqüències\n",
        "freq = np.fft.fftfreq(len(x), d=0.1)\n",
        "\n",
        "# Trobem el període\n",
        "period = 1 / freq[np.argmax(np.abs(X))]\n",
        "\n",
        "print(\"Període:\", period)\n",
        "\n",
        "# Grafiquem la transformada de Fourier\n",
        "plt.plot(freq, np.abs(X))\n",
        "plt.xlabel(\"Freqüència\")\n",
        "plt.ylabel(\"Amplitud\")\n",
        "plt.title(\"Transformada de Fourier\")\n",
        "plt.show()"
      ],
      "metadata": {
        "colab": {
          "base_uri": "https://localhost:8080/",
          "height": 277
        },
        "id": "PwxWGMEPZYQS",
        "outputId": "6f6f4f9f-2876-4466-ee86-5d90a50df5ed"
      },
      "execution_count": null,
      "outputs": [
        {
          "output_type": "stream",
          "name": "stdout",
          "text": [
            "Període: 10.0\n"
          ]
        },
        {
          "output_type": "display_data",
          "data": {
            "text/plain": [
              "<Figure size 640x480 with 1 Axes>"
            ],
            "image/png": "[encoded data removed]"
          },
          "metadata": {}
        }
      ]
    },
    {
      "cell_type": "code",
      "source": [
        "\n",
        "import numpy as np\n",
        "import matplotlib.pyplot as plt\n",
        "from scipy.fft import fft, fftfreq\n",
        "\n",
        "# Generar dades sintètiques\n",
        "N = 100  # nombre de punts de dades\n",
        "T = 1.0  # interval de temps entre mesures (1 dia)\n",
        "x = np.linspace(0.0, N*T, N, endpoint=False)\n",
        "# La lluminositat varia amb un període de 10 dies\n",
        "y = np.sin(2.0 * np.pi * x / 10) + 0.5 * np.random.normal(size=N)\n",
        "\n",
        "# Aplicar la transformada de Fourier\n",
        "yf = fft(y)\n",
        "xf = fftfreq(N, T)[:N//2]\n",
        "\n",
        "# Calcular el període corresponent a la freqüència dominant\n",
        "dominant_freq = xf[np.argmax(np.abs(yf[:N//2]))]\n",
        "period = 1 / dominant_freq\n",
        "\n",
        "# Mostrar els resultats\n",
        "print(f\"Període trobat: {period:.2f} dies\")\n",
        "\n",
        "# Visualitzar les dades i l'espectre de Fourier\n",
        "plt.figure(figsize=(12, 6))\n",
        "\n",
        "plt.subplot(2, 1, 1)\n",
        "plt.plot(x, y)\n",
        "plt.title('Sèrie temporal de la lluminositat')\n",
        "plt.xlabel('Temps [dies]')\n",
        "plt.ylabel('Lluminositat')\n",
        "\n",
        "plt.subplot(2, 1, 2)\n",
        "plt.plot(xf, 2.0/N * np.abs(yf[:N//2]))\n",
        "plt.title('Transformada de Fourier')\n",
        "plt.xlabel('Frequència [1/dies]')\n",
        "plt.ylabel('Amplitud')\n",
        "\n",
        "plt.tight_layout()\n",
        "plt.show()"
      ],
      "metadata": {
        "colab": {
          "base_uri": "https://localhost:8080/",
          "height": 185
        },
        "id": "kChkG3GUf-7X",
        "outputId": "f2235b55-f7c5-4883-e06d-98f7947ef1af"
      },
      "execution_count": null,
      "outputs": [
        {
          "output_type": "stream",
          "name": "stdout",
          "text": [
            "Període trobat: 10.00 dies\n"
          ]
        },
        {
          "output_type": "display_data",
          "data": {
            "text/plain": [
              "<Figure size 1200x600 with 2 Axes>"
            ],
            "image/png": "[encoded data removed]"
          },
          "metadata": {}
        }
      ]
    },
    {
      "cell_type": "code",
      "source": [
        "\n",
        "import lightkurve as lk\n",
        "import numpy as np\n",
        "import matplotlib.pyplot as plt\n",
        "from astropy.timeseries import LombScargle\n",
        "from IPython.display import display, Markdown\n",
        "import ipywidgets as widgets\n",
        "\n",
        "# Funció per descarregar i analitzar la corba de llum\n",
        "def download_and_analyze_lightcurve(exoplanet_name):\n",
        "    try:\n",
        "        # Cerca i descarrega la corba de llum\n",
        "        search_result = lk.search_lightcurve(exoplanet_name, mission='Kepler')\n",
        "        if len(search_result) == 0:\n",
        "            search_result = lk.search_lightcurve(exoplanet_name, mission='K2')\n",
        "        if len(search_result) == 0:\n",
        "            search_result = lk.search_lightcurve(exoplanet_name, mission='TESS')\n",
        "        if len(search_result) == 0:\n",
        "            display(Markdown(\"**No s'han trobat dades per a l'exoplaneta especificat.**\"))\n",
        "            return\n",
        "\n",
        "        lc_collection = search_result.download_all()\n",
        "        if lc_collection is None:\n",
        "            display(Markdown(\"**No s'han pogut descarregar les dades per a l'exoplaneta especificat.**\"))\n",
        "            return\n",
        "\n",
        "        lc = lc_collection.stitch()\n",
        "\n",
        "        # Neteja i normalització de la corba de llum\n",
        "        lc = lc.remove_nans().normalize().remove_outliers(sigma=5)\n",
        "\n",
        "        # Representació de la corba de llum\n",
        "        lc.plot()\n",
        "        plt.show()\n",
        "\n",
        "        # Estadístiques bàsiques\n",
        "        mean_flux = np.mean(lc.flux)\n",
        "        std_flux = np.std(lc.flux)\n",
        "        num_data_points = len(lc.flux)\n",
        "\n",
        "        display(Markdown(f\"**Estadístiques bàsiques de la corba de llum:**\"))\n",
        "        display(Markdown(f\"- Nombre de punts de dades: {num_data_points}\"))\n",
        "        display(Markdown(f\"- Flux mitjà: {mean_flux:.4e}\"))\n",
        "        display(Markdown(f\"- Desviació estàndard del flux: {std_flux:.4e}\"))\n",
        "\n",
        "        # Transformada de Lomb-Scargle per detectar períodes\n",
        "        frequency, power = LombScargle(lc.time.value, lc.flux.value).autopower()\n",
        "        period = 1 / frequency\n",
        "        plt.plot(period, power)\n",
        "        plt.xscale('log')\n",
        "        plt.xlabel('Període [dies]')\n",
        "        plt.ylabel('Potència')\n",
        "        plt.title('Lomb-Scargle Periodograma')\n",
        "        plt.show()\n",
        "\n",
        "        # Identificació dels períodes més prominents\n",
        "        peak_indices = np.argsort(power)[-100:]  # Els 5 períodes amb més potència\n",
        "        peak_periods = period[peak_indices]\n",
        "        peak_powers = power[peak_indices]\n",
        "\n",
        "        sorted_peaks = sorted(zip(peak_periods, peak_powers), key=lambda x: x[0])\n",
        "\n",
        "        display(Markdown(f\"**Els períodes més prominents (dies) són:**\"))\n",
        "        for p, pow in sorted_peaks:\n",
        "            display(Markdown(f\"- Període: {p:.4f} dies, Potència: {pow:.4e}\"))\n",
        "\n",
        "    except Exception as e:\n",
        "        display(Markdown(f\"**Ha ocorregut un error: {e}**\"))\n",
        "\n",
        "# Interfície gràfica per introduir el nom de l'exoplaneta\n",
        "exoplanet_name_textbox = widgets.Text(\n",
        "    value='',\n",
        "    placeholder='Introdueix el nom de l\\'exoplaneta',\n",
        "    description='Exoplaneta:',\n",
        "    disabled=False\n",
        ")\n",
        "\n",
        "def on_button_clicked(b):\n",
        "    exoplanet_name = exoplanet_name_textbox.value\n",
        "    download_and_analyze_lightcurve(exoplanet_name)\n",
        "\n",
        "button = widgets.Button(description=\"Obtenir corba de llum\")\n",
        "button.on_click(on_button_clicked)\n",
        "\n",
        "display(exoplanet_name_textbox, button)"
      ],
      "metadata": {
        "colab": {
          "base_uri": "https://localhost:8080/",
          "height": 1000,
          "referenced_widgets": [
            "43a9f04f36dc49f7ac005c564602c75b",
            "9547339c8b69460ca6d13e8a0cc219a9",
            "dd34b484280242948b5d80108828ad2b",
            "4ea4e8e8af25493c90733d57c4b6a957",
            "80ebd849d3584e0a9cf64f25249b1519",
            "0becc197035e4a4cbdb24aa669bf37ad"
          ]
        },
        "id": "zildYODuGh25",
        "outputId": "d27cbb83-8fbf-4c29-c32f-a569a4163618"
      },
      "execution_count": null,
      "outputs": [
        {
          "output_type": "display_data",
          "data": {
            "text/plain": [
              "Text(value='', description='Exoplaneta:', placeholder=\"Introdueix el nom de l'exoplaneta\")"
            ],
            "application/vnd.jupyter.widget-view+json": {
              "version_major": 2,
              "version_minor": 0,
              "model_id": "43a9f04f36dc49f7ac005c564602c75b"
            }
          },
          "metadata": {}
        },
        {
          "output_type": "display_data",
          "data": {
            "text/plain": [
              "Button(description='Obtenir corba de llum', style=ButtonStyle())"
            ],
            "application/vnd.jupyter.widget-view+json": {
              "version_major": 2,
              "version_minor": 0,
              "model_id": "4ea4e8e8af25493c90733d57c4b6a957"
            }
          },
          "metadata": {}
        },
        {
          "output_type": "display_data",
          "data": {
            "text/plain": [
              "<Figure size 848.5x400 with 1 Axes>"
            ],
            "image/png": "[encoded data removed]"
          },
          "metadata": {}
        },
        {
          "output_type": "display_data",
          "data": {
            "text/plain": [
              "<IPython.core.display.Markdown object>"
            ],
            "text/markdown": "**Estadístiques bàsiques de la corba de llum:**"
          },
          "metadata": {}
        },
        {
          "output_type": "display_data",
          "data": {
            "text/plain": [
              "<IPython.core.display.Markdown object>"
            ],
            "text/markdown": "- Nombre de punts de dades: 62658"
          },
          "metadata": {}
        },
        {
          "output_type": "display_data",
          "data": {
            "text/plain": [
              "<IPython.core.display.Markdown object>"
            ],
            "text/markdown": "- Flux mitjà: 1.0000e+00"
          },
          "metadata": {}
        },
        {
          "output_type": "display_data",
          "data": {
            "text/plain": [
              "<IPython.core.display.Markdown object>"
            ],
            "text/markdown": "- Desviació estàndard del flux: 6.6877e-04"
          },
          "metadata": {}
        },
        {
          "output_type": "display_data",
          "data": {
            "text/plain": [
              "<Figure size 640x480 with 1 Axes>"
            ],
            "image/png": "[encoded data removed]"
          },
          "metadata": {}
        },
        {
          "output_type": "display_data",
          "data": {
            "text/plain": [
              "<IPython.core.display.Markdown object>"
            ],
            "text/markdown": "**Els períodes més prominents (dies) són:**"
          },
          "metadata": {}
        },
        {
          "output_type": "display_data",
          "data": {
            "text/plain": [
              "<IPython.core.display.Markdown object>"
            ],
            "text/markdown": "- Període: 0.0102 dies, Potència: 2.5479e-02"
          },
          "metadata": {}
        },
        {
          "output_type": "display_data",
          "data": {
            "text/plain": [
              "<IPython.core.display.Markdown object>"
            ],
            "text/markdown": "- Període: 0.0102 dies, Potència: 2.7765e-02"
          },
          "metadata": {}
        },
        {
          "output_type": "display_data",
          "data": {
            "text/plain": [
              "<IPython.core.display.Markdown object>"
            ],
            "text/markdown": "- Període: 0.0102 dies, Potència: 2.2821e-02"
          },
          "metadata": {}
        },
        {
          "output_type": "display_data",
          "data": {
            "text/plain": [
              "<IPython.core.display.Markdown object>"
            ],
            "text/markdown": "- Període: 0.0102 dies, Potència: 2.8094e-02"
          },
          "metadata": {}
        },
        {
          "output_type": "display_data",
          "data": {
            "text/plain": [
              "<IPython.core.display.Markdown object>"
            ],
            "text/markdown": "- Període: 0.0102 dies, Potència: 3.5449e-02"
          },
          "metadata": {}
        },
        {
          "output_type": "display_data",
          "data": {
            "text/plain": [
              "<IPython.core.display.Markdown object>"
            ],
            "text/markdown": "- Període: 0.0102 dies, Potència: 2.9035e-02"
          },
          "metadata": {}
        },
        {
          "output_type": "display_data",
          "data": {
            "text/plain": [
              "<IPython.core.display.Markdown object>"
            ],
            "text/markdown": "- Període: 0.0102 dies, Potència: 2.2456e-02"
          },
          "metadata": {}
        },
        {
          "output_type": "display_data",
          "data": {
            "text/plain": [
              "<IPython.core.display.Markdown object>"
            ],
            "text/markdown": "- Període: 0.0102 dies, Potència: 2.7132e-02"
          },
          "metadata": {}
        },
        {
          "output_type": "display_data",
          "data": {
            "text/plain": [
              "<IPython.core.display.Markdown object>"
            ],
            "text/markdown": "- Període: 0.0102 dies, Potència: 2.3597e-02"
          },
          "metadata": {}
        },
        {
          "output_type": "display_data",
          "data": {
            "text/plain": [
              "<IPython.core.display.Markdown object>"
            ],
            "text/markdown": "- Període: 0.0102 dies, Potència: 2.4732e-02"
          },
          "metadata": {}
        },
        {
          "output_type": "display_data",
          "data": {
            "text/plain": [
              "<IPython.core.display.Markdown object>"
            ],
            "text/markdown": "- Període: 0.0102 dies, Potència: 2.8740e-02"
          },
          "metadata": {}
        },
        {
          "output_type": "display_data",
          "data": {
            "text/plain": [
              "<IPython.core.display.Markdown object>"
            ],
            "text/markdown": "- Període: 0.0102 dies, Potència: 2.5969e-02"
          },
          "metadata": {}
        },
        {
          "output_type": "display_data",
          "data": {
            "text/plain": [
              "<IPython.core.display.Markdown object>"
            ],
            "text/markdown": "- Període: 0.0102 dies, Potència: 2.8252e-02"
          },
          "metadata": {}
        },
        {
          "output_type": "display_data",
          "data": {
            "text/plain": [
              "<IPython.core.display.Markdown object>"
            ],
            "text/markdown": "- Període: 0.0102 dies, Potència: 2.8015e-02"
          },
          "metadata": {}
        },
        {
          "output_type": "display_data",
          "data": {
            "text/plain": [
              "<IPython.core.display.Markdown object>"
            ],
            "text/markdown": "- Període: 0.0102 dies, Potència: 2.9173e-02"
          },
          "metadata": {}
        },
        {
          "output_type": "display_data",
          "data": {
            "text/plain": [
              "<IPython.core.display.Markdown object>"
            ],
            "text/markdown": "- Període: 0.0102 dies, Potència: 3.9177e-02"
          },
          "metadata": {}
        },
        {
          "output_type": "display_data",
          "data": {
            "text/plain": [
              "<IPython.core.display.Markdown object>"
            ],
            "text/markdown": "- Període: 0.0102 dies, Potència: 3.8391e-02"
          },
          "metadata": {}
        },
        {
          "output_type": "display_data",
          "data": {
            "text/plain": [
              "<IPython.core.display.Markdown object>"
            ],
            "text/markdown": "- Període: 0.0102 dies, Potència: 2.6908e-02"
          },
          "metadata": {}
        },
        {
          "output_type": "display_data",
          "data": {
            "text/plain": [
              "<IPython.core.display.Markdown object>"
            ],
            "text/markdown": "- Període: 0.0102 dies, Potència: 2.6530e-02"
          },
          "metadata": {}
        },
        {
          "output_type": "display_data",
          "data": {
            "text/plain": [
              "<IPython.core.display.Markdown object>"
            ],
            "text/markdown": "- Període: 0.0102 dies, Potència: 3.7915e-02"
          },
          "metadata": {}
        },
        {
          "output_type": "display_data",
          "data": {
            "text/plain": [
              "<IPython.core.display.Markdown object>"
            ],
            "text/markdown": "- Període: 0.0102 dies, Potència: 3.9136e-02"
          },
          "metadata": {}
        },
        {
          "output_type": "display_data",
          "data": {
            "text/plain": [
              "<IPython.core.display.Markdown object>"
            ],
            "text/markdown": "- Període: 0.0102 dies, Potència: 2.9581e-02"
          },
          "metadata": {}
        },
        {
          "output_type": "display_data",
          "data": {
            "text/plain": [
              "<IPython.core.display.Markdown object>"
            ],
            "text/markdown": "- Període: 0.0102 dies, Potència: 2.3495e-02"
          },
          "metadata": {}
        },
        {
          "output_type": "display_data",
          "data": {
            "text/plain": [
              "<IPython.core.display.Markdown object>"
            ],
            "text/markdown": "- Període: 0.0102 dies, Potència: 2.7864e-02"
          },
          "metadata": {}
        },
        {
          "output_type": "display_data",
          "data": {
            "text/plain": [
              "<IPython.core.display.Markdown object>"
            ],
            "text/markdown": "- Període: 0.0102 dies, Potència: 2.3905e-02"
          },
          "metadata": {}
        },
        {
          "output_type": "display_data",
          "data": {
            "text/plain": [
              "<IPython.core.display.Markdown object>"
            ],
            "text/markdown": "- Període: 0.0102 dies, Potència: 2.2583e-02"
          },
          "metadata": {}
        },
        {
          "output_type": "display_data",
          "data": {
            "text/plain": [
              "<IPython.core.display.Markdown object>"
            ],
            "text/markdown": "- Període: 0.0102 dies, Potència: 2.4602e-02"
          },
          "metadata": {}
        },
        {
          "output_type": "display_data",
          "data": {
            "text/plain": [
              "<IPython.core.display.Markdown object>"
            ],
            "text/markdown": "- Període: 0.0102 dies, Potència: 2.2325e-02"
          },
          "metadata": {}
        },
        {
          "output_type": "display_data",
          "data": {
            "text/plain": [
              "<IPython.core.display.Markdown object>"
            ],
            "text/markdown": "- Període: 0.0102 dies, Potència: 2.7920e-02"
          },
          "metadata": {}
        },
        {
          "output_type": "display_data",
          "data": {
            "text/plain": [
              "<IPython.core.display.Markdown object>"
            ],
            "text/markdown": "- Període: 0.0102 dies, Potència: 2.6030e-02"
          },
          "metadata": {}
        },
        {
          "output_type": "display_data",
          "data": {
            "text/plain": [
              "<IPython.core.display.Markdown object>"
            ],
            "text/markdown": "- Període: 0.0102 dies, Potència: 3.1048e-02"
          },
          "metadata": {}
        },
        {
          "output_type": "display_data",
          "data": {
            "text/plain": [
              "<IPython.core.display.Markdown object>"
            ],
            "text/markdown": "- Període: 0.0102 dies, Potència: 3.6775e-02"
          },
          "metadata": {}
        },
        {
          "output_type": "display_data",
          "data": {
            "text/plain": [
              "<IPython.core.display.Markdown object>"
            ],
            "text/markdown": "- Període: 0.0102 dies, Potència: 3.1294e-02"
          },
          "metadata": {}
        },
        {
          "output_type": "display_data",
          "data": {
            "text/plain": [
              "<IPython.core.display.Markdown object>"
            ],
            "text/markdown": "- Període: 0.0102 dies, Potència: 3.0066e-02"
          },
          "metadata": {}
        },
        {
          "output_type": "display_data",
          "data": {
            "text/plain": [
              "<IPython.core.display.Markdown object>"
            ],
            "text/markdown": "- Període: 0.0102 dies, Potència: 3.5962e-02"
          },
          "metadata": {}
        },
        {
          "output_type": "display_data",
          "data": {
            "text/plain": [
              "<IPython.core.display.Markdown object>"
            ],
            "text/markdown": "- Període: 0.0102 dies, Potència: 3.0438e-02"
          },
          "metadata": {}
        },
        {
          "output_type": "display_data",
          "data": {
            "text/plain": [
              "<IPython.core.display.Markdown object>"
            ],
            "text/markdown": "- Període: 0.0102 dies, Potència: 2.1683e-02"
          },
          "metadata": {}
        },
        {
          "output_type": "display_data",
          "data": {
            "text/plain": [
              "<IPython.core.display.Markdown object>"
            ],
            "text/markdown": "- Període: 0.0102 dies, Potència: 2.8678e-02"
          },
          "metadata": {}
        },
        {
          "output_type": "display_data",
          "data": {
            "text/plain": [
              "<IPython.core.display.Markdown object>"
            ],
            "text/markdown": "- Període: 0.0102 dies, Potència: 2.6830e-02"
          },
          "metadata": {}
        },
        {
          "output_type": "display_data",
          "data": {
            "text/plain": [
              "<IPython.core.display.Markdown object>"
            ],
            "text/markdown": "- Període: 0.0204 dies, Potència: 2.4362e-02"
          },
          "metadata": {}
        },
        {
          "output_type": "display_data",
          "data": {
            "text/plain": [
              "<IPython.core.display.Markdown object>"
            ],
            "text/markdown": "- Període: 0.0204 dies, Potència: 2.2778e-02"
          },
          "metadata": {}
        },
        {
          "output_type": "display_data",
          "data": {
            "text/plain": [
              "<IPython.core.display.Markdown object>"
            ],
            "text/markdown": "- Període: 0.0204 dies, Potència: 2.2455e-02"
          },
          "metadata": {}
        },
        {
          "output_type": "display_data",
          "data": {
            "text/plain": [
              "<IPython.core.display.Markdown object>"
            ],
            "text/markdown": "- Període: 0.0204 dies, Potència: 2.3429e-02"
          },
          "metadata": {}
        },
        {
          "output_type": "display_data",
          "data": {
            "text/plain": [
              "<IPython.core.display.Markdown object>"
            ],
            "text/markdown": "- Període: 0.0204 dies, Potència: 3.2571e-02"
          },
          "metadata": {}
        },
        {
          "output_type": "display_data",
          "data": {
            "text/plain": [
              "<IPython.core.display.Markdown object>"
            ],
            "text/markdown": "- Període: 0.0204 dies, Potència: 3.0100e-02"
          },
          "metadata": {}
        },
        {
          "output_type": "display_data",
          "data": {
            "text/plain": [
              "<IPython.core.display.Markdown object>"
            ],
            "text/markdown": "- Període: 0.0204 dies, Potència: 2.1737e-02"
          },
          "metadata": {}
        },
        {
          "output_type": "display_data",
          "data": {
            "text/plain": [
              "<IPython.core.display.Markdown object>"
            ],
            "text/markdown": "- Període: 0.0204 dies, Potència: 2.5321e-02"
          },
          "metadata": {}
        },
        {
          "output_type": "display_data",
          "data": {
            "text/plain": [
              "<IPython.core.display.Markdown object>"
            ],
            "text/markdown": "- Període: 0.0204 dies, Potència: 2.7212e-02"
          },
          "metadata": {}
        },
        {
          "output_type": "display_data",
          "data": {
            "text/plain": [
              "<IPython.core.display.Markdown object>"
            ],
            "text/markdown": "- Període: 0.0204 dies, Potència: 3.1311e-02"
          },
          "metadata": {}
        },
        {
          "output_type": "display_data",
          "data": {
            "text/plain": [
              "<IPython.core.display.Markdown object>"
            ],
            "text/markdown": "- Període: 0.0204 dies, Potència: 2.4606e-02"
          },
          "metadata": {}
        },
        {
          "output_type": "display_data",
          "data": {
            "text/plain": [
              "<IPython.core.display.Markdown object>"
            ],
            "text/markdown": "- Període: 0.0204 dies, Potència: 2.3370e-02"
          },
          "metadata": {}
        },
        {
          "output_type": "display_data",
          "data": {
            "text/plain": [
              "<IPython.core.display.Markdown object>"
            ],
            "text/markdown": "- Període: 0.0204 dies, Potència: 2.9604e-02"
          },
          "metadata": {}
        },
        {
          "output_type": "display_data",
          "data": {
            "text/plain": [
              "<IPython.core.display.Markdown object>"
            ],
            "text/markdown": "- Període: 0.0204 dies, Potència: 3.1819e-02"
          },
          "metadata": {}
        },
        {
          "output_type": "display_data",
          "data": {
            "text/plain": [
              "<IPython.core.display.Markdown object>"
            ],
            "text/markdown": "- Període: 0.0204 dies, Potència: 2.5608e-02"
          },
          "metadata": {}
        },
        {
          "output_type": "display_data",
          "data": {
            "text/plain": [
              "<IPython.core.display.Markdown object>"
            ],
            "text/markdown": "- Període: 0.0204 dies, Potència: 2.2978e-02"
          },
          "metadata": {}
        },
        {
          "output_type": "display_data",
          "data": {
            "text/plain": [
              "<IPython.core.display.Markdown object>"
            ],
            "text/markdown": "- Període: 0.0204 dies, Potència: 2.3428e-02"
          },
          "metadata": {}
        },
        {
          "output_type": "display_data",
          "data": {
            "text/plain": [
              "<IPython.core.display.Markdown object>"
            ],
            "text/markdown": "- Període: 0.0204 dies, Potència: 3.0231e-02"
          },
          "metadata": {}
        },
        {
          "output_type": "display_data",
          "data": {
            "text/plain": [
              "<IPython.core.display.Markdown object>"
            ],
            "text/markdown": "- Període: 0.0204 dies, Potència: 3.5117e-02"
          },
          "metadata": {}
        },
        {
          "output_type": "display_data",
          "data": {
            "text/plain": [
              "<IPython.core.display.Markdown object>"
            ],
            "text/markdown": "- Període: 0.0204 dies, Potència: 2.9829e-02"
          },
          "metadata": {}
        },
        {
          "output_type": "display_data",
          "data": {
            "text/plain": [
              "<IPython.core.display.Markdown object>"
            ],
            "text/markdown": "- Període: 0.0204 dies, Potència: 2.5694e-02"
          },
          "metadata": {}
        },
        {
          "output_type": "display_data",
          "data": {
            "text/plain": [
              "<IPython.core.display.Markdown object>"
            ],
            "text/markdown": "- Període: 0.0204 dies, Potència: 2.5394e-02"
          },
          "metadata": {}
        },
        {
          "output_type": "display_data",
          "data": {
            "text/plain": [
              "<IPython.core.display.Markdown object>"
            ],
            "text/markdown": "- Període: 0.0204 dies, Potència: 2.8452e-02"
          },
          "metadata": {}
        },
        {
          "output_type": "display_data",
          "data": {
            "text/plain": [
              "<IPython.core.display.Markdown object>"
            ],
            "text/markdown": "- Període: 0.0204 dies, Potència: 3.0990e-02"
          },
          "metadata": {}
        },
        {
          "output_type": "display_data",
          "data": {
            "text/plain": [
              "<IPython.core.display.Markdown object>"
            ],
            "text/markdown": "- Període: 0.0204 dies, Potència: 2.4834e-02"
          },
          "metadata": {}
        },
        {
          "output_type": "display_data",
          "data": {
            "text/plain": [
              "<IPython.core.display.Markdown object>"
            ],
            "text/markdown": "- Període: 0.0204 dies, Potència: 2.3551e-02"
          },
          "metadata": {}
        },
        {
          "output_type": "display_data",
          "data": {
            "text/plain": [
              "<IPython.core.display.Markdown object>"
            ],
            "text/markdown": "- Període: 0.0204 dies, Potència: 3.0555e-02"
          },
          "metadata": {}
        },
        {
          "output_type": "display_data",
          "data": {
            "text/plain": [
              "<IPython.core.display.Markdown object>"
            ],
            "text/markdown": "- Període: 0.0204 dies, Potència: 3.1588e-02"
          },
          "metadata": {}
        },
        {
          "output_type": "display_data",
          "data": {
            "text/plain": [
              "<IPython.core.display.Markdown object>"
            ],
            "text/markdown": "- Període: 0.0204 dies, Potència: 2.3578e-02"
          },
          "metadata": {}
        },
        {
          "output_type": "display_data",
          "data": {
            "text/plain": [
              "<IPython.core.display.Markdown object>"
            ],
            "text/markdown": "- Període: 0.0204 dies, Potència: 2.1631e-02"
          },
          "metadata": {}
        },
        {
          "output_type": "display_data",
          "data": {
            "text/plain": [
              "<IPython.core.display.Markdown object>"
            ],
            "text/markdown": "- Període: 0.0204 dies, Potència: 2.4802e-02"
          },
          "metadata": {}
        },
        {
          "output_type": "display_data",
          "data": {
            "text/plain": [
              "<IPython.core.display.Markdown object>"
            ],
            "text/markdown": "- Període: 0.0204 dies, Potència: 2.2548e-02"
          },
          "metadata": {}
        },
        {
          "output_type": "display_data",
          "data": {
            "text/plain": [
              "<IPython.core.display.Markdown object>"
            ],
            "text/markdown": "- Període: 0.0204 dies, Potència: 3.2380e-02"
          },
          "metadata": {}
        },
        {
          "output_type": "display_data",
          "data": {
            "text/plain": [
              "<IPython.core.display.Markdown object>"
            ],
            "text/markdown": "- Període: 0.0204 dies, Potència: 3.3206e-02"
          },
          "metadata": {}
        },
        {
          "output_type": "display_data",
          "data": {
            "text/plain": [
              "<IPython.core.display.Markdown object>"
            ],
            "text/markdown": "- Període: 0.0204 dies, Potència: 2.3925e-02"
          },
          "metadata": {}
        },
        {
          "output_type": "display_data",
          "data": {
            "text/plain": [
              "<IPython.core.display.Markdown object>"
            ],
            "text/markdown": "- Període: 0.0204 dies, Potència: 2.2136e-02"
          },
          "metadata": {}
        },
        {
          "output_type": "display_data",
          "data": {
            "text/plain": [
              "<IPython.core.display.Markdown object>"
            ],
            "text/markdown": "- Període: 0.0204 dies, Potència: 2.4703e-02"
          },
          "metadata": {}
        },
        {
          "output_type": "display_data",
          "data": {
            "text/plain": [
              "<IPython.core.display.Markdown object>"
            ],
            "text/markdown": "- Període: 0.0204 dies, Potència: 2.7392e-02"
          },
          "metadata": {}
        },
        {
          "output_type": "display_data",
          "data": {
            "text/plain": [
              "<IPython.core.display.Markdown object>"
            ],
            "text/markdown": "- Període: 0.0204 dies, Potència: 2.1754e-02"
          },
          "metadata": {}
        },
        {
          "output_type": "display_data",
          "data": {
            "text/plain": [
              "<IPython.core.display.Markdown object>"
            ],
            "text/markdown": "- Període: 0.0205 dies, Potència: 2.3325e-02"
          },
          "metadata": {}
        },
        {
          "output_type": "display_data",
          "data": {
            "text/plain": [
              "<IPython.core.display.Markdown object>"
            ],
            "text/markdown": "- Període: 25.9655 dies, Potència: 2.1659e-02"
          },
          "metadata": {}
        },
        {
          "output_type": "display_data",
          "data": {
            "text/plain": [
              "<IPython.core.display.Markdown object>"
            ],
            "text/markdown": "- Període: 27.7325 dies, Potència: 2.1894e-02"
          },
          "metadata": {}
        },
        {
          "output_type": "display_data",
          "data": {
            "text/plain": [
              "<IPython.core.display.Markdown object>"
            ],
            "text/markdown": "- Període: 48.4175 dies, Potència: 2.2103e-02"
          },
          "metadata": {}
        },
        {
          "output_type": "display_data",
          "data": {
            "text/plain": [
              "<IPython.core.display.Markdown object>"
            ],
            "text/markdown": "- Període: 48.7392 dies, Potència: 2.4094e-02"
          },
          "metadata": {}
        },
        {
          "output_type": "display_data",
          "data": {
            "text/plain": [
              "<IPython.core.display.Markdown object>"
            ],
            "text/markdown": "- Període: 52.5824 dies, Potència: 2.2771e-02"
          },
          "metadata": {}
        },
        {
          "output_type": "display_data",
          "data": {
            "text/plain": [
              "<IPython.core.display.Markdown object>"
            ],
            "text/markdown": "- Període: 54.9457 dies, Potència: 2.4070e-02"
          },
          "metadata": {}
        },
        {
          "output_type": "display_data",
          "data": {
            "text/plain": [
              "<IPython.core.display.Markdown object>"
            ],
            "text/markdown": "- Període: 55.3604 dies, Potència: 2.7127e-02"
          },
          "metadata": {}
        },
        {
          "output_type": "display_data",
          "data": {
            "text/plain": [
              "<IPython.core.display.Markdown object>"
            ],
            "text/markdown": "- Període: 55.7814 dies, Potència: 2.2780e-02"
          },
          "metadata": {}
        },
        {
          "output_type": "display_data",
          "data": {
            "text/plain": [
              "<IPython.core.display.Markdown object>"
            ],
            "text/markdown": "- Període: 59.8796 dies, Potència: 2.8471e-02"
          },
          "metadata": {}
        },
        {
          "output_type": "display_data",
          "data": {
            "text/plain": [
              "<IPython.core.display.Markdown object>"
            ],
            "text/markdown": "- Període: 60.3724 dies, Potència: 2.8187e-02"
          },
          "metadata": {}
        },
        {
          "output_type": "display_data",
          "data": {
            "text/plain": [
              "<IPython.core.display.Markdown object>"
            ],
            "text/markdown": "- Període: 63.5086 dies, Potència: 2.3111e-02"
          },
          "metadata": {}
        },
        {
          "output_type": "display_data",
          "data": {
            "text/plain": [
              "<IPython.core.display.Markdown object>"
            ],
            "text/markdown": "- Període: 64.0633 dies, Potència: 2.5777e-02"
          },
          "metadata": {}
        },
        {
          "output_type": "display_data",
          "data": {
            "text/plain": [
              "<IPython.core.display.Markdown object>"
            ],
            "text/markdown": "- Període: 64.6277 dies, Potència: 2.4748e-02"
          },
          "metadata": {}
        },
        {
          "output_type": "display_data",
          "data": {
            "text/plain": [
              "<IPython.core.display.Markdown object>"
            ],
            "text/markdown": "- Període: 65.2022 dies, Potència: 2.3184e-02"
          },
          "metadata": {}
        },
        {
          "output_type": "display_data",
          "data": {
            "text/plain": [
              "<IPython.core.display.Markdown object>"
            ],
            "text/markdown": "- Període: 65.7870 dies, Potència: 2.2110e-02"
          },
          "metadata": {}
        },
        {
          "output_type": "display_data",
          "data": {
            "text/plain": [
              "<IPython.core.display.Markdown object>"
            ],
            "text/markdown": "- Període: 70.1938 dies, Potència: 2.6588e-02"
          },
          "metadata": {}
        },
        {
          "output_type": "display_data",
          "data": {
            "text/plain": [
              "<IPython.core.display.Markdown object>"
            ],
            "text/markdown": "- Període: 70.8720 dies, Potència: 2.8940e-02"
          },
          "metadata": {}
        },
        {
          "output_type": "display_data",
          "data": {
            "text/plain": [
              "<IPython.core.display.Markdown object>"
            ],
            "text/markdown": "- Període: 71.5634 dies, Potència: 2.3075e-02"
          },
          "metadata": {}
        },
        {
          "output_type": "display_data",
          "data": {
            "text/plain": [
              "<IPython.core.display.Markdown object>"
            ],
            "text/markdown": "- Període: 78.4519 dies, Potència: 2.6159e-02"
          },
          "metadata": {}
        },
        {
          "output_type": "display_data",
          "data": {
            "text/plain": [
              "<IPython.core.display.Markdown object>"
            ],
            "text/markdown": "- Període: 79.3000 dies, Potència: 2.5325e-02"
          },
          "metadata": {}
        },
        {
          "output_type": "display_data",
          "data": {
            "text/plain": [
              "<IPython.core.display.Markdown object>"
            ],
            "text/markdown": "- Període: 85.7924 dies, Potència: 2.2632e-02"
          },
          "metadata": {}
        }
      ]
    },
    {
      "cell_type": "code",
      "source": [
        "!pip install lightkurve\n",
        "import lightkurve as lk\n",
        "import numpy as np\n",
        "import matplotlib.pyplot as plt\n",
        "from astropy.timeseries import LombScargle\n",
        "from IPython.display import display, Markdown\n",
        "import ipywidgets as widgets\n",
        "\n",
        "# Funció per descarregar i analitzar la corba de llum\n",
        "def download_and_analyze_lightcurve(exoplanet_name):\n",
        "    try:\n",
        "        # Cerca i descarrega la corba de llum\n",
        "        search_result = lk.search_lightcurve(exoplanet_name, mission='Kepler')\n",
        "        if len(search_result) == 0:\n",
        "            search_result = lk.search_lightcurve(exoplanet_name, mission='K2')\n",
        "        if len(search_result) == 0:\n",
        "            search_result = lk.search_lightcurve(exoplanet_name, mission='TESS')\n",
        "        if len(search_result) == 0:\n",
        "            display(Markdown(\"**No s'han trobat dades per a l'exoplaneta especificat.**\"))\n",
        "            return\n",
        "\n",
        "        lc_collection = search_result.download_all()\n",
        "        if lc_collection is None:\n",
        "            display(Markdown(\"**No s'han pogut descarregar les dades per a l'exoplaneta especificat.**\"))\n",
        "            return\n",
        "\n",
        "        lc = lc_collection.stitch()\n",
        "\n",
        "        # Neteja i normalització de la corba de llum\n",
        "        lc = lc.remove_nans().normalize().remove_outliers(sigma=5)\n",
        "\n",
        "        # Representació de la corba de llum\n",
        "        lc.plot()\n",
        "        plt.show()\n",
        "\n",
        "        # Estadístiques bàsiques\n",
        "        mean_flux = np.mean(lc.flux)\n",
        "        std_flux = np.std(lc.flux)\n",
        "        num_data_points = len(lc.flux)\n",
        "\n",
        "        display(Markdown(f\"**Estadístiques bàsiques de la corba de llum:**\"))\n",
        "        display(Markdown(f\"- Nombre de punts de dades: {num_data_points}\"))\n",
        "        display(Markdown(f\"- Flux mitjà: {mean_flux:.4e}\"))\n",
        "        display(Markdown(f\"- Desviació estàndard del flux: {std_flux:.4e}\"))\n",
        "\n",
        "        # Transformada de Lomb-Scargle per detectar períodes\n",
        "        frequency, power = LombScargle(lc.time.value, lc.flux.value).autopower()\n",
        "        period = 1 / frequency\n",
        "        plt.plot(period, power)\n",
        "        plt.xscale('log')\n",
        "        plt.xlabel('Període [dies]')\n",
        "        plt.ylabel('Potència')\n",
        "        plt.title('Lomb-Scargle Periodograma')\n",
        "        plt.show()\n",
        "\n",
        "        # Identificació dels períodes més prominents\n",
        "        peak_indices = np.argsort(power)[-100:]  # Els 100 períodes amb més potència\n",
        "        peak_periods = period[peak_indices]\n",
        "        peak_powers = power[peak_indices]\n",
        "\n",
        "        sorted_peaks = sorted(zip(peak_periods, peak_powers), key=lambda x: x[0])\n",
        "\n",
        "        display(Markdown(f\"**Els períodes més prominents (dies) són:**\"))\n",
        "        for p, pow in sorted_peaks:\n",
        "            display(Markdown(f\"- Període: {p:.4f} dies, Potència: {pow:.4e}\"))\n",
        "\n",
        "    except Exception as e:\n",
        "        display(Markdown(f\"**Ha ocorregut un error: {e}**\"))\n",
        "\n",
        "# Interfície gràfica per introduir el nom de l'exoplaneta\n",
        "exoplanet_name_textbox = widgets.Text(\n",
        "    value='',\n",
        "    placeholder='Introdueix el nom de l\\'estrella',\n",
        "    description='Estrella:',\n",
        "    disabled=False\n",
        ")\n",
        "\n",
        "def on_button_clicked(b):\n",
        "    exoplanet_name = exoplanet_name_textbox.value\n",
        "    download_and_analyze_lightcurve(exoplanet_name)\n",
        "\n",
        "button = widgets.Button(description=\"Obtenir corba de llum\")\n",
        "button.on_click(on_button_clicked)\n",
        "\n",
        "display(exoplanet_name_textbox, button)"
      ],
      "metadata": {
        "colab": {
          "base_uri": "https://localhost:8080/",
          "height": 1000,
          "referenced_widgets": [
            "14e59d41599d409dbddcca5cb07046b5",
            "e5a7e19e015745d68d762fadfd4a3a4a",
            "9a1685b8834c4dc59983f7751c8581b4",
            "4ee74732ab354c11bf045b2975f804eb",
            "7f5d98a1691d48c49b5e54c70ba03600",
            "45455c250c0544cf8b704b316f581e58"
          ]
        },
        "id": "QaNFtDsN-Evw",
        "outputId": "4ce72b1b-2398-4b3e-f209-e182767263ba"
      },
      "execution_count": 2,
      "outputs": [
        {
          "output_type": "stream",
          "name": "stdout",
          "text": [
            "Collecting lightkurve\n",
            "  Downloading lightkurve-2.4.2-py3-none-any.whl (265 kB)\n",
            "\u001b[2K     \u001b[90m━━━━━━━━━━━━━━━━━━━━━━━━━━━━━━━━━━━━━━━━\u001b[0m \u001b[32m265.9/265.9 kB\u001b[0m \u001b[31m2.7 MB/s\u001b[0m eta \u001b[36m0:00:00\u001b[0m\n",
            "\u001b[?25hRequirement already satisfied: astropy>=5.0 in /usr/local/lib/python3.10/dist-packages (from lightkurve) (5.3.4)\n",
            "Collecting astroquery>=0.3.10 (from lightkurve)\n",
            "  Downloading astroquery-0.4.7-py3-none-any.whl (5.3 MB)\n",
            "\u001b[2K     \u001b[90m━━━━━━━━━━━━━━━━━━━━━━━━━━━━━━━━━━━━━━━━\u001b[0m \u001b[32m5.3/5.3 MB\u001b[0m \u001b[31m11.9 MB/s\u001b[0m eta \u001b[36m0:00:00\u001b[0m\n",
            "\u001b[?25hRequirement already satisfied: beautifulsoup4>=4.6.0 in /usr/local/lib/python3.10/dist-packages (from lightkurve) (4.12.3)\n",
            "Requirement already satisfied: bokeh>=2.0.0 in /usr/local/lib/python3.10/dist-packages (from lightkurve) (3.3.4)\n",
            "Collecting fbpca>=1.0 (from lightkurve)\n",
            "  Downloading fbpca-1.0.tar.gz (11 kB)\n",
            "  Preparing metadata (setup.py) ... \u001b[?25l\u001b[?25hdone\n",
            "Requirement already satisfied: matplotlib>=3.1 in /usr/local/lib/python3.10/dist-packages (from lightkurve) (3.7.1)\n",
            "Collecting memoization>=0.3.1 (from lightkurve)\n",
            "  Downloading memoization-0.4.0.tar.gz (41 kB)\n",
            "\u001b[2K     \u001b[90m━━━━━━━━━━━━━━━━━━━━━━━━━━━━━━━━━━━━━━━━\u001b[0m \u001b[32m41.2/41.2 kB\u001b[0m \u001b[31m1.2 MB/s\u001b[0m eta \u001b[36m0:00:00\u001b[0m\n",
            "\u001b[?25h  Preparing metadata (setup.py) ... \u001b[?25l\u001b[?25hdone\n",
            "Requirement already satisfied: numpy>=1.18 in /usr/local/lib/python3.10/dist-packages (from lightkurve) (1.25.2)\n",
            "Collecting oktopus>=0.1.2 (from lightkurve)\n",
            "  Downloading oktopus-0.1.2.tar.gz (10 kB)\n",
            "  Preparing metadata (setup.py) ... \u001b[?25l\u001b[?25hdone\n",
            "Requirement already satisfied: pandas>=1.1.4 in /usr/local/lib/python3.10/dist-packages (from lightkurve) (2.0.3)\n",
            "Requirement already satisfied: patsy>=0.5.0 in /usr/local/lib/python3.10/dist-packages (from lightkurve) (0.5.6)\n",
            "Requirement already satisfied: requests>=2.22.0 in /usr/local/lib/python3.10/dist-packages (from lightkurve) (2.31.0)\n",
            "Requirement already satisfied: scikit-learn>=0.24.0 in /usr/local/lib/python3.10/dist-packages (from lightkurve) (1.2.2)\n",
            "Requirement already satisfied: scipy>=1.7 in /usr/local/lib/python3.10/dist-packages (from lightkurve) (1.11.4)\n",
            "Requirement already satisfied: tqdm>=4.25.0 in /usr/local/lib/python3.10/dist-packages (from lightkurve) (4.66.4)\n",
            "Collecting uncertainties>=3.1.4 (from lightkurve)\n",
            "  Downloading uncertainties-3.2.0-py3-none-any.whl (58 kB)\n",
            "\u001b[2K     \u001b[90m━━━━━━━━━━━━━━━━━━━━━━━━━━━━━━━━━━━━━━━━\u001b[0m \u001b[32m58.2/58.2 kB\u001b[0m \u001b[31m6.2 MB/s\u001b[0m eta \u001b[36m0:00:00\u001b[0m\n",
            "\u001b[?25hRequirement already satisfied: urllib3>=1.23 in /usr/local/lib/python3.10/dist-packages (from lightkurve) (2.0.7)\n",
            "Requirement already satisfied: pyerfa>=2.0 in /usr/local/lib/python3.10/dist-packages (from astropy>=5.0->lightkurve) (2.0.1.4)\n",
            "Requirement already satisfied: PyYAML>=3.13 in /usr/local/lib/python3.10/dist-packages (from astropy>=5.0->lightkurve) (6.0.1)\n",
            "Requirement already satisfied: packaging>=19.0 in /usr/local/lib/python3.10/dist-packages (from astropy>=5.0->lightkurve) (24.0)\n",
            "Requirement already satisfied: html5lib>=0.999 in /usr/local/lib/python3.10/dist-packages (from astroquery>=0.3.10->lightkurve) (1.1)\n",
            "Requirement already satisfied: keyring>=15.0 in /usr/lib/python3/dist-packages (from astroquery>=0.3.10->lightkurve) (23.5.0)\n",
            "Collecting pyvo>=1.1 (from astroquery>=0.3.10->lightkurve)\n",
            "  Downloading pyvo-1.5.2-py3-none-any.whl (910 kB)\n",
            "\u001b[2K     \u001b[90m━━━━━━━━━━━━━━━━━━━━━━━━━━━━━━━━━━━━━━━━\u001b[0m \u001b[32m910.8/910.8 kB\u001b[0m \u001b[31m14.0 MB/s\u001b[0m eta \u001b[36m0:00:00\u001b[0m\n",
            "\u001b[?25hRequirement already satisfied: soupsieve>1.2 in /usr/local/lib/python3.10/dist-packages (from beautifulsoup4>=4.6.0->lightkurve) (2.5)\n",
            "Requirement already satisfied: Jinja2>=2.9 in /usr/local/lib/python3.10/dist-packages (from bokeh>=2.0.0->lightkurve) (3.1.4)\n",
            "Requirement already satisfied: contourpy>=1 in /usr/local/lib/python3.10/dist-packages (from bokeh>=2.0.0->lightkurve) (1.2.1)\n",
            "Requirement already satisfied: pillow>=7.1.0 in /usr/local/lib/python3.10/dist-packages (from bokeh>=2.0.0->lightkurve) (9.4.0)\n",
            "Requirement already satisfied: tornado>=5.1 in /usr/local/lib/python3.10/dist-packages (from bokeh>=2.0.0->lightkurve) (6.3.3)\n",
            "Requirement already satisfied: xyzservices>=2021.09.1 in /usr/local/lib/python3.10/dist-packages (from bokeh>=2.0.0->lightkurve) (2024.4.0)\n",
            "Requirement already satisfied: cycler>=0.10 in /usr/local/lib/python3.10/dist-packages (from matplotlib>=3.1->lightkurve) (0.12.1)\n",
            "Requirement already satisfied: fonttools>=4.22.0 in /usr/local/lib/python3.10/dist-packages (from matplotlib>=3.1->lightkurve) (4.52.4)\n",
            "Requirement already satisfied: kiwisolver>=1.0.1 in /usr/local/lib/python3.10/dist-packages (from matplotlib>=3.1->lightkurve) (1.4.5)\n",
            "Requirement already satisfied: pyparsing>=2.3.1 in /usr/local/lib/python3.10/dist-packages (from matplotlib>=3.1->lightkurve) (3.1.2)\n",
            "Requirement already satisfied: python-dateutil>=2.7 in /usr/local/lib/python3.10/dist-packages (from matplotlib>=3.1->lightkurve) (2.8.2)\n",
            "Requirement already satisfied: autograd in /usr/local/lib/python3.10/dist-packages (from oktopus>=0.1.2->lightkurve) (1.6.2)\n",
            "Requirement already satisfied: pytz>=2020.1 in /usr/local/lib/python3.10/dist-packages (from pandas>=1.1.4->lightkurve) (2023.4)\n",
            "Requirement already satisfied: tzdata>=2022.1 in /usr/local/lib/python3.10/dist-packages (from pandas>=1.1.4->lightkurve) (2024.1)\n",
            "Requirement already satisfied: six in /usr/local/lib/python3.10/dist-packages (from patsy>=0.5.0->lightkurve) (1.16.0)\n",
            "Requirement already satisfied: charset-normalizer<4,>=2 in /usr/local/lib/python3.10/dist-packages (from requests>=2.22.0->lightkurve) (3.3.2)\n",
            "Requirement already satisfied: idna<4,>=2.5 in /usr/local/lib/python3.10/dist-packages (from requests>=2.22.0->lightkurve) (3.7)\n",
            "Requirement already satisfied: certifi>=2017.4.17 in /usr/local/lib/python3.10/dist-packages (from requests>=2.22.0->lightkurve) (2024.2.2)\n",
            "Requirement already satisfied: joblib>=1.1.1 in /usr/local/lib/python3.10/dist-packages (from scikit-learn>=0.24.0->lightkurve) (1.4.2)\n",
            "Requirement already satisfied: threadpoolctl>=2.0.0 in /usr/local/lib/python3.10/dist-packages (from scikit-learn>=0.24.0->lightkurve) (3.5.0)\n",
            "Requirement already satisfied: webencodings in /usr/local/lib/python3.10/dist-packages (from html5lib>=0.999->astroquery>=0.3.10->lightkurve) (0.5.1)\n",
            "Requirement already satisfied: MarkupSafe>=2.0 in /usr/local/lib/python3.10/dist-packages (from Jinja2>=2.9->bokeh>=2.0.0->lightkurve) (2.1.5)\n",
            "Requirement already satisfied: future>=0.15.2 in /usr/local/lib/python3.10/dist-packages (from autograd->oktopus>=0.1.2->lightkurve) (0.18.3)\n",
            "Building wheels for collected packages: fbpca, memoization, oktopus\n",
            "  Building wheel for fbpca (setup.py) ... \u001b[?25l\u001b[?25hdone\n",
            "  Created wheel for fbpca: filename=fbpca-1.0-py3-none-any.whl size=11373 sha256=9a43a1bfacfb375de4c741a07944ea97e5c8dbcfaccb32bd3be24174c5fd1218\n",
            "  Stored in directory: /root/.cache/pip/wheels/3c/ea/60/8d1c9fbbc99492a1775b36a5e29c8c1ef309cc5821bd5a219d\n",
            "  Building wheel for memoization (setup.py) ... \u001b[?25l\u001b[?25hdone\n",
            "  Created wheel for memoization: filename=memoization-0.4.0-py3-none-any.whl size=50451 sha256=44a2de1a8f1ef319530de9eb49d7469543f07b42857716751d42722453a44590\n",
            "  Stored in directory: /root/.cache/pip/wheels/3e/b8/c5/b553d5e8b0249bd2859b3b6d7bb2a1849e7b01c6e8b64f6e87\n",
            "  Building wheel for oktopus (setup.py) ... \u001b[?25l\u001b[?25hdone\n",
            "  Created wheel for oktopus: filename=oktopus-0.1.2-py3-none-any.whl size=12763 sha256=59b19c50735a88a5904cb88e1bdee4fb32a222281f95dbf8210bed4875307966\n",
            "  Stored in directory: /root/.cache/pip/wheels/b6/55/53/8d7c151deab7a11f182e5a69feb906cab95123da7a2438ed9d\n",
            "Successfully built fbpca memoization oktopus\n",
            "Installing collected packages: fbpca, uncertainties, memoization, oktopus, pyvo, astroquery, lightkurve\n",
            "Successfully installed astroquery-0.4.7 fbpca-1.0 lightkurve-2.4.2 memoization-0.4.0 oktopus-0.1.2 pyvo-1.5.2 uncertainties-3.2.0\n"
          ]
        },
        {
          "output_type": "display_data",
          "data": {
            "text/plain": [
              "Text(value='', description='Estrella:', placeholder=\"Introdueix el nom de l'estrella\")"
            ],
            "application/vnd.jupyter.widget-view+json": {
              "version_major": 2,
              "version_minor": 0,
              "model_id": "14e59d41599d409dbddcca5cb07046b5"
            }
          },
          "metadata": {}
        },
        {
          "output_type": "display_data",
          "data": {
            "text/plain": [
              "Button(description='Obtenir corba de llum', style=ButtonStyle())"
            ],
            "application/vnd.jupyter.widget-view+json": {
              "version_major": 2,
              "version_minor": 0,
              "model_id": "4ee74732ab354c11bf045b2975f804eb"
            }
          },
          "metadata": {}
        },
        {
          "output_type": "stream",
          "name": "stderr",
          "text": [
            "Could not resolve Trappist 1 to a sky position.\n",
            "ERROR:lightkurve.search:Could not resolve Trappist 1 to a sky position.\n",
            "Could not resolve Trappist 1 to a sky position.\n",
            "ERROR:lightkurve.search:Could not resolve Trappist 1 to a sky position.\n",
            "Could not resolve Trappist 1 to a sky position.\n",
            "ERROR:lightkurve.search:Could not resolve Trappist 1 to a sky position.\n"
          ]
        },
        {
          "output_type": "display_data",
          "data": {
            "text/plain": [
              "<IPython.core.display.Markdown object>"
            ],
            "text/markdown": "**No s'han trobat dades per a l'exoplaneta especificat.**"
          },
          "metadata": {}
        },
        {
          "output_type": "stream",
          "name": "stderr",
          "text": [
            "No data found for target \"Trappist 1b\".\n",
            "ERROR:lightkurve.search:No data found for target \"Trappist 1b\".\n",
            "Warning: 32% (7024/22200) of the cadences will be ignored due to the quality mask (quality_bitmask=1130799).\n",
            "WARNING:lightkurve.utils:Warning: 32% (7024/22200) of the cadences will be ignored due to the quality mask (quality_bitmask=1130799).\n",
            "Warning: 35% (258/740) of the cadences will be ignored due to the quality mask (quality_bitmask=1130799).\n",
            "WARNING:lightkurve.utils:Warning: 35% (258/740) of the cadences will be ignored due to the quality mask (quality_bitmask=1130799).\n",
            "/usr/local/lib/python3.10/dist-packages/lightkurve/lightcurve.py:1131: LightkurveWarning: The light curve appears to be zero-centered (median=5.75e+05 electron / s +/- 1.17e+06 electron / s); `normalize()` will divide the light curve by a value close to zero, which is probably not what you want.\n",
            "  warnings.warn(\n"
          ]
        },
        {
          "output_type": "display_data",
          "data": {
            "text/plain": [
              "<Figure size 848.5x400 with 1 Axes>"
            ],
            "image/png": "[encoded data removed]"
          },
          "metadata": {}
        },
        {
          "output_type": "display_data",
          "data": {
            "text/plain": [
              "<IPython.core.display.Markdown object>"
            ],
            "text/markdown": "**Estadístiques bàsiques de la corba de llum:**"
          },
          "metadata": {}
        },
        {
          "output_type": "display_data",
          "data": {
            "text/plain": [
              "<IPython.core.display.Markdown object>"
            ],
            "text/markdown": "- Nombre de punts de dades: 129076"
          },
          "metadata": {}
        },
        {
          "output_type": "display_data",
          "data": {
            "text/plain": [
              "<IPython.core.display.Markdown object>"
            ],
            "text/markdown": "- Flux mitjà: 9.8719e-01"
          },
          "metadata": {}
        },
        {
          "output_type": "display_data",
          "data": {
            "text/plain": [
              "<IPython.core.display.Markdown object>"
            ],
            "text/markdown": "- Desviació estàndard del flux: 2.8091e-01"
          },
          "metadata": {}
        },
        {
          "output_type": "display_data",
          "data": {
            "text/plain": [
              "<Figure size 640x480 with 1 Axes>"
            ],
            "image/png": "[encoded data removed]"
          },
          "metadata": {}
        },
        {
          "output_type": "display_data",
          "data": {
            "text/plain": [
              "<IPython.core.display.Markdown object>"
            ],
            "text/markdown": "**Els períodes més prominents (dies) són:**"
          },
          "metadata": {}
        },
        {
          "output_type": "display_data",
          "data": {
            "text/plain": [
              "<IPython.core.display.Markdown object>"
            ],
            "text/markdown": "- Període: 14.5812 dies, Potència: 3.4859e-02"
          },
          "metadata": {}
        },
        {
          "output_type": "display_data",
          "data": {
            "text/plain": [
              "<IPython.core.display.Markdown object>"
            ],
            "text/markdown": "- Període: 14.9179 dies, Potència: 3.6612e-02"
          },
          "metadata": {}
        },
        {
          "output_type": "display_data",
          "data": {
            "text/plain": [
              "<IPython.core.display.Markdown object>"
            ],
            "text/markdown": "- Període: 14.9872 dies, Potència: 3.6179e-02"
          },
          "metadata": {}
        },
        {
          "output_type": "display_data",
          "data": {
            "text/plain": [
              "<IPython.core.display.Markdown object>"
            ],
            "text/markdown": "- Període: 15.2706 dies, Potència: 3.8104e-02"
          },
          "metadata": {}
        },
        {
          "output_type": "display_data",
          "data": {
            "text/plain": [
              "<IPython.core.display.Markdown object>"
            ],
            "text/markdown": "- Període: 15.3432 dies, Potència: 3.9388e-02"
          },
          "metadata": {}
        },
        {
          "output_type": "display_data",
          "data": {
            "text/plain": [
              "<IPython.core.display.Markdown object>"
            ],
            "text/markdown": "- Període: 15.6404 dies, Potència: 4.0291e-02"
          },
          "metadata": {}
        },
        {
          "output_type": "display_data",
          "data": {
            "text/plain": [
              "<IPython.core.display.Markdown object>"
            ],
            "text/markdown": "- Període: 15.7165 dies, Potència: 4.1461e-02"
          },
          "metadata": {}
        },
        {
          "output_type": "display_data",
          "data": {
            "text/plain": [
              "<IPython.core.display.Markdown object>"
            ],
            "text/markdown": "- Període: 15.7933 dies, Potència: 3.4938e-02"
          },
          "metadata": {}
        },
        {
          "output_type": "display_data",
          "data": {
            "text/plain": [
              "<IPython.core.display.Markdown object>"
            ],
            "text/markdown": "- Període: 16.0285 dies, Potència: 4.1212e-02"
          },
          "metadata": {}
        },
        {
          "output_type": "display_data",
          "data": {
            "text/plain": [
              "<IPython.core.display.Markdown object>"
            ],
            "text/markdown": "- Període: 16.1084 dies, Potència: 4.4130e-02"
          },
          "metadata": {}
        },
        {
          "output_type": "display_data",
          "data": {
            "text/plain": [
              "<IPython.core.display.Markdown object>"
            ],
            "text/markdown": "- Període: 16.1891 dies, Potència: 3.8039e-02"
          },
          "metadata": {}
        },
        {
          "output_type": "display_data",
          "data": {
            "text/plain": [
              "<IPython.core.display.Markdown object>"
            ],
            "text/markdown": "- Període: 16.4363 dies, Potència: 3.9013e-02"
          },
          "metadata": {}
        },
        {
          "output_type": "display_data",
          "data": {
            "text/plain": [
              "<IPython.core.display.Markdown object>"
            ],
            "text/markdown": "- Període: 16.5204 dies, Potència: 4.6778e-02"
          },
          "metadata": {}
        },
        {
          "output_type": "display_data",
          "data": {
            "text/plain": [
              "<IPython.core.display.Markdown object>"
            ],
            "text/markdown": "- Període: 16.6053 dies, Potència: 4.0862e-02"
          },
          "metadata": {}
        },
        {
          "output_type": "display_data",
          "data": {
            "text/plain": [
              "<IPython.core.display.Markdown object>"
            ],
            "text/markdown": "- Període: 16.8655 dies, Potència: 3.5408e-02"
          },
          "metadata": {}
        },
        {
          "output_type": "display_data",
          "data": {
            "text/plain": [
              "<IPython.core.display.Markdown object>"
            ],
            "text/markdown": "- Període: 16.9540 dies, Potència: 4.7038e-02"
          },
          "metadata": {}
        },
        {
          "output_type": "display_data",
          "data": {
            "text/plain": [
              "<IPython.core.display.Markdown object>"
            ],
            "text/markdown": "- Període: 17.0435 dies, Potència: 4.3830e-02"
          },
          "metadata": {}
        },
        {
          "output_type": "display_data",
          "data": {
            "text/plain": [
              "<IPython.core.display.Markdown object>"
            ],
            "text/markdown": "- Període: 17.1339 dies, Potència: 3.6712e-02"
          },
          "metadata": {}
        },
        {
          "output_type": "display_data",
          "data": {
            "text/plain": [
              "<IPython.core.display.Markdown object>"
            ],
            "text/markdown": "- Període: 17.4110 dies, Potència: 4.4943e-02"
          },
          "metadata": {}
        },
        {
          "output_type": "display_data",
          "data": {
            "text/plain": [
              "<IPython.core.display.Markdown object>"
            ],
            "text/markdown": "- Període: 17.5053 dies, Potència: 4.5674e-02"
          },
          "metadata": {}
        },
        {
          "output_type": "display_data",
          "data": {
            "text/plain": [
              "<IPython.core.display.Markdown object>"
            ],
            "text/markdown": "- Període: 17.6007 dies, Potència: 3.9283e-02"
          },
          "metadata": {}
        },
        {
          "output_type": "display_data",
          "data": {
            "text/plain": [
              "<IPython.core.display.Markdown object>"
            ],
            "text/markdown": "- Període: 17.8933 dies, Potència: 4.2245e-02"
          },
          "metadata": {}
        },
        {
          "output_type": "display_data",
          "data": {
            "text/plain": [
              "<IPython.core.display.Markdown object>"
            ],
            "text/markdown": "- Període: 17.9930 dies, Potència: 4.6189e-02"
          },
          "metadata": {}
        },
        {
          "output_type": "display_data",
          "data": {
            "text/plain": [
              "<IPython.core.display.Markdown object>"
            ],
            "text/markdown": "- Període: 18.0938 dies, Potència: 4.0875e-02"
          },
          "metadata": {}
        },
        {
          "output_type": "display_data",
          "data": {
            "text/plain": [
              "<IPython.core.display.Markdown object>"
            ],
            "text/markdown": "- Període: 18.1957 dies, Potència: 3.7304e-02"
          },
          "metadata": {}
        },
        {
          "output_type": "display_data",
          "data": {
            "text/plain": [
              "<IPython.core.display.Markdown object>"
            ],
            "text/markdown": "- Període: 18.4031 dies, Potència: 3.9400e-02"
          },
          "metadata": {}
        },
        {
          "output_type": "display_data",
          "data": {
            "text/plain": [
              "<IPython.core.display.Markdown object>"
            ],
            "text/markdown": "- Període: 18.5085 dies, Potència: 4.6089e-02"
          },
          "metadata": {}
        },
        {
          "output_type": "display_data",
          "data": {
            "text/plain": [
              "<IPython.core.display.Markdown object>"
            ],
            "text/markdown": "- Període: 18.6152 dies, Potència: 4.2016e-02"
          },
          "metadata": {}
        },
        {
          "output_type": "display_data",
          "data": {
            "text/plain": [
              "<IPython.core.display.Markdown object>"
            ],
            "text/markdown": "- Període: 18.7231 dies, Potència: 3.8652e-02"
          },
          "metadata": {}
        },
        {
          "output_type": "display_data",
          "data": {
            "text/plain": [
              "<IPython.core.display.Markdown object>"
            ],
            "text/markdown": "- Període: 18.8323 dies, Potència: 3.5635e-02"
          },
          "metadata": {}
        },
        {
          "output_type": "display_data",
          "data": {
            "text/plain": [
              "<IPython.core.display.Markdown object>"
            ],
            "text/markdown": "- Període: 18.9427 dies, Potència: 3.6996e-02"
          },
          "metadata": {}
        },
        {
          "output_type": "display_data",
          "data": {
            "text/plain": [
              "<IPython.core.display.Markdown object>"
            ],
            "text/markdown": "- Període: 19.0545 dies, Potència: 4.4426e-02"
          },
          "metadata": {}
        },
        {
          "output_type": "display_data",
          "data": {
            "text/plain": [
              "<IPython.core.display.Markdown object>"
            ],
            "text/markdown": "- Període: 19.1676 dies, Potència: 4.4170e-02"
          },
          "metadata": {}
        },
        {
          "output_type": "display_data",
          "data": {
            "text/plain": [
              "<IPython.core.display.Markdown object>"
            ],
            "text/markdown": "- Període: 19.2820 dies, Potència: 3.8849e-02"
          },
          "metadata": {}
        },
        {
          "output_type": "display_data",
          "data": {
            "text/plain": [
              "<IPython.core.display.Markdown object>"
            ],
            "text/markdown": "- Període: 19.3978 dies, Potència: 3.7338e-02"
          },
          "metadata": {}
        },
        {
          "output_type": "display_data",
          "data": {
            "text/plain": [
              "<IPython.core.display.Markdown object>"
            ],
            "text/markdown": "- Període: 19.5150 dies, Potència: 3.6867e-02"
          },
          "metadata": {}
        },
        {
          "output_type": "display_data",
          "data": {
            "text/plain": [
              "<IPython.core.display.Markdown object>"
            ],
            "text/markdown": "- Període: 19.6336 dies, Potència: 4.0659e-02"
          },
          "metadata": {}
        },
        {
          "output_type": "display_data",
          "data": {
            "text/plain": [
              "<IPython.core.display.Markdown object>"
            ],
            "text/markdown": "- Període: 19.7537 dies, Potència: 4.6034e-02"
          },
          "metadata": {}
        },
        {
          "output_type": "display_data",
          "data": {
            "text/plain": [
              "<IPython.core.display.Markdown object>"
            ],
            "text/markdown": "- Període: 19.8753 dies, Potència: 4.0890e-02"
          },
          "metadata": {}
        },
        {
          "output_type": "display_data",
          "data": {
            "text/plain": [
              "<IPython.core.display.Markdown object>"
            ],
            "text/markdown": "- Període: 19.9984 dies, Potència: 3.6880e-02"
          },
          "metadata": {}
        },
        {
          "output_type": "display_data",
          "data": {
            "text/plain": [
              "<IPython.core.display.Markdown object>"
            ],
            "text/markdown": "- Període: 20.1230 dies, Potència: 3.8466e-02"
          },
          "metadata": {}
        },
        {
          "output_type": "display_data",
          "data": {
            "text/plain": [
              "<IPython.core.display.Markdown object>"
            ],
            "text/markdown": "- Període: 20.2491 dies, Potència: 3.7494e-02"
          },
          "metadata": {}
        },
        {
          "output_type": "display_data",
          "data": {
            "text/plain": [
              "<IPython.core.display.Markdown object>"
            ],
            "text/markdown": "- Període: 20.3769 dies, Potència: 4.4512e-02"
          },
          "metadata": {}
        },
        {
          "output_type": "display_data",
          "data": {
            "text/plain": [
              "<IPython.core.display.Markdown object>"
            ],
            "text/markdown": "- Període: 20.5063 dies, Potència: 4.5481e-02"
          },
          "metadata": {}
        },
        {
          "output_type": "display_data",
          "data": {
            "text/plain": [
              "<IPython.core.display.Markdown object>"
            ],
            "text/markdown": "- Període: 20.6373 dies, Potència: 3.6791e-02"
          },
          "metadata": {}
        },
        {
          "output_type": "display_data",
          "data": {
            "text/plain": [
              "<IPython.core.display.Markdown object>"
            ],
            "text/markdown": "- Període: 20.7700 dies, Potència: 3.8456e-02"
          },
          "metadata": {}
        },
        {
          "output_type": "display_data",
          "data": {
            "text/plain": [
              "<IPython.core.display.Markdown object>"
            ],
            "text/markdown": "- Període: 20.9044 dies, Potència: 3.7123e-02"
          },
          "metadata": {}
        },
        {
          "output_type": "display_data",
          "data": {
            "text/plain": [
              "<IPython.core.display.Markdown object>"
            ],
            "text/markdown": "- Període: 21.0406 dies, Potència: 4.0069e-02"
          },
          "metadata": {}
        },
        {
          "output_type": "display_data",
          "data": {
            "text/plain": [
              "<IPython.core.display.Markdown object>"
            ],
            "text/markdown": "- Període: 21.1786 dies, Potència: 4.8441e-02"
          },
          "metadata": {}
        },
        {
          "output_type": "display_data",
          "data": {
            "text/plain": [
              "<IPython.core.display.Markdown object>"
            ],
            "text/markdown": "- Període: 21.3184 dies, Potència: 4.0565e-02"
          },
          "metadata": {}
        },
        {
          "output_type": "display_data",
          "data": {
            "text/plain": [
              "<IPython.core.display.Markdown object>"
            ],
            "text/markdown": "- Període: 21.4600 dies, Potència: 3.6706e-02"
          },
          "metadata": {}
        },
        {
          "output_type": "display_data",
          "data": {
            "text/plain": [
              "<IPython.core.display.Markdown object>"
            ],
            "text/markdown": "- Període: 21.6036 dies, Potència: 3.7184e-02"
          },
          "metadata": {}
        },
        {
          "output_type": "display_data",
          "data": {
            "text/plain": [
              "<IPython.core.display.Markdown object>"
            ],
            "text/markdown": "- Període: 21.7491 dies, Potència: 3.6420e-02"
          },
          "metadata": {}
        },
        {
          "output_type": "display_data",
          "data": {
            "text/plain": [
              "<IPython.core.display.Markdown object>"
            ],
            "text/markdown": "- Període: 21.8965 dies, Potència: 4.6577e-02"
          },
          "metadata": {}
        },
        {
          "output_type": "display_data",
          "data": {
            "text/plain": [
              "<IPython.core.display.Markdown object>"
            ],
            "text/markdown": "- Període: 22.0460 dies, Potència: 4.6216e-02"
          },
          "metadata": {}
        },
        {
          "output_type": "display_data",
          "data": {
            "text/plain": [
              "<IPython.core.display.Markdown object>"
            ],
            "text/markdown": "- Període: 22.1975 dies, Potència: 3.7631e-02"
          },
          "metadata": {}
        },
        {
          "output_type": "display_data",
          "data": {
            "text/plain": [
              "<IPython.core.display.Markdown object>"
            ],
            "text/markdown": "- Període: 22.3511 dies, Potència: 3.5346e-02"
          },
          "metadata": {}
        },
        {
          "output_type": "display_data",
          "data": {
            "text/plain": [
              "<IPython.core.display.Markdown object>"
            ],
            "text/markdown": "- Període: 22.6648 dies, Potència: 4.2044e-02"
          },
          "metadata": {}
        },
        {
          "output_type": "display_data",
          "data": {
            "text/plain": [
              "<IPython.core.display.Markdown object>"
            ],
            "text/markdown": "- Període: 22.8250 dies, Potència: 4.8771e-02"
          },
          "metadata": {}
        },
        {
          "output_type": "display_data",
          "data": {
            "text/plain": [
              "<IPython.core.display.Markdown object>"
            ],
            "text/markdown": "- Període: 22.9874 dies, Potència: 4.2814e-02"
          },
          "metadata": {}
        },
        {
          "output_type": "display_data",
          "data": {
            "text/plain": [
              "<IPython.core.display.Markdown object>"
            ],
            "text/markdown": "- Període: 23.4890 dies, Potència: 3.7786e-02"
          },
          "metadata": {}
        },
        {
          "output_type": "display_data",
          "data": {
            "text/plain": [
              "<IPython.core.display.Markdown object>"
            ],
            "text/markdown": "- Període: 23.6611 dies, Potència: 4.7060e-02"
          },
          "metadata": {}
        },
        {
          "output_type": "display_data",
          "data": {
            "text/plain": [
              "<IPython.core.display.Markdown object>"
            ],
            "text/markdown": "- Període: 23.8357 dies, Potència: 4.8372e-02"
          },
          "metadata": {}
        },
        {
          "output_type": "display_data",
          "data": {
            "text/plain": [
              "<IPython.core.display.Markdown object>"
            ],
            "text/markdown": "- Període: 24.0129 dies, Potència: 3.7361e-02"
          },
          "metadata": {}
        },
        {
          "output_type": "display_data",
          "data": {
            "text/plain": [
              "<IPython.core.display.Markdown object>"
            ],
            "text/markdown": "- Període: 24.5607 dies, Potència: 4.3043e-02"
          },
          "metadata": {}
        },
        {
          "output_type": "display_data",
          "data": {
            "text/plain": [
              "<IPython.core.display.Markdown object>"
            ],
            "text/markdown": "- Període: 24.7489 dies, Potència: 5.1031e-02"
          },
          "metadata": {}
        },
        {
          "output_type": "display_data",
          "data": {
            "text/plain": [
              "<IPython.core.display.Markdown object>"
            ],
            "text/markdown": "- Període: 24.9400 dies, Potència: 4.2876e-02"
          },
          "metadata": {}
        },
        {
          "output_type": "display_data",
          "data": {
            "text/plain": [
              "<IPython.core.display.Markdown object>"
            ],
            "text/markdown": "- Període: 25.5315 dies, Potència: 3.7365e-02"
          },
          "metadata": {}
        },
        {
          "output_type": "display_data",
          "data": {
            "text/plain": [
              "<IPython.core.display.Markdown object>"
            ],
            "text/markdown": "- Període: 25.7349 dies, Potència: 5.0609e-02"
          },
          "metadata": {}
        },
        {
          "output_type": "display_data",
          "data": {
            "text/plain": [
              "<IPython.core.display.Markdown object>"
            ],
            "text/markdown": "- Període: 25.9416 dies, Potència: 4.8186e-02"
          },
          "metadata": {}
        },
        {
          "output_type": "display_data",
          "data": {
            "text/plain": [
              "<IPython.core.display.Markdown object>"
            ],
            "text/markdown": "- Període: 26.8028 dies, Potència: 4.6391e-02"
          },
          "metadata": {}
        },
        {
          "output_type": "display_data",
          "data": {
            "text/plain": [
              "<IPython.core.display.Markdown object>"
            ],
            "text/markdown": "- Període: 27.0271 dies, Potència: 5.2527e-02"
          },
          "metadata": {}
        },
        {
          "output_type": "display_data",
          "data": {
            "text/plain": [
              "<IPython.core.display.Markdown object>"
            ],
            "text/markdown": "- Període: 27.2552 dies, Potència: 3.6610e-02"
          },
          "metadata": {}
        },
        {
          "output_type": "display_data",
          "data": {
            "text/plain": [
              "<IPython.core.display.Markdown object>"
            ],
            "text/markdown": "- Període: 27.9631 dies, Potència: 3.7978e-02"
          },
          "metadata": {}
        },
        {
          "output_type": "display_data",
          "data": {
            "text/plain": [
              "<IPython.core.display.Markdown object>"
            ],
            "text/markdown": "- Període: 28.2073 dies, Potència: 5.3346e-02"
          },
          "metadata": {}
        },
        {
          "output_type": "display_data",
          "data": {
            "text/plain": [
              "<IPython.core.display.Markdown object>"
            ],
            "text/markdown": "- Període: 28.4558 dies, Potència: 4.1846e-02"
          },
          "metadata": {}
        },
        {
          "output_type": "display_data",
          "data": {
            "text/plain": [
              "<IPython.core.display.Markdown object>"
            ],
            "text/markdown": "- Període: 29.4953 dies, Potència: 4.6728e-02"
          },
          "metadata": {}
        },
        {
          "output_type": "display_data",
          "data": {
            "text/plain": [
              "<IPython.core.display.Markdown object>"
            ],
            "text/markdown": "- Període: 29.7671 dies, Potència: 4.6826e-02"
          },
          "metadata": {}
        },
        {
          "output_type": "display_data",
          "data": {
            "text/plain": [
              "<IPython.core.display.Markdown object>"
            ],
            "text/markdown": "- Període: 30.9066 dies, Potència: 3.5702e-02"
          },
          "metadata": {}
        },
        {
          "output_type": "display_data",
          "data": {
            "text/plain": [
              "<IPython.core.display.Markdown object>"
            ],
            "text/markdown": "- Període: 31.2052 dies, Potència: 4.5720e-02"
          },
          "metadata": {}
        },
        {
          "output_type": "display_data",
          "data": {
            "text/plain": [
              "<IPython.core.display.Markdown object>"
            ],
            "text/markdown": "- Període: 31.5096 dies, Potència: 3.8054e-02"
          },
          "metadata": {}
        },
        {
          "output_type": "display_data",
          "data": {
            "text/plain": [
              "<IPython.core.display.Markdown object>"
            ],
            "text/markdown": "- Període: 32.7892 dies, Potència: 3.6908e-02"
          },
          "metadata": {}
        },
        {
          "output_type": "display_data",
          "data": {
            "text/plain": [
              "<IPython.core.display.Markdown object>"
            ],
            "text/markdown": "- Període: 33.1255 dies, Potència: 4.1777e-02"
          },
          "metadata": {}
        },
        {
          "output_type": "display_data",
          "data": {
            "text/plain": [
              "<IPython.core.display.Markdown object>"
            ],
            "text/markdown": "- Període: 34.9161 dies, Potència: 3.8229e-02"
          },
          "metadata": {}
        },
        {
          "output_type": "display_data",
          "data": {
            "text/plain": [
              "<IPython.core.display.Markdown object>"
            ],
            "text/markdown": "- Període: 35.2977 dies, Potència: 3.5329e-02"
          },
          "metadata": {}
        },
        {
          "output_type": "display_data",
          "data": {
            "text/plain": [
              "<IPython.core.display.Markdown object>"
            ],
            "text/markdown": "- Període: 37.3380 dies, Potència: 3.5915e-02"
          },
          "metadata": {}
        },
        {
          "output_type": "display_data",
          "data": {
            "text/plain": [
              "<IPython.core.display.Markdown object>"
            ],
            "text/markdown": "- Període: 113.3240 dies, Potència: 3.5246e-02"
          },
          "metadata": {}
        },
        {
          "output_type": "display_data",
          "data": {
            "text/plain": [
              "<IPython.core.display.Markdown object>"
            ],
            "text/markdown": "- Període: 137.4355 dies, Potència: 5.0989e-02"
          },
          "metadata": {}
        },
        {
          "output_type": "display_data",
          "data": {
            "text/plain": [
              "<IPython.core.display.Markdown object>"
            ],
            "text/markdown": "- Període: 174.5803 dies, Potència: 5.2779e-02"
          },
          "metadata": {}
        },
        {
          "output_type": "display_data",
          "data": {
            "text/plain": [
              "<IPython.core.display.Markdown object>"
            ],
            "text/markdown": "- Període: 184.5563 dies, Potència: 6.5727e-02"
          },
          "metadata": {}
        },
        {
          "output_type": "display_data",
          "data": {
            "text/plain": [
              "<IPython.core.display.Markdown object>"
            ],
            "text/markdown": "- Període: 239.2397 dies, Potència: 4.7000e-02"
          },
          "metadata": {}
        },
        {
          "output_type": "display_data",
          "data": {
            "text/plain": [
              "<IPython.core.display.Markdown object>"
            ],
            "text/markdown": "- Període: 258.3788 dies, Potència: 6.6963e-02"
          },
          "metadata": {}
        },
        {
          "output_type": "display_data",
          "data": {
            "text/plain": [
              "<IPython.core.display.Markdown object>"
            ],
            "text/markdown": "- Període: 280.8465 dies, Potència: 6.2817e-02"
          },
          "metadata": {}
        },
        {
          "output_type": "display_data",
          "data": {
            "text/plain": [
              "<IPython.core.display.Markdown object>"
            ],
            "text/markdown": "- Període: 379.9689 dies, Potència: 4.2614e-02"
          },
          "metadata": {}
        },
        {
          "output_type": "display_data",
          "data": {
            "text/plain": [
              "<IPython.core.display.Markdown object>"
            ],
            "text/markdown": "- Període: 430.6314 dies, Potència: 5.3413e-02"
          },
          "metadata": {}
        },
        {
          "output_type": "display_data",
          "data": {
            "text/plain": [
              "<IPython.core.display.Markdown object>"
            ],
            "text/markdown": "- Període: 496.8824 dies, Potència: 6.9549e-02"
          },
          "metadata": {}
        },
        {
          "output_type": "display_data",
          "data": {
            "text/plain": [
              "<IPython.core.display.Markdown object>"
            ],
            "text/markdown": "- Període: 922.7815 dies, Potència: 4.2424e-02"
          },
          "metadata": {}
        },
        {
          "output_type": "display_data",
          "data": {
            "text/plain": [
              "<IPython.core.display.Markdown object>"
            ],
            "text/markdown": "- Període: 1291.8941 dies, Potència: 4.6726e-02"
          },
          "metadata": {}
        },
        {
          "output_type": "display_data",
          "data": {
            "text/plain": [
              "<IPython.core.display.Markdown object>"
            ],
            "text/markdown": "- Període: 2153.1569 dies, Potència: 4.8855e-02"
          },
          "metadata": {}
        },
        {
          "output_type": "display_data",
          "data": {
            "text/plain": [
              "<IPython.core.display.Markdown object>"
            ],
            "text/markdown": "- Període: 6459.4706 dies, Potència: 4.9781e-02"
          },
          "metadata": {}
        },
        {
          "output_type": "display_data",
          "data": {
            "text/plain": [
              "<IPython.core.display.Markdown object>"
            ],
            "text/markdown": "**No s'han trobat dades per a l'exoplaneta especificat.**"
          },
          "metadata": {}
        }
      ]
    }
  ]
}